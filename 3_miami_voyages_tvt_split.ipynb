{
 "cells": [
  {
   "cell_type": "code",
   "execution_count": 1,
   "metadata": {
    "collapsed": true
   },
   "outputs": [],
   "source": [
    "import datetime\n",
    "\n",
    "import pandas as pd"
   ]
  },
  {
   "cell_type": "code",
   "execution_count": 2,
   "metadata": {
    "collapsed": false
   },
   "outputs": [],
   "source": [
    "df = pd.read_csv(\"./data/2_miami_voyages.csv\")"
   ]
  },
  {
   "cell_type": "code",
   "execution_count": 3,
   "metadata": {
    "collapsed": false
   },
   "outputs": [
    {
     "data": {
      "text/html": [
       "<div>\n",
       "<style scoped>\n",
       "    .dataframe tbody tr th:only-of-type {\n",
       "        vertical-align: middle;\n",
       "    }\n",
       "\n",
       "    .dataframe tbody tr th {\n",
       "        vertical-align: top;\n",
       "    }\n",
       "\n",
       "    .dataframe thead th {\n",
       "        text-align: right;\n",
       "    }\n",
       "</style>\n",
       "<table border=\"1\" class=\"dataframe\">\n",
       "  <thead>\n",
       "    <tr style=\"text-align: right;\">\n",
       "      <th></th>\n",
       "      <th>vessel</th>\n",
       "      <th>voyage</th>\n",
       "      <th>voyage_id</th>\n",
       "      <th>BaseDateTime</th>\n",
       "      <th>LON</th>\n",
       "      <th>LAT</th>\n",
       "      <th>SOG</th>\n",
       "      <th>COG</th>\n",
       "      <th>distanceToPort</th>\n",
       "      <th>remainingVoyageTime</th>\n",
       "      <th>x</th>\n",
       "      <th>y</th>\n",
       "    </tr>\n",
       "  </thead>\n",
       "  <tbody>\n",
       "    <tr>\n",
       "      <th>0</th>\n",
       "      <td>1</td>\n",
       "      <td>0</td>\n",
       "      <td>1-0</td>\n",
       "      <td>2021-02-18 19:49:02</td>\n",
       "      <td>-78.91242</td>\n",
       "      <td>22.90467</td>\n",
       "      <td>13.5</td>\n",
       "      <td>271.7</td>\n",
       "      <td>203.383401</td>\n",
       "      <td>915.733333</td>\n",
       "      <td>-8.784490e+06</td>\n",
       "      <td>2.620494e+06</td>\n",
       "    </tr>\n",
       "    <tr>\n",
       "      <th>1</th>\n",
       "      <td>1</td>\n",
       "      <td>0</td>\n",
       "      <td>1-0</td>\n",
       "      <td>2021-02-18 19:53:46</td>\n",
       "      <td>-78.92096</td>\n",
       "      <td>22.92118</td>\n",
       "      <td>14.1</td>\n",
       "      <td>288.3</td>\n",
       "      <td>202.192672</td>\n",
       "      <td>911.000000</td>\n",
       "      <td>-8.785441e+06</td>\n",
       "      <td>2.622489e+06</td>\n",
       "    </tr>\n",
       "    <tr>\n",
       "      <th>2</th>\n",
       "      <td>1</td>\n",
       "      <td>0</td>\n",
       "      <td>1-0</td>\n",
       "      <td>2021-02-18 20:00:45</td>\n",
       "      <td>-78.93176</td>\n",
       "      <td>22.94673</td>\n",
       "      <td>14.1</td>\n",
       "      <td>287.7</td>\n",
       "      <td>200.403238</td>\n",
       "      <td>904.016667</td>\n",
       "      <td>-8.786643e+06</td>\n",
       "      <td>2.625578e+06</td>\n",
       "    </tr>\n",
       "    <tr>\n",
       "      <th>3</th>\n",
       "      <td>1</td>\n",
       "      <td>0</td>\n",
       "      <td>1-0</td>\n",
       "      <td>2021-02-18 20:03:22</td>\n",
       "      <td>-78.93592</td>\n",
       "      <td>22.95611</td>\n",
       "      <td>14.0</td>\n",
       "      <td>289.8</td>\n",
       "      <td>199.741903</td>\n",
       "      <td>901.400000</td>\n",
       "      <td>-8.787106e+06</td>\n",
       "      <td>2.626712e+06</td>\n",
       "    </tr>\n",
       "    <tr>\n",
       "      <th>4</th>\n",
       "      <td>1</td>\n",
       "      <td>0</td>\n",
       "      <td>1-0</td>\n",
       "      <td>2021-02-18 20:05:10</td>\n",
       "      <td>-78.93882</td>\n",
       "      <td>22.96262</td>\n",
       "      <td>14.0</td>\n",
       "      <td>287.1</td>\n",
       "      <td>199.282609</td>\n",
       "      <td>899.600000</td>\n",
       "      <td>-8.787429e+06</td>\n",
       "      <td>2.627499e+06</td>\n",
       "    </tr>\n",
       "  </tbody>\n",
       "</table>\n",
       "</div>"
      ],
      "text/plain": [
       "   vessel  voyage voyage_id         BaseDateTime       LON       LAT   SOG  \\\n",
       "0       1       0       1-0  2021-02-18 19:49:02 -78.91242  22.90467  13.5   \n",
       "1       1       0       1-0  2021-02-18 19:53:46 -78.92096  22.92118  14.1   \n",
       "2       1       0       1-0  2021-02-18 20:00:45 -78.93176  22.94673  14.1   \n",
       "3       1       0       1-0  2021-02-18 20:03:22 -78.93592  22.95611  14.0   \n",
       "4       1       0       1-0  2021-02-18 20:05:10 -78.93882  22.96262  14.0   \n",
       "\n",
       "     COG  distanceToPort  remainingVoyageTime             x             y  \n",
       "0  271.7      203.383401           915.733333 -8.784490e+06  2.620494e+06  \n",
       "1  288.3      202.192672           911.000000 -8.785441e+06  2.622489e+06  \n",
       "2  287.7      200.403238           904.016667 -8.786643e+06  2.625578e+06  \n",
       "3  289.8      199.741903           901.400000 -8.787106e+06  2.626712e+06  \n",
       "4  287.1      199.282609           899.600000 -8.787429e+06  2.627499e+06  "
      ]
     },
     "execution_count": 3,
     "metadata": {},
     "output_type": "execute_result"
    }
   ],
   "source": [
    "df.head()"
   ]
  },
  {
   "cell_type": "code",
   "execution_count": 4,
   "metadata": {
    "collapsed": false
   },
   "outputs": [],
   "source": [
    "df[\"BaseDateTime\"] = pd.to_datetime(df[\"BaseDateTime\"])"
   ]
  },
  {
   "cell_type": "code",
   "execution_count": 5,
   "metadata": {
    "collapsed": false
   },
   "outputs": [
    {
     "name": "stdout",
     "output_type": "stream",
     "text": [
      "<class 'pandas.core.frame.DataFrame'>\n",
      "RangeIndex: 1131636 entries, 0 to 1131635\n",
      "Data columns (total 12 columns):\n",
      " #   Column               Non-Null Count    Dtype         \n",
      "---  ------               --------------    -----         \n",
      " 0   vessel               1131636 non-null  int64         \n",
      " 1   voyage               1131636 non-null  int64         \n",
      " 2   voyage_id            1131636 non-null  object        \n",
      " 3   BaseDateTime         1131636 non-null  datetime64[ns]\n",
      " 4   LON                  1131636 non-null  float64       \n",
      " 5   LAT                  1131636 non-null  float64       \n",
      " 6   SOG                  1131636 non-null  float64       \n",
      " 7   COG                  1131636 non-null  float64       \n",
      " 8   distanceToPort       1131636 non-null  float64       \n",
      " 9   remainingVoyageTime  1131636 non-null  float64       \n",
      " 10  x                    1131636 non-null  float64       \n",
      " 11  y                    1131636 non-null  float64       \n",
      "dtypes: datetime64[ns](1), float64(8), int64(2), object(1)\n",
      "memory usage: 103.6+ MB\n"
     ]
    }
   ],
   "source": [
    "df.info()"
   ]
  },
  {
   "cell_type": "code",
   "execution_count": 6,
   "metadata": {
    "collapsed": false
   },
   "outputs": [],
   "source": [
    "# Train -> 01/2018 - 12/2019;\n",
    "# Val -> 01/2020 - 06/2020;\n",
    "# Test -> 07/2020 - 12/2020\n",
    "train = df.loc[(df[\"BaseDateTime\"] >= datetime.datetime(2018, 1, 1))\n",
    "               & (df[\"BaseDateTime\"] <= datetime.datetime(2019, 12, 31))]\n",
    "val = df.loc[(df[\"BaseDateTime\"] >= datetime.datetime(2020, 1, 1))\n",
    "             & (df[\"BaseDateTime\"] <= datetime.datetime(2020, 6, 30))]\n",
    "test = df.loc[(df[\"BaseDateTime\"] >= datetime.datetime(2020, 7, 1))\n",
    "              & (df[\"BaseDateTime\"] <= datetime.datetime(2020, 12, 31))]"
   ]
  },
  {
   "cell_type": "code",
   "execution_count": 7,
   "metadata": {
    "collapsed": false
   },
   "outputs": [
    {
     "data": {
      "text/html": [
       "<div>\n",
       "<style scoped>\n",
       "    .dataframe tbody tr th:only-of-type {\n",
       "        vertical-align: middle;\n",
       "    }\n",
       "\n",
       "    .dataframe tbody tr th {\n",
       "        vertical-align: top;\n",
       "    }\n",
       "\n",
       "    .dataframe thead th {\n",
       "        text-align: right;\n",
       "    }\n",
       "</style>\n",
       "<table border=\"1\" class=\"dataframe\">\n",
       "  <thead>\n",
       "    <tr style=\"text-align: right;\">\n",
       "      <th></th>\n",
       "      <th>vessel</th>\n",
       "      <th>voyage</th>\n",
       "      <th>voyage_id</th>\n",
       "      <th>BaseDateTime</th>\n",
       "      <th>LON</th>\n",
       "      <th>LAT</th>\n",
       "      <th>SOG</th>\n",
       "      <th>COG</th>\n",
       "      <th>distanceToPort</th>\n",
       "      <th>remainingVoyageTime</th>\n",
       "      <th>x</th>\n",
       "      <th>y</th>\n",
       "    </tr>\n",
       "  </thead>\n",
       "  <tbody>\n",
       "  </tbody>\n",
       "</table>\n",
       "</div>"
      ],
      "text/plain": [
       "Empty DataFrame\n",
       "Columns: [vessel, voyage, voyage_id, BaseDateTime, LON, LAT, SOG, COG, distanceToPort, remainingVoyageTime, x, y]\n",
       "Index: []"
      ]
     },
     "metadata": {},
     "output_type": "display_data"
    }
   ],
   "source": [
    "# Check if any voyage has samples outside the defined timespans\n",
    "train_voyages = train[\"voyage_id\"].unique()\n",
    "\n",
    "display(df.loc[(df[\"voyage_id\"].isin(train_voyages))\n",
    "               & (df[\"BaseDateTime\"] < datetime.datetime(2018, 1, 1))])"
   ]
  },
  {
   "cell_type": "code",
   "execution_count": 8,
   "metadata": {
    "collapsed": false
   },
   "outputs": [
    {
     "data": {
      "text/html": [
       "<div>\n",
       "<style scoped>\n",
       "    .dataframe tbody tr th:only-of-type {\n",
       "        vertical-align: middle;\n",
       "    }\n",
       "\n",
       "    .dataframe tbody tr th {\n",
       "        vertical-align: top;\n",
       "    }\n",
       "\n",
       "    .dataframe thead th {\n",
       "        text-align: right;\n",
       "    }\n",
       "</style>\n",
       "<table border=\"1\" class=\"dataframe\">\n",
       "  <thead>\n",
       "    <tr style=\"text-align: right;\">\n",
       "      <th></th>\n",
       "      <th>vessel</th>\n",
       "      <th>voyage</th>\n",
       "      <th>voyage_id</th>\n",
       "      <th>BaseDateTime</th>\n",
       "      <th>LON</th>\n",
       "      <th>LAT</th>\n",
       "      <th>SOG</th>\n",
       "      <th>COG</th>\n",
       "      <th>distanceToPort</th>\n",
       "      <th>remainingVoyageTime</th>\n",
       "      <th>x</th>\n",
       "      <th>y</th>\n",
       "    </tr>\n",
       "  </thead>\n",
       "  <tbody>\n",
       "  </tbody>\n",
       "</table>\n",
       "</div>"
      ],
      "text/plain": [
       "Empty DataFrame\n",
       "Columns: [vessel, voyage, voyage_id, BaseDateTime, LON, LAT, SOG, COG, distanceToPort, remainingVoyageTime, x, y]\n",
       "Index: []"
      ]
     },
     "metadata": {},
     "output_type": "display_data"
    }
   ],
   "source": [
    "# Check if any voyage has samples outside the defined timespans\n",
    "val_voyages = val[\"voyage_id\"].unique()\n",
    "\n",
    "display(df.loc[(df[\"voyage_id\"].isin(val_voyages))\n",
    "               & (df[\"BaseDateTime\"] < datetime.datetime(2020, 1, 1))])"
   ]
  },
  {
   "cell_type": "code",
   "execution_count": 9,
   "metadata": {
    "collapsed": false
   },
   "outputs": [
    {
     "data": {
      "text/html": [
       "<div>\n",
       "<style scoped>\n",
       "    .dataframe tbody tr th:only-of-type {\n",
       "        vertical-align: middle;\n",
       "    }\n",
       "\n",
       "    .dataframe tbody tr th {\n",
       "        vertical-align: top;\n",
       "    }\n",
       "\n",
       "    .dataframe thead th {\n",
       "        text-align: right;\n",
       "    }\n",
       "</style>\n",
       "<table border=\"1\" class=\"dataframe\">\n",
       "  <thead>\n",
       "    <tr style=\"text-align: right;\">\n",
       "      <th></th>\n",
       "      <th>vessel</th>\n",
       "      <th>voyage</th>\n",
       "      <th>voyage_id</th>\n",
       "      <th>BaseDateTime</th>\n",
       "      <th>LON</th>\n",
       "      <th>LAT</th>\n",
       "      <th>SOG</th>\n",
       "      <th>COG</th>\n",
       "      <th>distanceToPort</th>\n",
       "      <th>remainingVoyageTime</th>\n",
       "      <th>x</th>\n",
       "      <th>y</th>\n",
       "    </tr>\n",
       "  </thead>\n",
       "  <tbody>\n",
       "  </tbody>\n",
       "</table>\n",
       "</div>"
      ],
      "text/plain": [
       "Empty DataFrame\n",
       "Columns: [vessel, voyage, voyage_id, BaseDateTime, LON, LAT, SOG, COG, distanceToPort, remainingVoyageTime, x, y]\n",
       "Index: []"
      ]
     },
     "metadata": {},
     "output_type": "display_data"
    },
    {
     "data": {
      "text/html": [
       "<div>\n",
       "<style scoped>\n",
       "    .dataframe tbody tr th:only-of-type {\n",
       "        vertical-align: middle;\n",
       "    }\n",
       "\n",
       "    .dataframe tbody tr th {\n",
       "        vertical-align: top;\n",
       "    }\n",
       "\n",
       "    .dataframe thead th {\n",
       "        text-align: right;\n",
       "    }\n",
       "</style>\n",
       "<table border=\"1\" class=\"dataframe\">\n",
       "  <thead>\n",
       "    <tr style=\"text-align: right;\">\n",
       "      <th></th>\n",
       "      <th>vessel</th>\n",
       "      <th>voyage</th>\n",
       "      <th>voyage_id</th>\n",
       "      <th>BaseDateTime</th>\n",
       "      <th>LON</th>\n",
       "      <th>LAT</th>\n",
       "      <th>SOG</th>\n",
       "      <th>COG</th>\n",
       "      <th>distanceToPort</th>\n",
       "      <th>remainingVoyageTime</th>\n",
       "      <th>x</th>\n",
       "      <th>y</th>\n",
       "    </tr>\n",
       "  </thead>\n",
       "  <tbody>\n",
       "  </tbody>\n",
       "</table>\n",
       "</div>"
      ],
      "text/plain": [
       "Empty DataFrame\n",
       "Columns: [vessel, voyage, voyage_id, BaseDateTime, LON, LAT, SOG, COG, distanceToPort, remainingVoyageTime, x, y]\n",
       "Index: []"
      ]
     },
     "metadata": {},
     "output_type": "display_data"
    }
   ],
   "source": [
    "# Check if any voyage has samples outside the defined timespans\n",
    "test_voyages = test[\"voyage_id\"].unique()\n",
    "\n",
    "display(df.loc[(df[\"voyage_id\"].isin(test_voyages))\n",
    "               & (df[\"BaseDateTime\"] < datetime.datetime(2020, 7, 1))])\n",
    "\n",
    "display(df.loc[(df[\"voyage_id\"].isin(test_voyages))\n",
    "               & (df[\"BaseDateTime\"] > datetime.datetime(2020, 12, 31))])"
   ]
  },
  {
   "cell_type": "markdown",
   "metadata": {
    "collapsed": false
   },
   "source": [
    "- As viagens estão todas completas e só num conjunto."
   ]
  },
  {
   "cell_type": "code",
   "execution_count": 10,
   "metadata": {
    "collapsed": false
   },
   "outputs": [],
   "source": [
    "train.to_csv(\"./data/3_miami_train_to_fill.csv\", index=False)\n",
    "val.to_csv(\"./data/3_miami_val_to_fill.csv\", index=False)\n",
    "test.to_csv(\"./data/3_miami_test_to_fill.csv\", index=False)"
   ]
  }
 ],
 "metadata": {
  "kernelspec": {
   "display_name": "Python 3",
   "language": "python",
   "name": "python3"
  },
  "language_info": {
   "codemirror_mode": {
    "name": "ipython",
    "version": 3
   },
   "file_extension": ".py",
   "mimetype": "text/x-python",
   "name": "python",
   "nbconvert_exporter": "python",
   "pygments_lexer": "ipython3",
   "version": "3.12.4"
  }
 },
 "nbformat": 4,
 "nbformat_minor": 0
}

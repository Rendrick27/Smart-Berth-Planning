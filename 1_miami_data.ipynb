{
 "cells": [
  {
   "cell_type": "code",
   "execution_count": 1,
   "metadata": {
    "collapsed": true
   },
   "outputs": [],
   "source": [
    "import os\n",
    "import datetime\n",
    "\n",
    "import numpy as np\n",
    "import pandas as pd\n",
    "\n",
    "from pyproj import Transformer\n",
    "import geopandas as gpd\n",
    "from shapely.geometry import Point\n",
    "import movingpandas as mpd\n",
    "\n",
    "import matplotlib.pyplot as plt\n",
    "import scienceplots\n",
    "plt.style.use(\"science\")\n",
    "import seaborn as sns\n",
    "\n",
    "import folium as fl\n",
    "from folium.plugins import FastMarkerCluster"
   ]
  },
  {
   "attachments": {},
   "cell_type": "markdown",
   "metadata": {
    "collapsed": false
   },
   "source": [
    "# Load Data"
   ]
  },
  {
   "cell_type": "code",
   "execution_count": 2,
   "metadata": {
    "collapsed": false
   },
   "outputs": [],
   "source": [
    "def load_vessel_ais_data(path, filename):\n",
    "\n",
    "    if filename != \"17.csv\":\n",
    "        ais = pd.read_csv(\"\".join([path, filename]), delimiter=\",\").iloc[:, 2:]\n",
    "    else:\n",
    "        ais = pd.read_csv(\"\".join([path, filename]), delimiter=\";\").iloc[:, 2:]\n",
    "        ais[[\"LAT\", \"LON\", \"SOG\", \"COG\", \"Heading\", \"distanceToPort\", \"timeToPort\"]] = ais[[\"LAT\", \"LON\", \"SOG\", \"COG\", \"Heading\", \"distanceToPort\", \"timeToPort\"]].apply(lambda x: x.str.replace(\",\", \".\").astype(\"float\"), axis=1)\n",
    "\n",
    "    ais[\"BaseDateTime\"] = pd.to_datetime(ais[\"BaseDateTime\"])\n",
    "    ais[\"vessel\"] = np.repeat(a=int(filename.split(\".\")[0]), repeats=ais.shape[0])\n",
    "    ais = ais[::-1]\n",
    "    return ais\n",
    "\n",
    "def load_csvs_in_dir_to_df(dir_path):\n",
    "\n",
    "    df = pd.DataFrame()\n",
    "    for file in os.listdir(dir_path):\n",
    "        if file.endswith(\".csv\"):\n",
    "            df = pd.concat((df, load_vessel_ais_data(dir_path, file)), axis=0)\n",
    "    df.sort_values(by=[\"vessel\", \"BaseDateTime\"], ascending=True, inplace=True)\n",
    "    df.reset_index(drop=True, inplace=True)\n",
    "    return df"
   ]
  },
  {
   "cell_type": "code",
   "execution_count": 20,
   "metadata": {
    "collapsed": false
   },
   "outputs": [
    {
     "name": "stderr",
     "output_type": "stream",
     "text": [
      "/var/folders/20/m3t9trt177390cx_80yzc8wc0000gn/T/ipykernel_2260/1956741285.py:9: UserWarning: Parsing dates in %d.%m.%Y %H:%M format when dayfirst=False (the default) was specified. Pass `dayfirst=True` or specify a format to silence this warning.\n",
      "  ais[\"BaseDateTime\"] = pd.to_datetime(ais[\"BaseDateTime\"])\n"
     ]
    }
   ],
   "source": [
    "df = load_csvs_in_dir_to_df(\"../data/miami_data/\")"
   ]
  },
  {
   "cell_type": "code",
   "execution_count": 21,
   "metadata": {
    "collapsed": false
   },
   "outputs": [
    {
     "data": {
      "text/html": [
       "<div>\n",
       "<style scoped>\n",
       "    .dataframe tbody tr th:only-of-type {\n",
       "        vertical-align: middle;\n",
       "    }\n",
       "\n",
       "    .dataframe tbody tr th {\n",
       "        vertical-align: top;\n",
       "    }\n",
       "\n",
       "    .dataframe thead th {\n",
       "        text-align: right;\n",
       "    }\n",
       "</style>\n",
       "<table border=\"1\" class=\"dataframe\">\n",
       "  <thead>\n",
       "    <tr style=\"text-align: right;\">\n",
       "      <th></th>\n",
       "      <th>BaseDateTime</th>\n",
       "      <th>LAT</th>\n",
       "      <th>LON</th>\n",
       "      <th>SOG</th>\n",
       "      <th>COG</th>\n",
       "      <th>Heading</th>\n",
       "      <th>VesselType</th>\n",
       "      <th>Status</th>\n",
       "      <th>Length</th>\n",
       "      <th>Width</th>\n",
       "      <th>Draft</th>\n",
       "      <th>Cargo</th>\n",
       "      <th>distanceToPort</th>\n",
       "      <th>timeToPort</th>\n",
       "      <th>vessel</th>\n",
       "    </tr>\n",
       "  </thead>\n",
       "  <tbody>\n",
       "    <tr>\n",
       "      <th>0</th>\n",
       "      <td>2021-02-18 19:49:02</td>\n",
       "      <td>22.90467</td>\n",
       "      <td>-78.91242</td>\n",
       "      <td>13.5</td>\n",
       "      <td>-88.3</td>\n",
       "      <td>319.0</td>\n",
       "      <td>70.0</td>\n",
       "      <td>0.0</td>\n",
       "      <td>134.0</td>\n",
       "      <td>22.0</td>\n",
       "      <td>8.7</td>\n",
       "      <td>71.0</td>\n",
       "      <td>184.060232</td>\n",
       "      <td>915.733333</td>\n",
       "      <td>1</td>\n",
       "    </tr>\n",
       "    <tr>\n",
       "      <th>1</th>\n",
       "      <td>2021-02-18 19:53:46</td>\n",
       "      <td>22.92118</td>\n",
       "      <td>-78.92096</td>\n",
       "      <td>14.1</td>\n",
       "      <td>-71.7</td>\n",
       "      <td>337.0</td>\n",
       "      <td>70.0</td>\n",
       "      <td>0.0</td>\n",
       "      <td>134.0</td>\n",
       "      <td>22.0</td>\n",
       "      <td>8.7</td>\n",
       "      <td>71.0</td>\n",
       "      <td>182.968530</td>\n",
       "      <td>911.000000</td>\n",
       "      <td>1</td>\n",
       "    </tr>\n",
       "    <tr>\n",
       "      <th>2</th>\n",
       "      <td>2021-02-18 20:00:45</td>\n",
       "      <td>22.94673</td>\n",
       "      <td>-78.93176</td>\n",
       "      <td>14.1</td>\n",
       "      <td>-72.3</td>\n",
       "      <td>337.0</td>\n",
       "      <td>70.0</td>\n",
       "      <td>0.0</td>\n",
       "      <td>134.0</td>\n",
       "      <td>22.0</td>\n",
       "      <td>8.7</td>\n",
       "      <td>71.0</td>\n",
       "      <td>181.327811</td>\n",
       "      <td>904.016667</td>\n",
       "      <td>1</td>\n",
       "    </tr>\n",
       "    <tr>\n",
       "      <th>3</th>\n",
       "      <td>2021-02-18 20:03:22</td>\n",
       "      <td>22.95611</td>\n",
       "      <td>-78.93592</td>\n",
       "      <td>14.0</td>\n",
       "      <td>-70.2</td>\n",
       "      <td>337.0</td>\n",
       "      <td>70.0</td>\n",
       "      <td>0.0</td>\n",
       "      <td>134.0</td>\n",
       "      <td>22.0</td>\n",
       "      <td>8.7</td>\n",
       "      <td>71.0</td>\n",
       "      <td>180.721544</td>\n",
       "      <td>901.400000</td>\n",
       "      <td>1</td>\n",
       "    </tr>\n",
       "    <tr>\n",
       "      <th>4</th>\n",
       "      <td>2021-02-18 20:05:10</td>\n",
       "      <td>22.96262</td>\n",
       "      <td>-78.93882</td>\n",
       "      <td>14.0</td>\n",
       "      <td>-72.9</td>\n",
       "      <td>337.0</td>\n",
       "      <td>70.0</td>\n",
       "      <td>0.0</td>\n",
       "      <td>134.0</td>\n",
       "      <td>22.0</td>\n",
       "      <td>8.7</td>\n",
       "      <td>71.0</td>\n",
       "      <td>180.300520</td>\n",
       "      <td>899.600000</td>\n",
       "      <td>1</td>\n",
       "    </tr>\n",
       "  </tbody>\n",
       "</table>\n",
       "</div>"
      ],
      "text/plain": [
       "         BaseDateTime       LAT       LON   SOG   COG  Heading  VesselType  \\\n",
       "0 2021-02-18 19:49:02  22.90467 -78.91242  13.5 -88.3    319.0        70.0   \n",
       "1 2021-02-18 19:53:46  22.92118 -78.92096  14.1 -71.7    337.0        70.0   \n",
       "2 2021-02-18 20:00:45  22.94673 -78.93176  14.1 -72.3    337.0        70.0   \n",
       "3 2021-02-18 20:03:22  22.95611 -78.93592  14.0 -70.2    337.0        70.0   \n",
       "4 2021-02-18 20:05:10  22.96262 -78.93882  14.0 -72.9    337.0        70.0   \n",
       "\n",
       "   Status  Length  Width  Draft  Cargo  distanceToPort  timeToPort  vessel  \n",
       "0     0.0   134.0   22.0    8.7   71.0      184.060232  915.733333       1  \n",
       "1     0.0   134.0   22.0    8.7   71.0      182.968530  911.000000       1  \n",
       "2     0.0   134.0   22.0    8.7   71.0      181.327811  904.016667       1  \n",
       "3     0.0   134.0   22.0    8.7   71.0      180.721544  901.400000       1  \n",
       "4     0.0   134.0   22.0    8.7   71.0      180.300520  899.600000       1  "
      ]
     },
     "execution_count": 21,
     "metadata": {},
     "output_type": "execute_result"
    }
   ],
   "source": [
    "df.head()"
   ]
  },
  {
   "attachments": {},
   "cell_type": "markdown",
   "metadata": {
    "collapsed": false
   },
   "source": [
    "# EDA"
   ]
  },
  {
   "cell_type": "code",
   "execution_count": 22,
   "metadata": {
    "collapsed": false
   },
   "outputs": [],
   "source": [
    "df = df[[\"BaseDateTime\", \"LAT\", \"LON\", \"SOG\", \"COG\", \"Status\",\n",
    "         \"distanceToPort\", \"timeToPort\", \"vessel\"]]"
   ]
  },
  {
   "cell_type": "code",
   "execution_count": 23,
   "metadata": {
    "collapsed": false
   },
   "outputs": [
    {
     "data": {
      "text/plain": [
       "Timestamp('2021-03-28 23:57:41')"
      ]
     },
     "execution_count": 23,
     "metadata": {},
     "output_type": "execute_result"
    }
   ],
   "source": [
    "df.BaseDateTime.max()"
   ]
  },
  {
   "cell_type": "code",
   "execution_count": 24,
   "metadata": {
    "collapsed": false
   },
   "outputs": [
    {
     "data": {
      "text/html": [
       "<div>\n",
       "<style scoped>\n",
       "    .dataframe tbody tr th:only-of-type {\n",
       "        vertical-align: middle;\n",
       "    }\n",
       "\n",
       "    .dataframe tbody tr th {\n",
       "        vertical-align: top;\n",
       "    }\n",
       "\n",
       "    .dataframe thead th {\n",
       "        text-align: right;\n",
       "    }\n",
       "</style>\n",
       "<table border=\"1\" class=\"dataframe\">\n",
       "  <thead>\n",
       "    <tr style=\"text-align: right;\">\n",
       "      <th></th>\n",
       "      <th>BaseDateTime</th>\n",
       "      <th>LAT</th>\n",
       "      <th>LON</th>\n",
       "      <th>SOG</th>\n",
       "      <th>COG</th>\n",
       "      <th>Status</th>\n",
       "      <th>distanceToPort</th>\n",
       "      <th>timeToPort</th>\n",
       "      <th>vessel</th>\n",
       "    </tr>\n",
       "  </thead>\n",
       "  <tbody>\n",
       "    <tr>\n",
       "      <th>count</th>\n",
       "      <td>2157897</td>\n",
       "      <td>2.157897e+06</td>\n",
       "      <td>2.157897e+06</td>\n",
       "      <td>2.157897e+06</td>\n",
       "      <td>2.157897e+06</td>\n",
       "      <td>2.157897e+06</td>\n",
       "      <td>2.042740e+06</td>\n",
       "      <td>2.042740e+06</td>\n",
       "      <td>2.157897e+06</td>\n",
       "    </tr>\n",
       "    <tr>\n",
       "      <th>mean</th>\n",
       "      <td>2019-07-28 18:26:13.138666496</td>\n",
       "      <td>2.673430e+01</td>\n",
       "      <td>-8.042582e+01</td>\n",
       "      <td>9.044282e+00</td>\n",
       "      <td>4.679320e+01</td>\n",
       "      <td>1.308653e+00</td>\n",
       "      <td>9.644388e+01</td>\n",
       "      <td>1.540073e+04</td>\n",
       "      <td>1.225098e+02</td>\n",
       "    </tr>\n",
       "    <tr>\n",
       "      <th>min</th>\n",
       "      <td>2018-01-01 00:00:02</td>\n",
       "      <td>6.917170e+00</td>\n",
       "      <td>-9.787418e+01</td>\n",
       "      <td>-5.050000e+01</td>\n",
       "      <td>-2.048000e+02</td>\n",
       "      <td>0.000000e+00</td>\n",
       "      <td>0.000000e+00</td>\n",
       "      <td>0.000000e+00</td>\n",
       "      <td>1.000000e+00</td>\n",
       "    </tr>\n",
       "    <tr>\n",
       "      <th>25%</th>\n",
       "      <td>2018-09-22 13:53:58</td>\n",
       "      <td>2.576502e+01</td>\n",
       "      <td>-8.015938e+01</td>\n",
       "      <td>1.000000e-01</td>\n",
       "      <td>-6.960000e+01</td>\n",
       "      <td>0.000000e+00</td>\n",
       "      <td>1.141547e-02</td>\n",
       "      <td>3.624500e+02</td>\n",
       "      <td>5.100000e+01</td>\n",
       "    </tr>\n",
       "    <tr>\n",
       "      <th>50%</th>\n",
       "      <td>2019-07-19 18:02:10</td>\n",
       "      <td>2.576629e+01</td>\n",
       "      <td>-8.014415e+01</td>\n",
       "      <td>1.070000e+01</td>\n",
       "      <td>8.210000e+01</td>\n",
       "      <td>0.000000e+00</td>\n",
       "      <td>4.415044e+01</td>\n",
       "      <td>8.400167e+02</td>\n",
       "      <td>1.250000e+02</td>\n",
       "    </tr>\n",
       "    <tr>\n",
       "      <th>75%</th>\n",
       "      <td>2020-05-23 05:47:15</td>\n",
       "      <td>2.741316e+01</td>\n",
       "      <td>-7.985707e+01</td>\n",
       "      <td>1.510000e+01</td>\n",
       "      <td>1.723000e+02</td>\n",
       "      <td>5.000000e+00</td>\n",
       "      <td>1.499689e+02</td>\n",
       "      <td>1.738383e+03</td>\n",
       "      <td>1.930000e+02</td>\n",
       "    </tr>\n",
       "    <tr>\n",
       "      <th>max</th>\n",
       "      <td>2021-03-28 23:57:41</td>\n",
       "      <td>4.067740e+01</td>\n",
       "      <td>-6.651545e+01</td>\n",
       "      <td>4.890000e+01</td>\n",
       "      <td>2.047000e+02</td>\n",
       "      <td>5.000000e+00</td>\n",
       "      <td>1.506198e+03</td>\n",
       "      <td>1.511279e+06</td>\n",
       "      <td>2.710000e+02</td>\n",
       "    </tr>\n",
       "    <tr>\n",
       "      <th>std</th>\n",
       "      <td>NaN</td>\n",
       "      <td>2.208677e+00</td>\n",
       "      <td>1.622492e+00</td>\n",
       "      <td>7.090697e+00</td>\n",
       "      <td>1.284289e+02</td>\n",
       "      <td>2.192971e+00</td>\n",
       "      <td>1.232398e+02</td>\n",
       "      <td>6.559350e+04</td>\n",
       "      <td>7.742205e+01</td>\n",
       "    </tr>\n",
       "  </tbody>\n",
       "</table>\n",
       "</div>"
      ],
      "text/plain": [
       "                        BaseDateTime           LAT           LON  \\\n",
       "count                        2157897  2.157897e+06  2.157897e+06   \n",
       "mean   2019-07-28 18:26:13.138666496  2.673430e+01 -8.042582e+01   \n",
       "min              2018-01-01 00:00:02  6.917170e+00 -9.787418e+01   \n",
       "25%              2018-09-22 13:53:58  2.576502e+01 -8.015938e+01   \n",
       "50%              2019-07-19 18:02:10  2.576629e+01 -8.014415e+01   \n",
       "75%              2020-05-23 05:47:15  2.741316e+01 -7.985707e+01   \n",
       "max              2021-03-28 23:57:41  4.067740e+01 -6.651545e+01   \n",
       "std                              NaN  2.208677e+00  1.622492e+00   \n",
       "\n",
       "                SOG           COG        Status  distanceToPort    timeToPort  \\\n",
       "count  2.157897e+06  2.157897e+06  2.157897e+06    2.042740e+06  2.042740e+06   \n",
       "mean   9.044282e+00  4.679320e+01  1.308653e+00    9.644388e+01  1.540073e+04   \n",
       "min   -5.050000e+01 -2.048000e+02  0.000000e+00    0.000000e+00  0.000000e+00   \n",
       "25%    1.000000e-01 -6.960000e+01  0.000000e+00    1.141547e-02  3.624500e+02   \n",
       "50%    1.070000e+01  8.210000e+01  0.000000e+00    4.415044e+01  8.400167e+02   \n",
       "75%    1.510000e+01  1.723000e+02  5.000000e+00    1.499689e+02  1.738383e+03   \n",
       "max    4.890000e+01  2.047000e+02  5.000000e+00    1.506198e+03  1.511279e+06   \n",
       "std    7.090697e+00  1.284289e+02  2.192971e+00    1.232398e+02  6.559350e+04   \n",
       "\n",
       "             vessel  \n",
       "count  2.157897e+06  \n",
       "mean   1.225098e+02  \n",
       "min    1.000000e+00  \n",
       "25%    5.100000e+01  \n",
       "50%    1.250000e+02  \n",
       "75%    1.930000e+02  \n",
       "max    2.710000e+02  \n",
       "std    7.742205e+01  "
      ]
     },
     "execution_count": 24,
     "metadata": {},
     "output_type": "execute_result"
    }
   ],
   "source": [
    "df.describe()"
   ]
  },
  {
   "cell_type": "code",
   "execution_count": 25,
   "metadata": {},
   "outputs": [
    {
     "data": {
      "image/png": "[encoded data removed]",
      "text/plain": [
       "<Figure size 1000x500 with 2 Axes>"
      ]
     },
     "metadata": {},
     "output_type": "display_data"
    }
   ],
   "source": [
    "fig, axs = plt.subplots(ncols=2, figsize=(10,5))\n",
    "sns.histplot(data=df, x=\"SOG\", bins=100, ax=axs[0])\n",
    "axs[0].set_xlabel(\"SOG (knots)\")\n",
    "sns.histplot(data=df, x=\"COG\", ax=axs[1])\n",
    "axs[1].set_xlabel(\"COG (degrees)\")\n",
    "plt.savefig(\"../figures/tese/metodos/miami_data_hist\")\n",
    "plt.show()"
   ]
  },
  {
   "attachments": {},
   "cell_type": "markdown",
   "metadata": {
    "collapsed": false
   },
   "source": [
    "# Data Cleaning"
   ]
  },
  {
   "cell_type": "code",
   "execution_count": 13,
   "metadata": {
    "collapsed": false
   },
   "outputs": [],
   "source": [
    "df_clean = df.copy()"
   ]
  },
  {
   "cell_type": "code",
   "execution_count": 14,
   "metadata": {
    "collapsed": false
   },
   "outputs": [],
   "source": [
    "df_clean[\"SOG\"] = df_clean[\"SOG\"].abs()\n",
    "df_clean[\"COG\"] = df_clean[\"COG\"] % 360 # the same as summing 360 to negative values\n",
    "df_clean = df_clean[[\"BaseDateTime\", \"LON\", \"LAT\", \"SOG\", \"COG\", \"Status\", \"vessel\"]]"
   ]
  },
  {
   "attachments": {},
   "cell_type": "markdown",
   "metadata": {
    "collapsed": false
   },
   "source": [
    "# Save File"
   ]
  },
  {
   "cell_type": "code",
   "execution_count": 15,
   "metadata": {
    "collapsed": false
   },
   "outputs": [
    {
     "data": {
      "text/html": [
       "<div>\n",
       "<style scoped>\n",
       "    .dataframe tbody tr th:only-of-type {\n",
       "        vertical-align: middle;\n",
       "    }\n",
       "\n",
       "    .dataframe tbody tr th {\n",
       "        vertical-align: top;\n",
       "    }\n",
       "\n",
       "    .dataframe thead th {\n",
       "        text-align: right;\n",
       "    }\n",
       "</style>\n",
       "<table border=\"1\" class=\"dataframe\">\n",
       "  <thead>\n",
       "    <tr style=\"text-align: right;\">\n",
       "      <th></th>\n",
       "      <th>BaseDateTime</th>\n",
       "      <th>LON</th>\n",
       "      <th>LAT</th>\n",
       "      <th>SOG</th>\n",
       "      <th>COG</th>\n",
       "      <th>Status</th>\n",
       "      <th>vessel</th>\n",
       "    </tr>\n",
       "  </thead>\n",
       "  <tbody>\n",
       "    <tr>\n",
       "      <th>0</th>\n",
       "      <td>2021-02-18 19:49:02</td>\n",
       "      <td>-78.91242</td>\n",
       "      <td>22.90467</td>\n",
       "      <td>13.5</td>\n",
       "      <td>271.7</td>\n",
       "      <td>0.0</td>\n",
       "      <td>1</td>\n",
       "    </tr>\n",
       "    <tr>\n",
       "      <th>1</th>\n",
       "      <td>2021-02-18 19:53:46</td>\n",
       "      <td>-78.92096</td>\n",
       "      <td>22.92118</td>\n",
       "      <td>14.1</td>\n",
       "      <td>288.3</td>\n",
       "      <td>0.0</td>\n",
       "      <td>1</td>\n",
       "    </tr>\n",
       "    <tr>\n",
       "      <th>2</th>\n",
       "      <td>2021-02-18 20:00:45</td>\n",
       "      <td>-78.93176</td>\n",
       "      <td>22.94673</td>\n",
       "      <td>14.1</td>\n",
       "      <td>287.7</td>\n",
       "      <td>0.0</td>\n",
       "      <td>1</td>\n",
       "    </tr>\n",
       "    <tr>\n",
       "      <th>3</th>\n",
       "      <td>2021-02-18 20:03:22</td>\n",
       "      <td>-78.93592</td>\n",
       "      <td>22.95611</td>\n",
       "      <td>14.0</td>\n",
       "      <td>289.8</td>\n",
       "      <td>0.0</td>\n",
       "      <td>1</td>\n",
       "    </tr>\n",
       "    <tr>\n",
       "      <th>4</th>\n",
       "      <td>2021-02-18 20:05:10</td>\n",
       "      <td>-78.93882</td>\n",
       "      <td>22.96262</td>\n",
       "      <td>14.0</td>\n",
       "      <td>287.1</td>\n",
       "      <td>0.0</td>\n",
       "      <td>1</td>\n",
       "    </tr>\n",
       "    <tr>\n",
       "      <th>...</th>\n",
       "      <td>...</td>\n",
       "      <td>...</td>\n",
       "      <td>...</td>\n",
       "      <td>...</td>\n",
       "      <td>...</td>\n",
       "      <td>...</td>\n",
       "      <td>...</td>\n",
       "    </tr>\n",
       "    <tr>\n",
       "      <th>2157892</th>\n",
       "      <td>2020-03-15 04:09:26</td>\n",
       "      <td>-80.10817</td>\n",
       "      <td>25.75763</td>\n",
       "      <td>7.2</td>\n",
       "      <td>103.0</td>\n",
       "      <td>5.0</td>\n",
       "      <td>271</td>\n",
       "    </tr>\n",
       "    <tr>\n",
       "      <th>2157893</th>\n",
       "      <td>2020-03-15 04:10:37</td>\n",
       "      <td>-80.10546</td>\n",
       "      <td>25.75724</td>\n",
       "      <td>7.9</td>\n",
       "      <td>96.8</td>\n",
       "      <td>5.0</td>\n",
       "      <td>271</td>\n",
       "    </tr>\n",
       "    <tr>\n",
       "      <th>2157894</th>\n",
       "      <td>2020-03-15 04:11:48</td>\n",
       "      <td>-80.10266</td>\n",
       "      <td>25.75659</td>\n",
       "      <td>8.2</td>\n",
       "      <td>107.6</td>\n",
       "      <td>5.0</td>\n",
       "      <td>271</td>\n",
       "    </tr>\n",
       "    <tr>\n",
       "      <th>2157895</th>\n",
       "      <td>2020-03-15 04:12:56</td>\n",
       "      <td>-80.09989</td>\n",
       "      <td>25.75628</td>\n",
       "      <td>7.9</td>\n",
       "      <td>88.6</td>\n",
       "      <td>5.0</td>\n",
       "      <td>271</td>\n",
       "    </tr>\n",
       "    <tr>\n",
       "      <th>2157896</th>\n",
       "      <td>2020-03-15 04:14:08</td>\n",
       "      <td>-80.09696</td>\n",
       "      <td>25.75662</td>\n",
       "      <td>8.1</td>\n",
       "      <td>88.2</td>\n",
       "      <td>0.0</td>\n",
       "      <td>271</td>\n",
       "    </tr>\n",
       "  </tbody>\n",
       "</table>\n",
       "<p>2157897 rows × 7 columns</p>\n",
       "</div>"
      ],
      "text/plain": [
       "               BaseDateTime       LON       LAT   SOG    COG  Status  vessel\n",
       "0       2021-02-18 19:49:02 -78.91242  22.90467  13.5  271.7     0.0       1\n",
       "1       2021-02-18 19:53:46 -78.92096  22.92118  14.1  288.3     0.0       1\n",
       "2       2021-02-18 20:00:45 -78.93176  22.94673  14.1  287.7     0.0       1\n",
       "3       2021-02-18 20:03:22 -78.93592  22.95611  14.0  289.8     0.0       1\n",
       "4       2021-02-18 20:05:10 -78.93882  22.96262  14.0  287.1     0.0       1\n",
       "...                     ...       ...       ...   ...    ...     ...     ...\n",
       "2157892 2020-03-15 04:09:26 -80.10817  25.75763   7.2  103.0     5.0     271\n",
       "2157893 2020-03-15 04:10:37 -80.10546  25.75724   7.9   96.8     5.0     271\n",
       "2157894 2020-03-15 04:11:48 -80.10266  25.75659   8.2  107.6     5.0     271\n",
       "2157895 2020-03-15 04:12:56 -80.09989  25.75628   7.9   88.6     5.0     271\n",
       "2157896 2020-03-15 04:14:08 -80.09696  25.75662   8.1   88.2     0.0     271\n",
       "\n",
       "[2157897 rows x 7 columns]"
      ]
     },
     "execution_count": 15,
     "metadata": {},
     "output_type": "execute_result"
    }
   ],
   "source": [
    "df_clean"
   ]
  },
  {
   "cell_type": "code",
   "execution_count": 16,
   "metadata": {
    "collapsed": false
   },
   "outputs": [
    {
     "name": "stdout",
     "output_type": "stream",
     "text": [
      "<class 'pandas.core.frame.DataFrame'>\n",
      "RangeIndex: 2157897 entries, 0 to 2157896\n",
      "Data columns (total 7 columns):\n",
      " #   Column        Dtype         \n",
      "---  ------        -----         \n",
      " 0   BaseDateTime  datetime64[ns]\n",
      " 1   LON           float64       \n",
      " 2   LAT           float64       \n",
      " 3   SOG           float64       \n",
      " 4   COG           float64       \n",
      " 5   Status        float64       \n",
      " 6   vessel        int64         \n",
      "dtypes: datetime64[ns](1), float64(5), int64(1)\n",
      "memory usage: 115.2 MB\n"
     ]
    }
   ],
   "source": [
    "df_clean.info()"
   ]
  },
  {
   "cell_type": "code",
   "execution_count": 17,
   "metadata": {
    "collapsed": false
   },
   "outputs": [
    {
     "data": {
      "text/html": [
       "<div>\n",
       "<style scoped>\n",
       "    .dataframe tbody tr th:only-of-type {\n",
       "        vertical-align: middle;\n",
       "    }\n",
       "\n",
       "    .dataframe tbody tr th {\n",
       "        vertical-align: top;\n",
       "    }\n",
       "\n",
       "    .dataframe thead th {\n",
       "        text-align: right;\n",
       "    }\n",
       "</style>\n",
       "<table border=\"1\" class=\"dataframe\">\n",
       "  <thead>\n",
       "    <tr style=\"text-align: right;\">\n",
       "      <th></th>\n",
       "      <th>BaseDateTime</th>\n",
       "      <th>LON</th>\n",
       "      <th>LAT</th>\n",
       "      <th>SOG</th>\n",
       "      <th>COG</th>\n",
       "      <th>Status</th>\n",
       "      <th>vessel</th>\n",
       "    </tr>\n",
       "  </thead>\n",
       "  <tbody>\n",
       "    <tr>\n",
       "      <th>count</th>\n",
       "      <td>2157897</td>\n",
       "      <td>2.157897e+06</td>\n",
       "      <td>2.157897e+06</td>\n",
       "      <td>2.157897e+06</td>\n",
       "      <td>2.157897e+06</td>\n",
       "      <td>2.157897e+06</td>\n",
       "      <td>2.157897e+06</td>\n",
       "    </tr>\n",
       "    <tr>\n",
       "      <th>mean</th>\n",
       "      <td>2019-07-28 18:26:13.138666496</td>\n",
       "      <td>-8.042582e+01</td>\n",
       "      <td>2.673430e+01</td>\n",
       "      <td>9.044426e+00</td>\n",
       "      <td>1.553811e+02</td>\n",
       "      <td>1.308653e+00</td>\n",
       "      <td>1.225098e+02</td>\n",
       "    </tr>\n",
       "    <tr>\n",
       "      <th>min</th>\n",
       "      <td>2018-01-01 00:00:02</td>\n",
       "      <td>-9.787418e+01</td>\n",
       "      <td>6.917170e+00</td>\n",
       "      <td>0.000000e+00</td>\n",
       "      <td>0.000000e+00</td>\n",
       "      <td>0.000000e+00</td>\n",
       "      <td>1.000000e+00</td>\n",
       "    </tr>\n",
       "    <tr>\n",
       "      <th>25%</th>\n",
       "      <td>2018-09-22 13:53:58</td>\n",
       "      <td>-8.015938e+01</td>\n",
       "      <td>2.576502e+01</td>\n",
       "      <td>1.000000e-01</td>\n",
       "      <td>9.200000e+01</td>\n",
       "      <td>0.000000e+00</td>\n",
       "      <td>5.100000e+01</td>\n",
       "    </tr>\n",
       "    <tr>\n",
       "      <th>50%</th>\n",
       "      <td>2019-07-19 18:02:10</td>\n",
       "      <td>-8.014415e+01</td>\n",
       "      <td>2.576629e+01</td>\n",
       "      <td>1.070000e+01</td>\n",
       "      <td>1.750000e+02</td>\n",
       "      <td>0.000000e+00</td>\n",
       "      <td>1.250000e+02</td>\n",
       "    </tr>\n",
       "    <tr>\n",
       "      <th>75%</th>\n",
       "      <td>2020-05-23 05:47:15</td>\n",
       "      <td>-7.985707e+01</td>\n",
       "      <td>2.741316e+01</td>\n",
       "      <td>1.510000e+01</td>\n",
       "      <td>1.955000e+02</td>\n",
       "      <td>5.000000e+00</td>\n",
       "      <td>1.930000e+02</td>\n",
       "    </tr>\n",
       "    <tr>\n",
       "      <th>max</th>\n",
       "      <td>2021-03-28 23:57:41</td>\n",
       "      <td>-6.651545e+01</td>\n",
       "      <td>4.067740e+01</td>\n",
       "      <td>5.050000e+01</td>\n",
       "      <td>3.104000e+02</td>\n",
       "      <td>5.000000e+00</td>\n",
       "      <td>2.710000e+02</td>\n",
       "    </tr>\n",
       "    <tr>\n",
       "      <th>std</th>\n",
       "      <td>NaN</td>\n",
       "      <td>1.622492e+00</td>\n",
       "      <td>2.208677e+00</td>\n",
       "      <td>7.090514e+00</td>\n",
       "      <td>7.620905e+01</td>\n",
       "      <td>2.192971e+00</td>\n",
       "      <td>7.742205e+01</td>\n",
       "    </tr>\n",
       "  </tbody>\n",
       "</table>\n",
       "</div>"
      ],
      "text/plain": [
       "                        BaseDateTime           LON           LAT  \\\n",
       "count                        2157897  2.157897e+06  2.157897e+06   \n",
       "mean   2019-07-28 18:26:13.138666496 -8.042582e+01  2.673430e+01   \n",
       "min              2018-01-01 00:00:02 -9.787418e+01  6.917170e+00   \n",
       "25%              2018-09-22 13:53:58 -8.015938e+01  2.576502e+01   \n",
       "50%              2019-07-19 18:02:10 -8.014415e+01  2.576629e+01   \n",
       "75%              2020-05-23 05:47:15 -7.985707e+01  2.741316e+01   \n",
       "max              2021-03-28 23:57:41 -6.651545e+01  4.067740e+01   \n",
       "std                              NaN  1.622492e+00  2.208677e+00   \n",
       "\n",
       "                SOG           COG        Status        vessel  \n",
       "count  2.157897e+06  2.157897e+06  2.157897e+06  2.157897e+06  \n",
       "mean   9.044426e+00  1.553811e+02  1.308653e+00  1.225098e+02  \n",
       "min    0.000000e+00  0.000000e+00  0.000000e+00  1.000000e+00  \n",
       "25%    1.000000e-01  9.200000e+01  0.000000e+00  5.100000e+01  \n",
       "50%    1.070000e+01  1.750000e+02  0.000000e+00  1.250000e+02  \n",
       "75%    1.510000e+01  1.955000e+02  5.000000e+00  1.930000e+02  \n",
       "max    5.050000e+01  3.104000e+02  5.000000e+00  2.710000e+02  \n",
       "std    7.090514e+00  7.620905e+01  2.192971e+00  7.742205e+01  "
      ]
     },
     "execution_count": 17,
     "metadata": {},
     "output_type": "execute_result"
    }
   ],
   "source": [
    "df_clean.describe()"
   ]
  },
  {
   "cell_type": "code",
   "execution_count": null,
   "metadata": {
    "collapsed": false
   },
   "outputs": [],
   "source": [
    "df_clean.to_csv(\"../data/1_miami_data.csv\", index=False)"
   ]
  },
  {
   "attachments": {},
   "cell_type": "markdown",
   "metadata": {},
   "source": [
    "# Save Vessels Lengths"
   ]
  },
  {
   "cell_type": "code",
   "execution_count": 8,
   "metadata": {},
   "outputs": [],
   "source": [
    "def save_vessels_lengths(dir_path):\n",
    "\n",
    "    vessels_lengths = pd.Series(index=np.arange(1, 272), name=\"Length\") # series of vessels lengths\n",
    "    for filename in os.listdir(dir_path):\n",
    "        if filename.endswith(\".csv\"):\n",
    "            # check if vessel is in the test set data\n",
    "            vessel_num = int(filename.split(\".\")[0])\n",
    "\n",
    "            # get vessel length\n",
    "            if filename != \"17.csv\":\n",
    "                delimiter = \",\"\n",
    "            else:\n",
    "                delimiter = \";\"\n",
    "\n",
    "            \n",
    "            vessel_length = pd.read_csv(f\"{dir_path}{filename}\",\n",
    "                                        delimiter=delimiter,\n",
    "                                        usecols=[\"Length\"],\n",
    "                                        nrows=1).iloc[0,0]\n",
    "\n",
    "            vessels_lengths[vessel_num] = vessel_length\n",
    "    \n",
    "    return vessels_lengths"
   ]
  },
  {
   "cell_type": "code",
   "execution_count": 10,
   "metadata": {},
   "outputs": [],
   "source": [
    "vessels_lengths = save_vessels_lengths(\"../data/miami_data/\")"
   ]
  },
  {
   "cell_type": "code",
   "execution_count": 11,
   "metadata": {},
   "outputs": [],
   "source": [
    "vessels_lengths.to_csv(\"../data/final_miami_datasets/vessels_lengths.csv\")"
   ]
  }
 ],
 "metadata": {
  "kernelspec": {
   "display_name": "Python 3",
   "language": "python",
   "name": "python3"
  },
  "language_info": {
   "codemirror_mode": {
    "name": "ipython",
    "version": 3
   },
   "file_extension": ".py",
   "mimetype": "text/x-python",
   "name": "python",
   "nbconvert_exporter": "python",
   "pygments_lexer": "ipython3",
   "version": "3.11.4"
  }
 },
 "nbformat": 4,
 "nbformat_minor": 0
}

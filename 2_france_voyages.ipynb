{
 "cells": [
  {
   "cell_type": "code",
   "execution_count": 1,
   "metadata": {
    "collapsed": true
   },
   "outputs": [],
   "source": [
    "import os\n",
    "import datetime\n",
    "\n",
    "import numpy as np\n",
    "import pandas as pd\n",
    "\n",
    "from pyproj import Transformer\n",
    "import geopandas as gpd\n",
    "from shapely.geometry import Point\n",
    "import movingpandas as mpd\n",
    "\n",
    "import matplotlib.pyplot as plt\n",
    "import matplotlib as mlp\n",
    "import scienceplots\n",
    "plt.style.use(\"science\")\n",
    "import seaborn as sns\n",
    "\n",
    "import folium as fl\n",
    "from folium.plugins import FastMarkerCluster\n",
    "\n",
    "from IPython.core.display_functions import clear_output"
   ]
  },
  {
   "attachments": {},
   "cell_type": "markdown",
   "metadata": {
    "collapsed": false
   },
   "source": [
    "# Load Data"
   ]
  },
  {
   "cell_type": "code",
   "execution_count": 2,
   "metadata": {
    "collapsed": false
   },
   "outputs": [],
   "source": [
    "df = pd.read_csv(\"./data/1_france_data.csv\")"
   ]
  },
  {
   "cell_type": "code",
   "execution_count": 3,
   "metadata": {
    "collapsed": false
   },
   "outputs": [
    {
     "data": {
      "text/html": [
       "<div>\n",
       "<style scoped>\n",
       "    .dataframe tbody tr th:only-of-type {\n",
       "        vertical-align: middle;\n",
       "    }\n",
       "\n",
       "    .dataframe tbody tr th {\n",
       "        vertical-align: top;\n",
       "    }\n",
       "\n",
       "    .dataframe thead th {\n",
       "        text-align: right;\n",
       "    }\n",
       "</style>\n",
       "<table border=\"1\" class=\"dataframe\">\n",
       "  <thead>\n",
       "    <tr style=\"text-align: right;\">\n",
       "      <th></th>\n",
       "      <th>BaseDateTime</th>\n",
       "      <th>LAT</th>\n",
       "      <th>LON</th>\n",
       "      <th>SOG</th>\n",
       "      <th>COG</th>\n",
       "      <th>Status</th>\n",
       "      <th>vessel</th>\n",
       "    </tr>\n",
       "  </thead>\n",
       "  <tbody>\n",
       "    <tr>\n",
       "      <th>0</th>\n",
       "      <td>2015-12-16 09:31:35</td>\n",
       "      <td>48.381700</td>\n",
       "      <td>-4.471865</td>\n",
       "      <td>0.0</td>\n",
       "      <td>28.9</td>\n",
       "      <td>5.0</td>\n",
       "      <td>207138000</td>\n",
       "    </tr>\n",
       "    <tr>\n",
       "      <th>1</th>\n",
       "      <td>2015-12-16 09:31:45</td>\n",
       "      <td>48.381706</td>\n",
       "      <td>-4.471863</td>\n",
       "      <td>0.0</td>\n",
       "      <td>33.6</td>\n",
       "      <td>5.0</td>\n",
       "      <td>207138000</td>\n",
       "    </tr>\n",
       "    <tr>\n",
       "      <th>2</th>\n",
       "      <td>2015-12-16 09:31:54</td>\n",
       "      <td>48.381680</td>\n",
       "      <td>-4.471873</td>\n",
       "      <td>0.0</td>\n",
       "      <td>24.7</td>\n",
       "      <td>5.0</td>\n",
       "      <td>207138000</td>\n",
       "    </tr>\n",
       "    <tr>\n",
       "      <th>3</th>\n",
       "      <td>2015-12-16 09:32:05</td>\n",
       "      <td>48.381653</td>\n",
       "      <td>-4.471885</td>\n",
       "      <td>0.0</td>\n",
       "      <td>30.0</td>\n",
       "      <td>5.0</td>\n",
       "      <td>207138000</td>\n",
       "    </tr>\n",
       "    <tr>\n",
       "      <th>4</th>\n",
       "      <td>2015-12-16 09:32:15</td>\n",
       "      <td>48.381668</td>\n",
       "      <td>-4.471892</td>\n",
       "      <td>0.0</td>\n",
       "      <td>24.5</td>\n",
       "      <td>5.0</td>\n",
       "      <td>207138000</td>\n",
       "    </tr>\n",
       "  </tbody>\n",
       "</table>\n",
       "</div>"
      ],
      "text/plain": [
       "          BaseDateTime        LAT       LON  SOG   COG  Status     vessel\n",
       "0  2015-12-16 09:31:35  48.381700 -4.471865  0.0  28.9     5.0  207138000\n",
       "1  2015-12-16 09:31:45  48.381706 -4.471863  0.0  33.6     5.0  207138000\n",
       "2  2015-12-16 09:31:54  48.381680 -4.471873  0.0  24.7     5.0  207138000\n",
       "3  2015-12-16 09:32:05  48.381653 -4.471885  0.0  30.0     5.0  207138000\n",
       "4  2015-12-16 09:32:15  48.381668 -4.471892  0.0  24.5     5.0  207138000"
      ]
     },
     "execution_count": 3,
     "metadata": {},
     "output_type": "execute_result"
    }
   ],
   "source": [
    "df.head()"
   ]
  },
  {
   "attachments": {},
   "cell_type": "markdown",
   "metadata": {
    "collapsed": false
   },
   "source": [
    "# Navigational Status Inconsistency"
   ]
  },
  {
   "cell_type": "code",
   "execution_count": 4,
   "metadata": {
    "collapsed": false
   },
   "outputs": [],
   "source": [
    "ais_inconsistent_status = df.loc[(df[\"Status\"] == 5) & (df[\"SOG\"] >= 1), [\"LAT\", \"LON\", \"SOG\"]]\n",
    "ais_inconsistent_status_points = gpd.points_from_xy(ais_inconsistent_status[\"LON\"],\n",
    "                                                    ais_inconsistent_status[\"LAT\"],\n",
    "                                                    crs=4326)\n",
    "gdf_ais_inconsistent_status = gpd.GeoDataFrame(ais_inconsistent_status,\n",
    "                                               geometry=ais_inconsistent_status_points)"
   ]
  },
  {
   "cell_type": "code",
   "execution_count": 5,
   "metadata": {},
   "outputs": [
    {
     "name": "stdout",
     "output_type": "stream",
     "text": [
      "0.13.0\n"
     ]
    }
   ],
   "source": [
    "import geopandas as gpd\n",
    "print(gpd.__version__)\n"
   ]
  },
  {
   "cell_type": "code",
   "execution_count": 6,
   "metadata": {
    "collapsed": false
   },
   "outputs": [
    {
     "name": "stderr",
     "output_type": "stream",
     "text": [
      "C:\\Users\\rendr\\AppData\\Local\\Temp\\ipykernel_5948\\3611515887.py:2: FutureWarning: The geopandas.dataset module is deprecated and will be removed in GeoPandas 1.0. You can get the original 'naturalearth_lowres' data from https://www.naturalearthdata.com/downloads/110m-cultural-vectors/.\n",
      "  world = gpd.read_file(gpd.datasets.get_path(\"naturalearth_lowres\"))\n"
     ]
    },
    {
     "data": {
      "image/png": "[encoded data removed]",
      "text/plain": [
       "<Figure size 600x600 with 2 Axes>"
      ]
     },
     "metadata": {},
     "output_type": "display_data"
    }
   ],
   "source": [
    "fig, ax = plt.subplots(figsize=(6, 6))\n",
    "world = gpd.read_file(gpd.datasets.get_path(\"naturalearth_lowres\"))\n",
    "world.plot(ax=ax, alpha=0.4, color=\"grey\")\n",
    "\n",
    "legend_kwds = {\n",
    "    \"orientation\": \"vertical\",\n",
    "    \"shrink\": 0.85,\n",
    "    \"label\": \"Speed Over Ground (SOG)\"\n",
    "}\n",
    "gdf_ais_inconsistent_status.plot(column=\"SOG\", markersize=0.5, ax=ax,\n",
    "                                 legend=True, legend_kwds=legend_kwds)\n",
    "plt.xlim([gdf_ais_inconsistent_status[\"LON\"].min() - 1.5,\n",
    "          gdf_ais_inconsistent_status[\"LON\"].max() + 0])\n",
    "plt.ylim([gdf_ais_inconsistent_status[\"LAT\"].min() - 1,\n",
    "          gdf_ais_inconsistent_status[\"LAT\"].max() + 0.5])\n",
    "plt.xticks(ticks=[], labels=[])\n",
    "plt.yticks(ticks=[], labels=[])\n",
    "\n",
    "plt.savefig(\"./figures/nav_status_inconsistency_france\")\n",
    "plt.show()"
   ]
  },
  {
   "attachments": {},
   "cell_type": "markdown",
   "metadata": {
    "collapsed": false
   },
   "source": [
    "# Split Voyages"
   ]
  },
  {
   "cell_type": "code",
   "execution_count": 7,
   "metadata": {
    "collapsed": false
   },
   "outputs": [],
   "source": [
    "ports = gpd.read_file(\"./data/france_data/Ports_Brittany/port.shp\")\n",
    "brest_port = ports[ports[\"libelle_po\"] == \"Brest\"]\n",
    "lon = brest_port.iloc[0][\"geometry\"].geoms[0].xy[0][0]\n",
    "lat = brest_port.iloc[0][\"geometry\"].geoms[0].xy[1][0]"
   ]
  },
  {
   "cell_type": "code",
   "execution_count": 8,
   "metadata": {
    "collapsed": false
   },
   "outputs": [
    {
     "name": "stdout",
     "output_type": "stream",
     "text": [
      "(-4.475309812300752, 48.38273389573341)\n"
     ]
    }
   ],
   "source": [
    "print(f\"({lon}, {lat})\")"
   ]
  },
  {
   "cell_type": "code",
   "execution_count": 9,
   "metadata": {
    "collapsed": false
   },
   "outputs": [],
   "source": [
    "berth_port_coords = [lat, lon-0.01]"
   ]
  },
  {
   "cell_type": "code",
   "execution_count": 10,
   "metadata": {
    "collapsed": false
   },
   "outputs": [],
   "source": [
    "df_clean = df.copy()"
   ]
  },
  {
   "cell_type": "code",
   "execution_count": 11,
   "metadata": {
    "collapsed": false
   },
   "outputs": [],
   "source": [
    "transformer = Transformer.from_crs(4326, 3857)\n",
    "x, y = transformer.transform(df_clean[\"LAT\"].to_numpy(), df_clean[\"LON\"].to_numpy())"
   ]
  },
  {
   "cell_type": "code",
   "execution_count": 12,
   "metadata": {
    "collapsed": false
   },
   "outputs": [],
   "source": [
    "df_clean[\"x\"] = x\n",
    "df_clean[\"y\"] = y"
   ]
  },
  {
   "cell_type": "code",
   "execution_count": 13,
   "metadata": {
    "collapsed": false
   },
   "outputs": [],
   "source": [
    "# Get the distance of each point to the port (defined by the quay point)\n",
    "quay_point = Point(transformer.transform(berth_port_coords[0], berth_port_coords[1]))\n",
    "distanceToPort = gpd.points_from_xy(df_clean.x, df_clean.y, crs=3857).distance(quay_point)\n",
    "df_clean[\"distanceToPort\"] = distanceToPort"
   ]
  },
  {
   "cell_type": "code",
   "execution_count": 14,
   "metadata": {
    "collapsed": false
   },
   "outputs": [],
   "source": [
    "# Get arrival point (first point within 4km of the quay center with\n",
    "# Status = 5 and SOG < 1 knot)\n",
    "df_clean[\"arrival_point\"] = 0\n",
    "df_clean.loc[(df_clean[\"distanceToPort\"] < 3500)\n",
    "             & (df_clean[\"Status\"] == 5)\n",
    "             & (df_clean[\"SOG\"] < 1), \"arrival_point\"] = 1\n",
    "points_after_arrival = (df_clean[\"arrival_point\"].diff() != 1) \\\n",
    "                       & (df_clean[\"arrival_point\"] == 1)\n",
    "df_clean = df_clean.loc[~points_after_arrival, :]\n",
    "df_clean.reset_index(drop=True, inplace=True)"
   ]
  },
  {
   "cell_type": "code",
   "execution_count": 15,
   "metadata": {
    "collapsed": false
   },
   "outputs": [],
   "source": [
    "# Enumerate voyages (where arrival_point = 1 subtract 1)\n",
    "df_clean[\"voyage\"] = df_clean.groupby(\"vessel\")[\"arrival_point\"].cumsum().values\n",
    "df_clean.loc[df_clean[\"arrival_point\"] == 1, \"voyage\"] -= 1"
   ]
  },
  {
   "cell_type": "code",
   "execution_count": 16,
   "metadata": {},
   "outputs": [],
   "source": [
    "# map vessel ids to smaller numbers\n",
    "vessel_id_map = pd.Series(data=np.arange(1, df_clean[\"vessel\"].unique().shape[0]+1),\n",
    "                          index=df_clean[\"vessel\"].unique()).to_dict()\n",
    "\n",
    "df_clean[\"vessel\"] = df_clean[\"vessel\"].map(vessel_id_map)\n",
    "\n",
    "# Build vessel-voyage pairs (voyage ids)\n",
    "df_clean[\"voyage_id\"] = df_clean[\"vessel\"].astype(str) + \"-\" \\\n",
    "                        + df_clean[\"voyage\"].astype(str)"
   ]
  },
  {
   "cell_type": "code",
   "execution_count": 17,
   "metadata": {
    "collapsed": false
   },
   "outputs": [],
   "source": [
    "df_clean[\"BaseDateTime\"] = pd.to_datetime(df_clean[\"BaseDateTime\"])"
   ]
  },
  {
   "cell_type": "code",
   "execution_count": 18,
   "metadata": {
    "collapsed": false
   },
   "outputs": [
    {
     "name": "stderr",
     "output_type": "stream",
     "text": [
      "C:\\Users\\rendr\\AppData\\Local\\Temp\\ipykernel_5948\\340126289.py:3: DeprecationWarning: DataFrameGroupBy.apply operated on the grouping columns. This behavior is deprecated, and in a future version of pandas the grouping columns will be excluded from the operation. Either pass `include_groups=False` to exclude the groupings or explicitly select the grouping columns after groupby to silence this warning.\n",
      "  .apply(lambda x: x.iloc[-1][\"BaseDateTime\"] - x.loc[:, \"BaseDateTime\"]) \\\n"
     ]
    }
   ],
   "source": [
    "# Get the remaining time from each msg to the arrival message (remaining voyage time)\n",
    "remainingVoyageTime = df_clean.groupby(\"voyage_id\") \\\n",
    "    .apply(lambda x: x.iloc[-1][\"BaseDateTime\"] - x.loc[:, \"BaseDateTime\"]) \\\n",
    "    .sort_index(level=1)\n",
    "df_clean[\"remainingVoyageTime\"] = (remainingVoyageTime.dt.total_seconds() / 60).values"
   ]
  },
  {
   "cell_type": "code",
   "execution_count": 19,
   "metadata": {
    "collapsed": false
   },
   "outputs": [],
   "source": [
    "# Take only msgs within 2 days of a vessel's arrival\n",
    "df_clean = df_clean.loc[df_clean[\"remainingVoyageTime\"] <= 48*60]"
   ]
  },
  {
   "cell_type": "code",
   "execution_count": 20,
   "metadata": {
    "collapsed": false
   },
   "outputs": [],
   "source": [
    "# Take only points at least 10 Km from the terminal location\n",
    "df_clean = df_clean.loc[df_clean[\"distanceToPort\"] >= 10000]"
   ]
  },
  {
   "cell_type": "code",
   "execution_count": 21,
   "metadata": {
    "collapsed": false
   },
   "outputs": [],
   "source": [
    "# Convert distance in meters to nautical miles\n",
    "df_clean[\"distanceToPort\"] *= 0.000539956803"
   ]
  },
  {
   "cell_type": "code",
   "execution_count": 22,
   "metadata": {
    "collapsed": false
   },
   "outputs": [
    {
     "data": {
      "text/html": [
       "<div style=\"width:100%;\"><div style=\"position:relative;width:100%;height:0;padding-bottom:60%;\"><span style=\"color:#565656\">Make this Notebook Trusted to load map: File -> Trust Notebook</span><iframe srcdoc=\"&lt;!DOCTYPE html&gt;\n",
       "&lt;html&gt;\n",
       "&lt;head&gt;\n",
       "    \n",
       "    &lt;meta http-equiv=&quot;content-type&quot; content=&quot;text/html; charset=UTF-8&quot; /&gt;\n",
       "    \n",
       "        &lt;script&gt;\n",
       "            L_NO_TOUCH = false;\n",
       "            L_DISABLE_3D = false;\n",
       "        &lt;/script&gt;\n",
       "    \n",
       "    &lt;style&gt;html, body {width: 100%;height: 100%;margin: 0;padding: 0;}&lt;/style&gt;\n",
       "    &lt;style&gt;#map {position:absolute;top:0;bottom:0;right:0;left:0;}&lt;/style&gt;\n",
       "    &lt;script src=&quot;https://cdn.jsdelivr.net/npm/leaflet@1.9.3/dist/leaflet.js&quot;&gt;&lt;/script&gt;\n",
       "    &lt;script src=&quot;https://code.jquery.com/jquery-1.12.4.min.js&quot;&gt;&lt;/script&gt;\n",
       "    &lt;script src=&quot;https://cdn.jsdelivr.net/npm/bootstrap@5.2.2/dist/js/bootstrap.bundle.min.js&quot;&gt;&lt;/script&gt;\n",
       "    &lt;script src=&quot;https://cdnjs.cloudflare.com/ajax/libs/Leaflet.awesome-markers/2.0.2/leaflet.awesome-markers.js&quot;&gt;&lt;/script&gt;\n",
       "    &lt;link rel=&quot;stylesheet&quot; href=&quot;https://cdn.jsdelivr.net/npm/leaflet@1.9.3/dist/leaflet.css&quot;/&gt;\n",
       "    &lt;link rel=&quot;stylesheet&quot; href=&quot;https://cdn.jsdelivr.net/npm/bootstrap@5.2.2/dist/css/bootstrap.min.css&quot;/&gt;\n",
       "    &lt;link rel=&quot;stylesheet&quot; href=&quot;https://netdna.bootstrapcdn.com/bootstrap/3.0.0/css/bootstrap.min.css&quot;/&gt;\n",
       "    &lt;link rel=&quot;stylesheet&quot; href=&quot;https://cdn.jsdelivr.net/npm/@fortawesome/fontawesome-free@6.2.0/css/all.min.css&quot;/&gt;\n",
       "    &lt;link rel=&quot;stylesheet&quot; href=&quot;https://cdnjs.cloudflare.com/ajax/libs/Leaflet.awesome-markers/2.0.2/leaflet.awesome-markers.css&quot;/&gt;\n",
       "    &lt;link rel=&quot;stylesheet&quot; href=&quot;https://cdn.jsdelivr.net/gh/python-visualization/folium/folium/templates/leaflet.awesome.rotate.min.css&quot;/&gt;\n",
       "    \n",
       "            &lt;meta name=&quot;viewport&quot; content=&quot;width=device-width,\n",
       "                initial-scale=1.0, maximum-scale=1.0, user-scalable=no&quot; /&gt;\n",
       "            &lt;style&gt;\n",
       "                #map_3b8b29f931c786fecf6617a33d50a98f {\n",
       "                    position: relative;\n",
       "                    width: 100.0%;\n",
       "                    height: 100.0%;\n",
       "                    left: 0.0%;\n",
       "                    top: 0.0%;\n",
       "                }\n",
       "                .leaflet-container { font-size: 1rem; }\n",
       "            &lt;/style&gt;\n",
       "        \n",
       "    &lt;script src=&quot;https://cdnjs.cloudflare.com/ajax/libs/leaflet.markercluster/1.1.0/leaflet.markercluster.js&quot;&gt;&lt;/script&gt;\n",
       "    &lt;link rel=&quot;stylesheet&quot; href=&quot;https://cdnjs.cloudflare.com/ajax/libs/leaflet.markercluster/1.1.0/MarkerCluster.css&quot;/&gt;\n",
       "    &lt;link rel=&quot;stylesheet&quot; href=&quot;https://cdnjs.cloudflare.com/ajax/libs/leaflet.markercluster/1.1.0/MarkerCluster.Default.css&quot;/&gt;\n",
       "&lt;/head&gt;\n",
       "&lt;body&gt;\n",
       "    \n",
       "    \n",
       "            &lt;div class=&quot;folium-map&quot; id=&quot;map_3b8b29f931c786fecf6617a33d50a98f&quot; &gt;&lt;/div&gt;\n",
       "        \n",
       "&lt;/body&gt;\n",
       "&lt;script&gt;\n",
       "    \n",
       "    \n",
       "            var map_3b8b29f931c786fecf6617a33d50a98f = L.map(\n",
       "                &quot;map_3b8b29f931c786fecf6617a33d50a98f&quot;,\n",
       "                {\n",
       "                    center: [48.38273389573341, -4.485309812300752],\n",
       "                    crs: L.CRS.EPSG3857,\n",
       "                    zoom: 8,\n",
       "                    zoomControl: true,\n",
       "                    preferCanvas: false,\n",
       "                }\n",
       "            );\n",
       "\n",
       "            \n",
       "\n",
       "        \n",
       "    \n",
       "            var tile_layer_11b3a0012b8fb9e4c76451e788b71032 = L.tileLayer(\n",
       "                &quot;https://{s}.tile.openstreetmap.org/{z}/{x}/{y}.png&quot;,\n",
       "                {&quot;attribution&quot;: &quot;Data by \\u0026copy; \\u003ca target=\\&quot;_blank\\&quot; href=\\&quot;http://openstreetmap.org\\&quot;\\u003eOpenStreetMap\\u003c/a\\u003e, under \\u003ca target=\\&quot;_blank\\&quot; href=\\&quot;http://www.openstreetmap.org/copyright\\&quot;\\u003eODbL\\u003c/a\\u003e.&quot;, &quot;detectRetina&quot;: false, &quot;maxNativeZoom&quot;: 18, &quot;maxZoom&quot;: 18, &quot;minZoom&quot;: 0, &quot;noWrap&quot;: false, &quot;opacity&quot;: 1, &quot;subdomains&quot;: &quot;abc&quot;, &quot;tms&quot;: false}\n",
       "            ).addTo(map_3b8b29f931c786fecf6617a33d50a98f);\n",
       "        \n",
       "    \n",
       "            var fast_marker_cluster_706ed1bdcd556f34cdb3d2f393c56c45 = (function(){\n",
       "                \n",
       "                var callback = function (row) {\n",
       "                    var icon = L.AwesomeMarkers.icon();\n",
       "                    var marker = L.marker(new L.LatLng(row[0], row[1]));\n",
       "                    marker.setIcon(icon);\n",
       "                    return marker;\n",
       "                };\n",
       "\n",
       "                var data = [[47.2956, -2.1548383], [47.295635, -2.1548166], [47.2955, -2.1551116]];\n",
       "                var cluster = L.markerClusterGroup({});\n",
       "\n",
       "                for (var i = 0; i &lt; data.length; i++) {\n",
       "                    var row = data[i];\n",
       "                    var marker = callback(row);\n",
       "                    marker.addTo(cluster);\n",
       "                }\n",
       "\n",
       "                cluster.addTo(map_3b8b29f931c786fecf6617a33d50a98f);\n",
       "                return cluster;\n",
       "            })();\n",
       "        \n",
       "&lt;/script&gt;\n",
       "&lt;/html&gt;\" style=\"position:absolute;width:100%;height:100%;left:0;top:0;border:none !important;\" allowfullscreen webkitallowfullscreen mozallowfullscreen></iframe></div></div>"
      ],
      "text/plain": [
       "<folium.folium.Map at 0x102ecf0d460>"
      ]
     },
     "execution_count": 22,
     "metadata": {},
     "output_type": "execute_result"
    }
   ],
   "source": [
    "m = fl.Map(location=berth_port_coords, zoom_start=8)\n",
    "\n",
    "moored_points = df_clean.loc[(df_clean[\"Status\"] == 5)\n",
    "                             & (df_clean[\"SOG\"] < 1.0), [\"LAT\", \"LON\"]]\n",
    "\n",
    "fmc = FastMarkerCluster(data=moored_points.values)\n",
    "fmc.add_to(m)\n",
    "\n",
    "m"
   ]
  },
  {
   "cell_type": "code",
   "execution_count": 23,
   "metadata": {},
   "outputs": [
    {
     "data": {
      "text/html": [
       "<div style=\"width:100%;\"><div style=\"position:relative;width:100%;height:0;padding-bottom:60%;\"><span style=\"color:#565656\">Make this Notebook Trusted to load map: File -> Trust Notebook</span><iframe srcdoc=\"&lt;!DOCTYPE html&gt;\n",
       "&lt;html&gt;\n",
       "&lt;head&gt;\n",
       "    \n",
       "    &lt;meta http-equiv=&quot;content-type&quot; content=&quot;text/html; charset=UTF-8&quot; /&gt;\n",
       "    \n",
       "        &lt;script&gt;\n",
       "            L_NO_TOUCH = false;\n",
       "            L_DISABLE_3D = false;\n",
       "        &lt;/script&gt;\n",
       "    \n",
       "    &lt;style&gt;html, body {width: 100%;height: 100%;margin: 0;padding: 0;}&lt;/style&gt;\n",
       "    &lt;style&gt;#map {position:absolute;top:0;bottom:0;right:0;left:0;}&lt;/style&gt;\n",
       "    &lt;script src=&quot;https://cdn.jsdelivr.net/npm/leaflet@1.9.3/dist/leaflet.js&quot;&gt;&lt;/script&gt;\n",
       "    &lt;script src=&quot;https://code.jquery.com/jquery-1.12.4.min.js&quot;&gt;&lt;/script&gt;\n",
       "    &lt;script src=&quot;https://cdn.jsdelivr.net/npm/bootstrap@5.2.2/dist/js/bootstrap.bundle.min.js&quot;&gt;&lt;/script&gt;\n",
       "    &lt;script src=&quot;https://cdnjs.cloudflare.com/ajax/libs/Leaflet.awesome-markers/2.0.2/leaflet.awesome-markers.js&quot;&gt;&lt;/script&gt;\n",
       "    &lt;link rel=&quot;stylesheet&quot; href=&quot;https://cdn.jsdelivr.net/npm/leaflet@1.9.3/dist/leaflet.css&quot;/&gt;\n",
       "    &lt;link rel=&quot;stylesheet&quot; href=&quot;https://cdn.jsdelivr.net/npm/bootstrap@5.2.2/dist/css/bootstrap.min.css&quot;/&gt;\n",
       "    &lt;link rel=&quot;stylesheet&quot; href=&quot;https://netdna.bootstrapcdn.com/bootstrap/3.0.0/css/bootstrap.min.css&quot;/&gt;\n",
       "    &lt;link rel=&quot;stylesheet&quot; href=&quot;https://cdn.jsdelivr.net/npm/@fortawesome/fontawesome-free@6.2.0/css/all.min.css&quot;/&gt;\n",
       "    &lt;link rel=&quot;stylesheet&quot; href=&quot;https://cdnjs.cloudflare.com/ajax/libs/Leaflet.awesome-markers/2.0.2/leaflet.awesome-markers.css&quot;/&gt;\n",
       "    &lt;link rel=&quot;stylesheet&quot; href=&quot;https://cdn.jsdelivr.net/gh/python-visualization/folium/folium/templates/leaflet.awesome.rotate.min.css&quot;/&gt;\n",
       "    \n",
       "            &lt;meta name=&quot;viewport&quot; content=&quot;width=device-width,\n",
       "                initial-scale=1.0, maximum-scale=1.0, user-scalable=no&quot; /&gt;\n",
       "            &lt;style&gt;\n",
       "                #map_64a57e35f5c0b61302e2a24877f0be0a {\n",
       "                    position: relative;\n",
       "                    width: 100.0%;\n",
       "                    height: 100.0%;\n",
       "                    left: 0.0%;\n",
       "                    top: 0.0%;\n",
       "                }\n",
       "                .leaflet-container { font-size: 1rem; }\n",
       "            &lt;/style&gt;\n",
       "        \n",
       "    &lt;script src=&quot;https://cdnjs.cloudflare.com/ajax/libs/leaflet.markercluster/1.1.0/leaflet.markercluster.js&quot;&gt;&lt;/script&gt;\n",
       "    &lt;link rel=&quot;stylesheet&quot; href=&quot;https://cdnjs.cloudflare.com/ajax/libs/leaflet.markercluster/1.1.0/MarkerCluster.css&quot;/&gt;\n",
       "    &lt;link rel=&quot;stylesheet&quot; href=&quot;https://cdnjs.cloudflare.com/ajax/libs/leaflet.markercluster/1.1.0/MarkerCluster.Default.css&quot;/&gt;\n",
       "&lt;/head&gt;\n",
       "&lt;body&gt;\n",
       "    \n",
       "    \n",
       "            &lt;div class=&quot;folium-map&quot; id=&quot;map_64a57e35f5c0b61302e2a24877f0be0a&quot; &gt;&lt;/div&gt;\n",
       "        \n",
       "&lt;/body&gt;\n",
       "&lt;script&gt;\n",
       "    \n",
       "    \n",
       "            var map_64a57e35f5c0b61302e2a24877f0be0a = L.map(\n",
       "                &quot;map_64a57e35f5c0b61302e2a24877f0be0a&quot;,\n",
       "                {\n",
       "                    center: [48.38273389573341, -4.485309812300752],\n",
       "                    crs: L.CRS.EPSG3857,\n",
       "                    zoom: 8,\n",
       "                    zoomControl: true,\n",
       "                    preferCanvas: false,\n",
       "                }\n",
       "            );\n",
       "\n",
       "            \n",
       "\n",
       "        \n",
       "    \n",
       "            var tile_layer_677c12425726b8f682442fa581c9dcae = L.tileLayer(\n",
       "                &quot;https://{s}.tile.openstreetmap.org/{z}/{x}/{y}.png&quot;,\n",
       "                {&quot;attribution&quot;: &quot;Data by \\u0026copy; \\u003ca target=\\&quot;_blank\\&quot; href=\\&quot;http://openstreetmap.org\\&quot;\\u003eOpenStreetMap\\u003c/a\\u003e, under \\u003ca target=\\&quot;_blank\\&quot; href=\\&quot;http://www.openstreetmap.org/copyright\\&quot;\\u003eODbL\\u003c/a\\u003e.&quot;, &quot;detectRetina&quot;: false, &quot;maxNativeZoom&quot;: 18, &quot;maxZoom&quot;: 18, &quot;minZoom&quot;: 0, &quot;noWrap&quot;: false, &quot;opacity&quot;: 1, &quot;subdomains&quot;: &quot;abc&quot;, &quot;tms&quot;: false}\n",
       "            ).addTo(map_64a57e35f5c0b61302e2a24877f0be0a);\n",
       "        \n",
       "    \n",
       "            var fast_marker_cluster_ba7a7a52903bae40bb4fef56bfa89432 = (function(){\n",
       "                \n",
       "                var callback = function (row) {\n",
       "                    var icon = L.AwesomeMarkers.icon();\n",
       "                    var marker = L.marker(new L.LatLng(row[0], row[1]));\n",
       "                    marker.setIcon(icon);\n",
       "                    return marker;\n",
       "                };\n",
       "\n",
       "                var data = [[48.20627, -4.4773884], [48.207245, -4.47884], [48.20538, -4.4767585], [48.301533, -4.38801], [48.30158, -4.388025], [48.301613, -4.3880315], [48.301655, -4.38805], [48.301685, -4.388068], [48.30172, -4.3880835], [48.301968, -4.3881617], [48.302113, -4.388405], [48.302113, -4.388405], [48.301956, -4.388428], [48.30188, -4.3884535], [48.301807, -4.3885384], [48.301754, -4.3886666], [48.301746, -4.388895], [48.301693, -4.3890734], [48.301666, -4.389088], [48.3017, -4.3890266], [48.30175, -4.388985], [48.301754, -4.3889365], [48.30184, -4.3888717], [48.301888, -4.388798], [48.30196, -4.3887215], [48.301994, -4.3886786], [48.302048, -4.38852], [48.302048, -4.38852], [48.302067, -4.3883815], [48.30208, -4.388155], [48.302086, -4.3879685], [48.3021, -4.3877516], [48.30206, -4.3876], [48.30206, -4.3876], [48.302048, -4.3874636], [48.30203, -4.38733], [48.30195, -4.3871965], [48.301853, -4.387047], [48.301735, -4.38688], [48.301647, -4.3867216], [48.301594, -4.3865585], [48.301533, -4.3864264], [48.301476, -4.38635], [48.30139, -4.3863015], [48.301315, -4.3862514], [48.30126, -4.38624], [48.301197, -4.3862066], [48.30116, -4.3862233], [48.301147, -4.3862185], [48.301136, -4.3862433], [48.301105, -4.38625], [48.301052, -4.3862667], [48.30102, -4.38623], [48.300995, -4.3862433], [48.300953, -4.386205], [48.30091, -4.3862267], [48.300873, -4.38627], [48.300854, -4.3862734], [48.30084, -4.386288], [48.300827, -4.3862667], [48.300827, -4.3862734], [48.300846, -4.386298], [48.300823, -4.386307], [48.300827, -4.38632], [48.300785, -4.3863215], [48.300793, -4.386305], [48.300785, -4.386298], [48.30074, -4.3862934], [48.300728, -4.386285], [48.300728, -4.386285], [48.300686, -4.3863416], [48.300697, -4.386375], [48.300674, -4.3864417], [48.300713, -4.386502], [48.30081, -4.3864517], [48.30081, -4.3864517], [48.300945, -4.386308], [48.301075, -4.386095], [48.301247, -4.3861165], [48.30142, -4.386387], [48.301468, -4.386512], [48.30144, -4.38654], [48.30142, -4.386532], [48.301376, -4.386425], [48.30139, -4.3863516], [48.301346, -4.3863134], [48.301357, -4.38633], [48.30137, -4.386375], [48.30138, -4.386425], [48.301376, -4.386475], [48.30134, -4.38647], [48.301327, -4.3864183], [48.301292, -4.386387], [48.30131, -4.386345], [48.301327, -4.386355], [48.301327, -4.386355], [48.301365, -4.3864317], [48.301414, -4.38646], [48.301445, -4.3865], [48.301453, -4.386542], [48.301453, -4.386585], [48.301456, -4.3865786], [48.301468, -4.3865485], [48.3015, -4.386535], [48.301563, -4.3866034], [48.301586, -4.38663], [48.30154, -4.386628], [48.301495, -4.386618], [48.301464, -4.3865833], [48.301445, -4.386628], [48.301445, -4.386628], [48.30147, -4.38664], [48.301495, -4.386638], [48.301495, -4.38675], [48.301567, -4.386725], [48.301647, -4.3868065], [48.301647, -4.3868065], [48.3017, -4.3868833], [48.301765, -4.38694], [48.30182, -4.3870068], [48.301853, -4.3871164], [48.301853, -4.3872585], [48.301846, -4.387407], [48.301853, -4.387572], [48.30189, -4.3876867], [48.301872, -4.3878617], [48.301815, -4.3881135], [48.30174, -4.3883333], [48.30163, -4.3884983], [48.301506, -4.3886185], [48.30139, -4.3885884], [48.301277, -4.3886166], [48.301277, -4.3886166], [48.301174, -4.388652], [48.301132, -4.388595], [48.301067, -4.3886185], [48.30107, -4.3885684], [48.30108, -4.3885818], [48.30108, -4.3885818], [48.301155, -4.3885984], [48.30122, -4.388672], [48.30119, -4.38867], [48.301193, -4.3886485], [48.30124, -4.388662], [48.301247, -4.3886786], [48.301254, -4.388685], [48.301247, -4.388675], [48.30124, -4.3886466], [48.301273, -4.3886533], [48.3013, -4.3886485], [48.30129, -4.3886585], [48.30133, -4.3886666], [48.30135, -4.388672], [48.301365, -4.388652], [48.301365, -4.388652], [48.301304, -4.388642], [48.301254, -4.3886585], [48.30127, -4.3886833], [48.301353, -4.3886285], [48.30144, -4.3886065], [48.30144, -4.3886065], [48.30148, -4.38868], [48.30142, -4.3887234], [48.301292, -4.38875], [48.301258, -4.38873], [48.301346, -4.388715], [48.30139, -4.3887515], [48.30136, -4.388765], [48.301334, -4.38875], [48.301353, -4.3888183], [48.301388, -4.3887734], [48.301414, -4.38875], [48.3014, -4.388735], [48.3014, -4.388735], [48.3014, -4.388745], [48.301365, -4.38877], [48.3013, -4.38876], [48.30132, -4.38877], [48.30132, -4.38877], [48.30134, -4.388767], [48.301308, -4.3887715], [48.3013, -4.388778], [48.301273, -4.38878], [48.301254, -4.388755], [48.301228, -4.3887634], [48.30122, -4.388768], [48.30124, -4.3887534], [48.301266, -4.388775], [48.301247, -4.388797], [48.301266, -4.38875], [48.301266, -4.388738], [48.301235, -4.38877], [48.30116, -4.3887634], [48.30116, -4.3887634], [48.30117, -4.3887835], [48.30118, -4.38878], [48.301186, -4.388767], [48.30117, -4.38878], [48.30117, -4.38878], [48.301167, -4.3887835], [48.30115, -4.388787], [48.30116, -4.388815], [48.30117, -4.3887815], [48.30116, -4.388777], [48.3011, -4.3887715], [48.30113, -4.3887935], [48.301144, -4.3888083], [48.30112, -4.3887615], [48.30109, -4.38874], [48.301075, -4.38877], [48.30108, -4.388795], [48.301132, -4.38883], [48.301083, -4.3887734], [48.30105, -4.388768], [48.301033, -4.3888235], [48.30118, -4.388893], [48.30122, -4.3889017], [48.301067, -4.388962], [48.30097, -4.388945], [48.301075, -4.388972], [48.30118, -4.388992], [48.301132, -4.3890367], [48.300964, -4.389035], [48.300953, -4.38898], [48.3011, -4.389022], [48.30115, -4.389048], [48.301044, -4.389], [48.30098, -4.388985], [48.300964, -4.38907], [48.301075, -4.3890967], [48.301105, -4.3890715], [48.301014, -4.389058], [48.300995, -4.38905], [48.301037, -4.3890734], [48.301056, -4.389098], [48.301052, -4.389088], [48.301025, -4.389015], [48.301025, -4.389015], [48.301052, -4.38907], [48.301075, -4.389078], [48.301105, -4.389078], [48.30109, -4.3890967], [48.30109, -4.3890934], [48.301075, -4.389065], [48.30111, -4.389045], [48.30113, -4.3890767], [48.301125, -4.389058], [48.30112, -4.38904], [48.30113, -4.389045], [48.301155, -4.3890715], [48.301163, -4.3890514], [48.301155, -4.38905], [48.301094, -4.389055], [48.301067, -4.3890333], [48.301067, -4.389055], [48.301025, -4.3890333], [48.30104, -4.389035], [48.30102, -4.3890033], [48.30099, -4.3890133], [48.30099, -4.3890133], [48.30097, -4.3890033], [48.300976, -4.38899], [48.300995, -4.3890333], [48.301014, -4.38901], [48.301086, -4.3889885], [48.30116, -4.38897], [48.30124, -4.389022], [48.301308, -4.38902], [48.301334, -4.3889966], [48.301304, -4.3889933], [48.30129, -4.3890066], [48.301273, -4.389015], [48.30131, -4.3890066], [48.301342, -4.3889832], [48.301426, -4.3889184], [48.301495, -4.3888636], [48.30156, -4.388768], [48.301647, -4.3886366], [48.301746, -4.3884835], [48.301815, -4.388345], [48.30186, -4.3882685], [48.301876, -4.3881783], [48.301872, -4.38804], [48.30188, -4.387912], [48.301876, -4.387775], [48.30187, -4.387615], [48.30187, -4.3874516], [48.30187, -4.387282], [48.30186, -4.387107], [48.30188, -4.386885], [48.301823, -4.3867083], [48.301765, -4.386515], [48.30166, -4.386407], [48.301548, -4.386337], [48.301434, -4.3863], [48.301266, -4.386212], [48.301167, -4.386202], [48.301117, -4.3861732], [48.301064, -4.3861885], [48.301056, -4.386125], [48.30105, -4.3860865], [48.301025, -4.3860617], [48.30102, -4.386063], [48.301014, -4.3860817], [48.30102, -4.3861184], [48.30104, -4.386105], [48.301033, -4.3861265], [48.301014, -4.386143], [48.30097, -4.3862185], [48.30094, -4.3862634], [48.30092, -4.386305], [48.30092, -4.3863335], [48.30089, -4.3863235], [48.30086, -4.386355], [48.300835, -4.3863435], [48.300762, -4.3864117], [48.30074, -4.386482], [48.30068, -4.386565], [48.30068, -4.386608], [48.300667, -4.386638], [48.300674, -4.3866634], [48.300694, -4.38665], [48.300724, -4.3866167], [48.300793, -4.38659], [48.30081, -4.3865867], [48.300865, -4.3865466], [48.30088, -4.386542], [48.3009, -4.386542], [48.300945, -4.3865285], [48.300945, -4.3865066], [48.300938, -4.386535], [48.30097, -4.3865767], [48.300976, -4.386532], [48.300987, -4.3865533], [48.301, -4.38653], [48.300995, -4.38655], [48.300995, -4.3865767], [48.30101, -4.3865833], [48.301014, -4.386575], [48.301, -4.3865232], [48.300983, -4.386503], [48.301006, -4.3865185], [48.301006, -4.3865685], [48.301006, -4.3865786], [48.301025, -4.3865733], [48.30108, -4.3865733], [48.30112, -4.3866067], [48.30113, -4.3866134], [48.30114, -4.386648], [48.30114, -4.386695], [48.301178, -4.3867717], [48.301147, -4.3868885], [48.301228, -4.38695], [48.301254, -4.3869967], [48.30128, -4.38705], [48.30128, -4.38705], [48.301327, -4.3871417], [48.301334, -4.387255], [48.301346, -4.387385], [48.301373, -4.387533], [48.301353, -4.3876467], [48.30136, -4.387825], [48.301334, -4.3879833], [48.30134, -4.388252], [48.30128, -4.388477], [48.30121, -4.38876], [48.301006, -4.388913], [48.30081, -4.3889832], [48.30062, -4.388953], [48.30047, -4.38892], [48.300316, -4.3887835], [48.30027, -4.3887], [48.30026, -4.3887], [48.300327, -4.388768], [48.30036, -4.388835], [48.300365, -4.3888617], [48.300365, -4.3888617], [48.300434, -4.3889384], [48.30047, -4.38892], [48.300472, -4.3888783], [48.300426, -4.3888617], [48.300426, -4.388923], [48.300426, -4.388923], [48.300385, -4.3888435], [48.300446, -4.3889084], [48.300446, -4.388913], [48.300446, -4.3889065], [48.300438, -4.3889], [48.30047, -4.3889165], [48.300495, -4.3889], [48.300446, -4.3889184], [48.3005, -4.3888917], [48.30051, -4.388905], [48.300484, -4.3889685], [48.300533, -4.38895], [48.30056, -4.38897], [48.30058, -4.388965], [48.30063, -4.38896], [48.300617, -4.38893], [48.30065, -4.388933], [48.300674, -4.38897], [48.300667, -4.38898], [48.300667, -4.38898], [48.30065, -4.3889284], [48.30065, -4.3889017], [48.30067, -4.388913], [48.300686, -4.3889217], [48.30068, -4.3889318], [48.300606, -4.38894], [48.30057, -4.38896], [48.30053, -4.38891], [48.300606, -4.388925], [48.3006, -4.38894], [48.30064, -4.3889484], [48.30063, -4.38899], [48.300587, -4.3889933], [48.30054, -4.3889565], [48.300507, -4.388875], [48.300507, -4.388875], [48.30053, -4.3888483], [48.30056, -4.388857], [48.300594, -4.388875], [48.300617, -4.38887], [48.300606, -4.388825], [48.300606, -4.388825], [48.300667, -4.388895], [48.300674, -4.3889384], [48.300705, -4.388943], [48.300686, -4.3889585], [48.300667, -4.388933], [48.300686, -4.3889084], [48.300827, -4.388857], [48.300915, -4.3888636], [48.300934, -4.388935], [48.300846, -4.389042], [48.30077, -4.3890133], [48.300747, -4.388972], [48.300755, -4.3890333], [48.300774, -4.3890514], [48.3008, -4.3889966], [48.3008, -4.3889966], [48.300808, -4.389015], [48.300735, -4.3890233], [48.30072, -4.3890033], [48.30078, -4.38907], [48.300755, -4.389045], [48.300755, -4.389045], [48.300766, -4.3890066], [48.30074, -4.3889885], [48.30072, -4.389002], [48.30072, -4.389002], [48.300682, -4.3890033], [48.300613, -4.3890066], [48.30063, -4.3890285], [48.300667, -4.389075], [48.300716, -4.389015], [48.30062, -4.3889484], [48.30057, -4.3889933], [48.300594, -4.3890634], [48.300674, -4.3890734], [48.300724, -4.3890514], [48.300625, -4.388992], [48.300575, -4.3889384], [48.300606, -4.38903], [48.300697, -4.3890567], [48.30075, -4.389032], [48.30075, -4.389032], [48.300694, -4.389015], [48.30063, -4.389015], [48.30063, -4.3890433], [48.300655, -4.389095], [48.30073, -4.3890767], [48.300713, -4.3890667], [48.300625, -4.389025], [48.30058, -4.389075], [48.30065, -4.3890815], [48.300785, -4.3890734], [48.30076, -4.3890815], [48.3006, -4.3890915], [48.30071, -4.389088], [48.30071, -4.389088], [48.300667, -4.389115], [48.300606, -4.389035], [48.30057, -4.3890533], [48.300686, -4.3890915], [48.300808, -4.389088], [48.300808, -4.389088], [48.300766, -4.389078], [48.300713, -4.3891115], [48.300766, -4.3890734], [48.30084, -4.3890514], [48.30081, -4.3890285], [48.30078, -4.38905], [48.300793, -4.38912], [48.300854, -4.3890967], [48.30085, -4.3890433], [48.30085, -4.3890467], [48.300865, -4.389055], [48.300865, -4.389055], [48.300873, -4.3890567], [48.30088, -4.389058], [48.300884, -4.389035], [48.30085, -4.389058], [48.30084, -4.3891134], [48.30084, -4.3891134], [48.300858, -4.3890915], [48.300835, -4.3890533], [48.300835, -4.3890615], [48.30084, -4.389068], [48.30089, -4.3890667], [48.30093, -4.389022], [48.30094, -4.3890066], [48.30096, -4.3889666], [48.300945, -4.3889318], [48.300995, -4.3888917], [48.30105, -4.388857], [48.301075, -4.3887568], [48.301147, -4.3886833], [48.301228, -4.388585], [48.30127, -4.3885], [48.30127, -4.3885], [48.301315, -4.388395], [48.30135, -4.3882966], [48.301353, -4.3881984], [48.301373, -4.3880734], [48.3014, -4.3879666], [48.3014, -4.3879666], [48.30139, -4.387833], [48.301414, -4.3876467], [48.301414, -4.3874717], [48.301434, -4.387222], [48.301266, -4.386307], [48.301155, -4.3861365], [48.300972, -4.38619], [48.300846, -4.3862414], [48.300766, -4.3862967], [48.30073, -4.386265], [48.20724, -4.497025], [48.20726, -4.4969916], [48.207287, -4.497102], [48.20726, -4.4970264], [48.207314, -4.4970384], [48.2073, -4.497035], [48.207294, -4.4970365], [48.207306, -4.497113], [48.207336, -4.497175], [48.20746, -4.49716], [48.207268, -4.497162], [48.207413, -4.49715], [48.207413, -4.49715], [48.20738, -4.49712], [48.207336, -4.497125], [48.20734, -4.49706], [48.207306, -4.4970217], [48.20728, -4.4970684], [48.207294, -4.49704], [48.207314, -4.4970517], [48.207294, -4.497093], [48.207294, -4.497093], [48.207294, -4.4970984], [48.207294, -4.4970465], [48.2073, -4.49707], [48.207287, -4.4970818], [48.207253, -4.49703], [48.207226, -4.4970417], [48.20722, -4.4970284], [48.20718, -4.4969683], [48.2072, -4.4970083], [48.20723, -4.4970384], [48.207275, -4.497075], [48.20726, -4.4970565], [48.2073, -4.497132], [48.207294, -4.4970884], [48.207294, -4.4970884], [48.207264, -4.49709], [48.207275, -4.497083], [48.20726, -4.497033], [48.207233, -4.4969783], [48.207233, -4.4969783], [48.20728, -4.4970164], [48.207245, -4.4969816], [48.20727, -4.49697], [48.207233, -4.4970117], [48.207233, -4.496977], [48.20726, -4.4969683], [48.207245, -4.49705], [48.20729, -4.4970036], [48.207287, -4.4970164], [48.2073, -4.497085], [48.2073, -4.497085], [48.207325, -4.4970717], [48.2073, -4.4971166], [48.207306, -4.4971232], [48.207275, -4.49704], [48.207275, -4.49704], [48.207287, -4.497135], [48.207268, -4.49705], [48.207264, -4.4970036], [48.20729, -4.4970765], [48.207287, -4.49705], [48.20728, -4.4970136], [48.20727, -4.4970765], [48.207283, -4.4970284], [48.20726, -4.497033], [48.20725, -4.49704], [48.2073, -4.497055], [48.207344, -4.497113], [48.20727, -4.497092], [48.20726, -4.497135], [48.20726, -4.497135], [48.20726, -4.4970765], [48.20726, -4.4970784], [48.207245, -4.497092], [48.20728, -4.497035], [48.207268, -4.497033], [48.207214, -4.496987], [48.207245, -4.4970117], [48.207233, -4.497], [48.207294, -4.497043], [48.207256, -4.496955], [48.20735, -4.4970117], [48.207253, -4.49705], [48.20732, -4.496985], [48.207268, -4.496967], [48.20726, -4.496985], [48.207264, -4.496967], [48.207283, -4.4969716], [48.207283, -4.4969716], [48.207375, -4.4968634], [48.207508, -4.496735], [48.20772, -4.4966383], [48.207832, -4.49665], [48.207825, -4.4966435], [48.207825, -4.4966435], [48.207813, -4.4965935], [48.207794, -4.4965534], [48.20764, -4.4965215], [48.207382, -4.496565], [48.207455, -4.496775], [48.20767, -4.49689], [48.207806, -4.4967217], [48.207752, -4.496647], [48.207596, -4.496703], [48.20744, -4.4969134], [48.20744, -4.4970284], [48.20743, -4.4969482], [48.20743, -4.4969482], [48.207478, -4.496977], [48.207485, -4.496053], [48.207314, -4.49393], [48.207245, -4.493543], [48.20719, -4.493295], [48.20714, -4.493025], [48.207077, -4.492718], [48.207035, -4.4925284], [48.206993, -4.4923067], [48.206947, -4.492095], [48.206875, -4.49171], [48.20683, -4.4915], [48.2068, -4.4913683], [48.20677, -4.4912133], [48.206745, -4.4910684], [48.20672, -4.49093], [48.2067, -4.4907985], [48.206673, -4.4906516], [48.20666, -4.49056], [48.20664, -4.49045], [48.206615, -4.4903417], [48.20659, -4.4902234], [48.20656, -4.490092], [48.20652, -4.4899335], [48.206493, -4.4898334], [48.206467, -4.4897184], [48.206387, -4.4895215], [48.206352, -4.489425], [48.20632, -4.489305], [48.206295, -4.489227], [48.20626, -4.489135], [48.206223, -4.489055], [48.20618, -4.48899], [48.205753, -4.4881916], [48.205585, -4.48803], [48.2054, -4.487885], [48.30496, -4.392532], [48.304905, -4.39241], [48.304707, -4.392103], [48.30462, -4.392065], [48.304802, -4.392258], [48.304802, -4.392258], [48.304955, -4.3925233], [48.304916, -4.392435], [48.304707, -4.3921], [48.304546, -4.3920016], [48.30475, -4.392115], [48.30475, -4.392115], [48.30491, -4.392463], [48.304974, -4.3925185], [48.30481, -4.392228], [48.30482, -4.3921986], [48.30492, -4.392505], [48.30498, -4.392565], [48.304905, -4.3923516], [48.304764, -4.39222], [48.304863, -4.39228], [48.304977, -4.3925714], [48.304977, -4.3925567], [48.304832, -4.392218], [48.304672, -4.392103], [48.304806, -4.392307], [48.30498, -4.3925433], [48.30498, -4.3925433], [48.304977, -4.39251], [48.304775, -4.392115], [48.304688, -4.39203], [48.30491, -4.3923783], [48.304966, -4.392558], [48.30488, -4.392308], [48.30467, -4.392053], [48.30484, -4.3922834], [48.30501, -4.3925867], [48.304947, -4.3923516], [48.30464, -4.392033], [48.304867, -4.3922935], [48.305027, -4.3926], [48.30493, -4.392355], [48.304764, -4.3921967], [48.305035, -4.3926435], [48.30508, -4.3927383], [48.30501, -4.3924985], [48.305008, -4.39247], [48.305096, -4.392852], [48.305115, -4.392825], [48.305008, -4.3925], [48.30496, -4.3923917], [48.305134, -4.3928432], [48.305157, -4.392928], [48.305157, -4.392928], [48.305042, -4.3925385], [48.304962, -4.3923917], [48.305145, -4.3928633], [48.30517, -4.3928633], [48.305054, -4.39261], [48.305054, -4.39255], [48.305145, -4.392842], [48.305134, -4.39279], [48.305027, -4.3925285], [48.30504, -4.392552], [48.305138, -4.392805], [48.30513, -4.392862], [48.305107, -4.39279], [48.3051, -4.39264], [48.30514, -4.39279], [48.30514, -4.39279], [48.305176, -4.392908], [48.30514, -4.39279], [48.30502, -4.39259], [48.3051, -4.392755], [48.30516, -4.393017], [48.30516, -4.393017], [48.30516, -4.392865], [48.30501, -4.392525], [48.30509, -4.3926783], [48.305187, -4.3931265], [48.305172, -4.392918], [48.30509, -4.3926682], [48.30516, -4.39289], [48.3052, -4.3931932], [48.30517, -4.392812], [48.304867, -4.392298], [48.305088, -4.39269], [48.305195, -4.3931317], [48.30514, -4.3927364], [48.30482, -4.392228], [48.305077, -4.392697], [48.305077, -4.392697], [48.30518, -4.393035], [48.305115, -4.3926716], [48.304825, -4.3922114], [48.305054, -4.392618], [48.305187, -4.393095], [48.305187, -4.393095], [48.305164, -4.3928466], [48.304874, -4.3922815], [48.30502, -4.3925133], [48.305183, -4.393067], [48.305172, -4.3930035], [48.30486, -4.39228], [48.305016, -4.392455], [48.305214, -4.393192], [48.305233, -4.393095], [48.3049, -4.39233], [48.304913, -4.392268], [48.305214, -4.3930917], [48.30526, -4.3931966], [48.304966, -4.39242], [48.304844, -4.392258], [48.304844, -4.392258], [48.30521, -4.393035], [48.30523, -4.393255], [48.304966, -4.39243], [48.304867, -4.39229], [48.305214, -4.393105], [48.305214, -4.393105], [48.30524, -4.3933883], [48.30506, -4.392615], [48.3049, -4.392357], [48.305115, -4.3927517], [48.30524, -4.3935165], [48.305218, -4.3931317], [48.30498, -4.3925285], [48.304928, -4.3924317], [48.30523, -4.393163], [48.305233, -4.3935432], [48.305172, -4.39283], [48.30488, -4.3923335], [48.30492, -4.39237], [48.30518, -4.3929834], [48.305145, -4.3929167], [48.30494, -4.392413], [48.304893, -4.3923583], [48.304947, -4.39244], [48.305134, -4.392802], [48.305134, -4.392802], [48.30516, -4.392915], [48.304966, -4.392383], [48.304737, -4.3921], [48.30488, -4.392255], [48.305145, -4.392948], [48.30522, -4.3929667], [48.30494, -4.3923683], [48.30482, -4.392185], [48.3049, -4.392288], [48.305134, -4.39291], [48.30521, -4.393083], [48.304977, -4.392465], [48.30478, -4.392192], [48.304794, -4.3921733], [48.305115, -4.39274], [48.305115, -4.39274], [48.30522, -4.393123], [48.305008, -4.3925266], [48.30483, -4.392265], [48.304794, -4.3921986], [48.305004, -4.392435], [48.305004, -4.392435], [48.305084, -4.392615], [48.30484, -4.3922915], [48.304832, -4.392258], [48.3049, -4.392287], [48.304928, -4.39234], [48.30484, -4.39227], [48.304813, -4.392225], [48.304825, -4.392218], [48.30488, -4.3922715], [48.304832, -4.3922434], [48.30484, -4.392225], [48.304844, -4.39224], [48.30484, -4.392238], [48.304867, -4.392248], [48.304867, -4.392248], [48.304836, -4.39224], [48.304844, -4.3922367], [48.304848, -4.39225], [48.304836, -4.3922415], [48.30485, -4.3922615], [48.30485, -4.3922615], [48.30488, -4.3922715], [48.304874, -4.3922834], [48.304893, -4.3922834], [48.304874, -4.392288], [48.304886, -4.3922915], [48.304874, -4.3922935], [48.304882, -4.3923035], [48.304874, -4.3922915], [48.304867, -4.392258], [48.30485, -4.392245], [48.304867, -4.3922534], [48.304832, -4.392215], [48.304813, -4.3922334], [48.30485, -4.39222], [48.30486, -4.392255], [48.30486, -4.392255], [48.30488, -4.392277], [48.304897, -4.392295], [48.304893, -4.392295], [48.30484, -4.3922534], [48.304867, -4.392208], [48.304867, -4.392208], [48.30486, -4.3922267], [48.304848, -4.3922067], [48.30482, -4.3922114], [48.3048, -4.3922114], [48.30485, -4.392245], [48.30484, -4.392228], [48.304787, -4.3921833], [48.304733, -4.392115], [48.30475, -4.3921585], [48.304775, -4.392172], [48.304733, -4.3921833], [48.304775, -4.392175], [48.3048, -4.39223], [48.3048, -4.39223], [48.304787, -4.39225], [48.304787, -4.39225], [48.30482, -4.3922567], [48.30482, -4.3922615], [48.3048, -4.39224], [48.304775, -4.392195], [48.304752, -4.3922267], [48.304752, -4.3922267], [48.304775, -4.3921967], [48.304775, -4.39219], [48.304768, -4.3922067], [48.304802, -4.3921986], [48.304768, -4.392165], [48.30477, -4.39216], [48.30479, -4.392195], [48.30484, -4.3922834], [48.304966, -4.392485], [48.305027, -4.3927283], [48.30502, -4.3925366], [48.30481, -4.3922434], [48.304695, -4.3921432], [48.30492, -4.3923583], [48.305115, -4.39297], [48.305115, -4.39297], [48.305126, -4.3927984], [48.304882, -4.3923016], [48.304703, -4.392133], [48.304928, -4.39233], [48.30513, -4.3928833], [48.30513, -4.3928833], [48.305126, -4.392852], [48.30484, -4.392325], [48.304688, -4.3921466], [48.304943, -4.392383], [48.30512, -4.39286], [48.30512, -4.3926816], [48.304813, -4.3922668], [48.304813, -4.3922033], [48.305065, -4.3926635], [48.30512, -4.392802], [48.30494, -4.3923965], [48.30476, -4.39217], [48.30496, -4.3923917], [48.30512, -4.3927765], [48.305084, -4.392608], [48.305084, -4.392608], [48.304752, -4.3921933], [48.30486, -4.392235], [48.30509, -4.3927183], [48.305122, -4.392823], [48.304955, -4.3923883], [48.304955, -4.3923883], [48.30472, -4.392172], [48.304962, -4.39247], [48.305126, -4.392815], [48.305054, -4.392495], [48.304695, -4.392132], [48.3049, -4.3922515], [48.30512, -4.3927784], [48.305103, -4.3927016], [48.304794, -4.3921866], [48.30492, -4.39227], [48.305107, -4.3927784], [48.30509, -4.392625], [48.30478, -4.3921833], [48.304626, -4.39213], [48.3049, -4.3923216], [48.3049, -4.3923216], [48.30501, -4.392542], [48.304974, -4.392405], [48.30481, -4.392205], [48.30493, -4.392315], [48.30504, -4.39259], [48.30504, -4.39259], [48.30503, -4.3925085], [48.30492, -4.39234], [48.30493, -4.3923216], [48.305073, -4.392675], [48.30508, -4.392628], [48.304905, -4.392307], [48.304855, -4.39226], [48.30509, -4.3926616], [48.3051, -4.392615], [48.304733, -4.39209], [48.30474, -4.3920717], [48.30499, -4.392472], [48.30499, -4.392452], [48.304867, -4.392295], [48.30486, -4.392258], [48.30486, -4.392258], [48.304935, -4.39241], [48.30486, -4.392248], [48.30482, -4.3921866], [48.30493, -4.392393], [48.30493, -4.3923135], [48.30493, -4.3923135], [48.304897, -4.39227], [48.30492, -4.3923135], [48.304996, -4.392463], [48.305035, -4.392532], [48.30502, -4.39251], [48.304996, -4.392475], [48.304985, -4.39248], [48.305035, -4.39258], [48.305046, -4.392615], [48.305008, -4.392475], [48.30493, -4.3923383], [48.305008, -4.392413], [48.30506, -4.3925385], [48.305058, -4.392585], [48.304985, -4.3924565], [48.304985, -4.3924565], [48.304966, -4.3923583], [48.304996, -4.392472], [48.305008, -4.3925467], [48.30499, -4.392433], [48.30496, -4.3924117], [48.30496, -4.3924117], [48.30496, -4.3924417], [48.30498, -4.39256], [48.305, -4.3925033], [48.304985, -4.39243], [48.304993, -4.392492], [48.305008, -4.3925934], [48.304996, -4.3925], [48.30494, -4.3923864], [48.304966, -4.392492], [48.305016, -4.39254], [48.305, -4.3925085], [48.30493, -4.3923883], [48.30496, -4.392405], [48.30508, -4.3926682], [48.305065, -4.392675], [48.305065, -4.392675], [48.30496, -4.3924417], [48.304905, -4.392317], [48.30509, -4.39273], [48.3051, -4.392805], [48.305, -4.3925233], [48.305, -4.3925233], [48.305, -4.392472], [48.305088, -4.39282], [48.305107, -4.392822], [48.30493, -4.3923965], [48.30482, -4.3922434], [48.30506, -4.392707], [48.305145, -4.3929615], [48.305096, -4.3926115], [48.304794, -4.392225], [48.30499, -4.392445], [48.305145, -4.39297], [48.30512, -4.3928785], [48.304874, -4.392298], [48.304752, -4.392218], [48.30502, -4.392658], [48.30502, -4.392658], [48.30516, -4.393007], [48.30512, -4.392707], [48.30478, -4.39223], [48.30488, -4.3922434], [48.305107, -4.3928785], [48.305107, -4.3928785], [48.30514, -4.3930483], [48.305054, -4.392608], [48.304817, -4.392258], [48.30502, -4.3925385], [48.305153, -4.3932], [48.305195, -4.3929214], [48.304897, -4.3923182], [48.304867, -4.39227], [48.305164, -4.3930235], [48.305183, -4.3933635], [48.305134, -4.3928185], [48.30492, -4.3924685], [48.305073, -4.392625], [48.3052, -4.393375], [48.305225, -4.39329], [48.305225, -4.39329], [48.305058, -4.392665], [48.304928, -4.392482], [48.305126, -4.3927665], [48.305214, -4.3934236], [48.305252, -4.393278], [48.30504, -4.392655], [48.304974, -4.392445], [48.30513, -4.3927], [48.3052, -4.3933783], [48.305256, -4.3933535], [48.305107, -4.392805], [48.30496, -4.392463], [48.304935, -4.392423], [48.30517, -4.392802], [48.305206, -4.3935566], [48.305267, -4.3933268], [48.30508, -4.3927135], [48.30494, -4.392453], [48.30494, -4.392413], [48.305096, -4.3926682], [48.305096, -4.3926682], [48.305187, -4.39315], [48.305145, -4.39292], [48.304955, -4.3924966], [48.304886, -4.392355], [48.304943, -4.392445], [48.304943, -4.392445], [48.305126, -4.39288], [48.305145, -4.393173], [48.305126, -4.392783], [48.304955, -4.39246], [48.304867, -4.3923783], [48.304947, -4.392453], [48.30509, -4.392725], [48.305134, -4.3929915], [48.30513, -4.3927717], [48.30498, -4.3925133], [48.304882, -4.39237], [48.304813, -4.39232], [48.304955, -4.3924284], [48.30502, -4.392483], [48.304977, -4.3924685], [48.304977, -4.3924685], [48.30502, -4.3925], [48.30501, -4.3925185], [48.304966, -4.392492], [48.304897, -4.392355], [48.304832, -4.3923016], [48.304832, -4.3923016], [48.304844, -4.3923135], [48.30488, -4.392367], [48.30498, -4.3924985], [48.305035, -4.3926134], [48.30504, -4.3925967], [48.305004, -4.392638], [48.30502, -4.392627], [48.305, -4.39256], [48.304996, -4.392542], [48.30501, -4.3925533], [48.30502, -4.392598], [48.30504, -4.392618], [48.30503, -4.39258], [48.30502, -4.3925533], [48.30504, -4.392568], [48.30504, -4.392568], [48.30501, -4.3925385], [48.304985, -4.39255], [48.305027, -4.3926034], [48.305054, -4.392625], [48.305073, -4.3927], [48.305073, -4.3927], [48.30508, -4.392733], [48.305084, -4.3927116], [48.3051, -4.3927617], [48.305107, -4.3927984], [48.30509, -4.3927217], [48.30506, -4.392715], [48.305088, -4.3927083], [48.305107, -4.39276], [48.305107, -4.3927517], [48.305084, -4.3927], [48.30508, -4.392647], [48.305077, -4.3926735], [48.30508, -4.3926682], [48.305046, -4.3926015], [48.305004, -4.3925166], [48.305004, -4.3925166], [48.304947, -4.3924265], [48.304905, -4.392383], [48.304928, -4.392405], [48.30488, -4.3923817], [48.3049, -4.392385], [48.3049, -4.392385], [48.30494, -4.3924284], [48.304955, -4.392452], [48.304966, -4.3924665], [48.304955, -4.392475], [48.304977, -4.392455], [48.304985, -4.392475], [48.304977, -4.3924584], [48.30496, -4.3924317], [48.304928, -4.39241], [48.304905, -4.392385], [48.304905, -4.392365], [48.304886, -4.39235], [48.304848, -4.392295], [48.30485, -4.392288], [48.304836, -4.392265], [48.304836, -4.392265], [48.304893, -4.3923035], [48.30499, -4.3924565], [48.305138, -4.392815], [48.30516, -4.392802], [48.304977, -4.3924665], [48.304977, -4.3924665], [48.30486, -4.392298], [48.30493, -4.392307], [48.305153, -4.3929167], [48.3052, -4.3933334], [48.305164, -4.3928885], [48.304993, -4.39253], [48.305027, -4.3925285], [48.30518, -4.3930817], [48.305157, -4.3933835], [48.30518, -4.39301], [48.304985, -4.392575], [48.305054, -4.3926167], [48.30516, -4.3931785], [48.305153, -4.39332], [48.30512, -4.392842], [48.30512, -4.392842], [48.30494, -4.392433], [48.305077, -4.3926034], [48.30517, -4.3931417], [48.305172, -4.392978], [48.30496, -4.39247], [48.305046, -4.3925166], [48.305172, -4.393095], [48.30518, -4.3931017], [48.305042, -4.392595], [48.304886, -4.3923736], [48.30509, -4.3927684], [48.305172, -4.3931217], [48.305153, -4.3927965], [48.3049, -4.392385], [48.305065, -4.3925614], [48.305153, -4.3930316], [48.305164, -4.392998], [48.304996, -4.3925033], [48.304905, -4.392375], [48.305122, -4.3928165], [48.30516, -4.3929534], [48.30512, -4.392717], [48.30492, -4.3923736], [48.305027, -4.39251], [48.30514, -4.3928685], [48.305065, -4.3925834], [48.304886, -4.39234], [48.305054, -4.392645], [48.30517, -4.392833], [48.305077, -4.3926315], [48.3049, -4.392367], [48.30504, -4.3926315], [48.305145, -4.392852], [48.305115, -4.3927484], [48.305, -4.3925166], [48.30508, -4.3926415], [48.305145, -4.392875], [48.305077, -4.392585], [48.30489, -4.392357], [48.305035, -4.392532], [48.305035, -4.392532], [48.30512, -4.392735], [48.305107, -4.3927083], [48.30508, -4.3926], [48.30508, -4.3926067], [48.30505, -4.3925867], [48.30505, -4.3925867], [48.305027, -4.392492], [48.305088, -4.3925767], [48.305138, -4.392735], [48.30506, -4.3925166], [48.305023, -4.39243], [48.3051, -4.392618], [48.30506, -4.3925533], [48.304993, -4.3924265], [48.305016, -4.392453], [48.30504, -4.39252], [48.305008, -4.392525], [48.30502, -4.39249], [48.30507, -4.3925815], [48.30508, -4.392588], [48.305035, -4.3924985], [48.305035, -4.3924985], [48.30506, -4.3925767], [48.305065, -4.392608], [48.305004, -4.392463], [48.30492, -4.3923483], [48.30501, -4.3924484], [48.30501, -4.3924484], [48.30509, -4.3926616], [48.30509, -4.392645], [48.305027, -4.392535], [48.305046, -4.3925714], [48.30503, -4.3925433], [48.304955, -4.3924017], [48.305, -4.392485], [48.30503, -4.3925533], [48.305046, -4.3926067], [48.305035, -4.39257], [48.30508, -4.39266], [48.30513, -4.392783], [48.30516, -4.3928266], [48.30517, -4.3929367], [48.30522, -4.3931317], [48.30522, -4.3931317], [48.30522, -4.393095], [48.30518, -4.392935], [48.305172, -4.392892], [48.30519, -4.39297], [48.305187, -4.39291], [48.305187, -4.39291], [48.305023, -4.3925633], [48.305077, -4.3925734], [48.30518, -4.3929415], [48.305054, -4.3925714], [48.304825, -4.3923], [48.305073, -4.3926716], [48.30514, -4.3928833], [48.30501, -4.3925333], [48.30493, -4.3923984], [48.3051, -4.39272], [48.30514, -4.392892], [48.30514, -4.3928185], [48.30509, -4.392707], [48.305107, -4.3927517], [48.30517, -4.3930583], [48.30517, -4.3930583], [48.30513, -4.392753], [48.30486, -4.392305], [48.30509, -4.392735], [48.305187, -4.3931665], [48.305122, -4.392727], [48.305122, -4.392727], [48.30482, -4.3922334], [48.30512, -4.392802], [48.30517, -4.393103], [48.30506, -4.39265], [48.304867, -4.3923283], [48.305134, -4.3928933], [48.305206, -4.393288], [48.305065, -4.392598], [48.304775, -4.3921866], [48.30506, -4.39275], [48.305153, -4.39318], [48.305153, -4.392892], [48.304825, -4.39229], [48.30504, -4.392625], [48.30519, -4.3933415], [48.30519, -4.3933415], [48.305206, -4.39303], [48.304844, -4.39231], [48.305008, -4.3924565], [48.30521, -4.39324], [48.305233, -4.3932385], [48.305233, -4.3932385], [48.30499, -4.392483], [48.30482, -4.392238], [48.305153, -4.3928986], [48.305233, -4.39352], [48.30516, -4.392865], [48.30493, -4.3923383], [48.30512, -4.3927183], [48.305256, -4.393668], [48.305252, -4.393278], [48.305, -4.392575], [48.30506, -4.3926516], [48.305267, -4.3934116], [48.30528, -4.3935866], [48.30514, -4.3928185], [48.30496, -4.3925285], [48.30496, -4.3925285], [48.305088, -4.3926783], [48.305225, -4.3934765], [48.305264, -4.393605], [48.305153, -4.3928866], [48.305054, -4.392628], [48.305054, -4.392628], [48.3051, -4.3926883], [48.30525, -4.393175], [48.30526, -4.3937035], [48.30523, -4.3931518], [48.305115, -4.39278], [48.30506, -4.3926215], [48.30512, -4.392743], [48.305187, -4.3930116], [48.30514, -4.39287], [48.305042, -4.392645], [48.304913, -4.39244], [48.30484, -4.3923817], [48.304867, -4.3923917], [48.304935, -4.3924985], [48.305073, -4.3927183], [48.305073, -4.3927183], [48.305035, -4.392608], [48.304893, -4.3923516], [48.304695, -4.39218], [48.304726, -4.392205], [48.305035, -4.392482], [48.305035, -4.392482], [48.30528, -4.3936086], [48.305252, -4.39331], [48.305084, -4.392657], [48.304974, -4.392445], [48.305027, -4.3925066], [48.305096, -4.3926783], [48.30515, -4.3927765], [48.305115, -4.39271], [48.30509, -4.392647], [48.305088, -4.3926616], [48.305107, -4.392687], [48.3051, -4.392687], [48.305084, -4.392625], [48.30509, -4.3926716], [48.30509, -4.392657], [48.305115, -4.3926883], [48.30513, -4.3927417], [48.305134, -4.39269], [48.305122, -4.3927183], [48.30518, -4.3928165], [48.30518, -4.3928165], [48.30518, -4.392793], [48.30512, -4.3927283], [48.305134, -4.392795], [48.305126, -4.3927517], [48.305115, -4.39274], [48.30507, -4.3926435], [48.305107, -4.39272], [48.30514, -4.392785], [48.305073, -4.39267], [48.30504, -4.3925934], [48.30506, -4.392618], [48.305077, -4.3926215], [48.30504, -4.392627], [48.30509, -4.392707], [48.305046, -4.392645], [48.30496, -4.3925033], [48.304974, -4.392485], [48.30501, -4.3925567], [48.30501, -4.3925633], [48.304993, -4.3925633], [48.304993, -4.3925633], [48.304993, -4.39255], [48.304955, -4.3924685], [48.30501, -4.392532], [48.305054, -4.392618], [48.30504, -4.3925714], [48.305004, -4.392525], [48.304966, -4.392482], [48.30498, -4.3924785], [48.305046, -4.392535], [48.305073, -4.39261], [48.305042, -4.392552], [48.304985, -4.39247], [48.305035, -4.39251], [48.305077, -4.3926535], [48.30512, -4.39273], [48.30507, -4.392645], [48.30502, -4.3925333], [48.305054, -4.3925567], [48.3051, -4.392658], [48.30509, -4.392665], [48.30509, -4.392665], [48.305077, -4.392637], [48.305058, -4.3925734], [48.305065, -4.39261], [48.305073, -4.3926], [48.30506, -4.39258], [48.305065, -4.392588], [48.304943, -4.392423], [48.304615, -4.39211], [48.3044, -4.3920717], [48.30422, -4.39212], [48.30418, -4.3921185], [48.30428, -4.39208], [48.304436, -4.3920484], [48.30452, -4.392133], [48.3045, -4.392075], [48.3045, -4.392075], [48.304356, -4.392112], [48.304276, -4.392103], [48.304306, -4.392075], [48.3045, -4.392075], [48.30464, -4.3921933], [48.30464, -4.3921933], [48.304607, -4.3921], [48.304367, -4.3920684], [48.304165, -4.39213], [48.30417, -4.392115], [48.304432, -4.39204], [48.304653, -4.3921585], [48.304634, -4.3921266], [48.304512, -4.392053], [48.304455, -4.3920417], [48.30456, -4.3920617], [48.304756, -4.392215], [48.30478, -4.392317], [48.304726, -4.3921485], [48.30468, -4.3921466], [48.304726, -4.392192], [48.304726, -4.392192], [48.30478, -4.3922467], [48.304775, -4.39223], [48.30467, -4.3921], [48.304535, -4.3920684], [48.304592, -4.3920817], [48.304592, -4.3920817], [48.304768, -4.3921933], [48.304867, -4.392415], [48.30486, -4.39236], [48.304756, -4.3922133], [48.304653, -4.39217], [48.30472, -4.392175], [48.30482, -4.3923583], [48.30485, -4.3923736], [48.3048, -4.392248], [48.30467, -4.3921766], [48.304646, -4.392115], [48.304695, -4.3921585], [48.304787, -4.39229], [48.3048, -4.392307], [48.3047, -4.392135], [48.3047, -4.392135], [48.304615, -4.3920965], [48.304726, -4.3921833], [48.304787, -4.392287], [48.30475, -4.3921833], [48.304714, -4.3921385], [48.304714, -4.3921385], [48.304794, -4.3922167], [48.304794, -4.3922114], [48.304726, -4.3921185], [48.304737, -4.3921585], [48.304733, -4.39218], [48.30474, -4.3921833], [48.30475, -4.3922133], [48.304768, -4.3921986], [48.304813, -4.392202], [48.30485, -4.392248], [48.304825, -4.39223], [48.304802, -4.39221], [48.304817, -4.3922434], [48.304848, -4.392295], [48.304836, -4.3923035], [48.304836, -4.3923035], [48.304813, -4.392258], [48.304832, -4.39228], [48.30483, -4.39229], [48.304825, -4.3923016], [48.304825, -4.3923116], [48.304825, -4.3923116], [48.304844, -4.3923383], [48.304874, -4.3923316], [48.304874, -4.39236], [48.304867, -4.392347], [48.304867, -4.39241], [48.304893, -4.392357], [48.30488, -4.3923435], [48.304832, -4.3922915], [48.304825, -4.392345], [48.304863, -4.3923383], [48.304905, -4.3923483], [48.30477, -4.39227], [48.30471, -4.3921986], [48.304913, -4.392413], [48.304905, -4.392415], [48.30461, -4.39214], [48.30467, -4.3920984], [48.304905, -4.392413], [48.30484, -4.392265], [48.30448, -4.3921084], [48.30448, -4.3921084], [48.30464, -4.3920918], [48.304916, -4.392415], [48.30485, -4.392255], [48.304527, -4.3920765], [48.3047, -4.39215], [48.30494, -4.3924384], [48.30475, -4.39214], [48.30448, -4.3920765], [48.304825, -4.3922935], [48.304886, -4.392335], [48.304577, -4.3920584], [48.304455, -4.3920364], [48.304855, -4.392277], [48.30488, -4.392357], [48.3046, -4.3921165], [48.304607, -4.3920517], [48.304855, -4.392298], [48.304695, -4.3920465], [48.30428, -4.3919883], [48.30453, -4.39195], [48.30453, -4.39195], [48.30478, -4.392245], [48.304726, -4.39212], [48.304386, -4.391985], [48.3045, -4.39194], [48.30481, -4.3922315], [48.304714, -4.3920817], [48.30418, -4.3919435], [48.304325, -4.391895], [48.304707, -4.3921084], [48.30476, -4.392218], [48.304466, -4.3919683], [48.304234, -4.391958], [48.304535, -4.3920236], [48.3048, -4.392275], [48.304794, -4.3923416], [48.304794, -4.3923416], [48.304634, -4.392053], [48.30442, -4.3919983], [48.30462, -4.392], [48.304832, -4.392337], [48.30485, -4.392435], [48.30485, -4.392435], [48.30474, -4.392102], [48.304455, -4.3919916], [48.304493, -4.392], [48.30472, -4.392192], [48.304867, -4.3924084], [48.3048, -4.392248], [48.3045, -4.39197], [48.30428, -4.391918], [48.30462, -4.391985], [48.30486, -4.3923736], [48.30486, -4.3924985], [48.30475, -4.392105], [48.304367, -4.3919516], [48.30434, -4.39194], [48.30468, -4.3921165], [48.304893, -4.3924966], [48.304886, -4.3924065], [48.304554, -4.3920135], [48.30426, -4.3919067], [48.304314, -4.391888], [48.304314, -4.391888], [48.304615, -4.3920565], [48.30484, -4.3923335], [48.304825, -4.39228], [48.304523, -4.3920283], [48.30429, -4.391945], [48.304363, -4.3919716], [48.304535, -4.3920183], [48.30466, -4.3921933], [48.30472, -4.392205], [48.30462, -4.392035], [48.3044, -4.3919415], [48.304314, -4.391937], [48.304394, -4.3919215], [48.304512, -4.391977], [48.304527, -4.391957], [48.3044, -4.39193], [48.304295, -4.3919234], [48.304245, -4.3919067], [48.30425, -4.3918533], [48.304317, -4.3918614], [48.304317, -4.3918614], [48.30438, -4.3919], [48.304623, -4.3920364], [48.304752, -4.392308], [48.304787, -4.3922467], [48.30467, -4.392132], [48.304565, -4.3920817], [48.30456, -4.39205], [48.30456, -4.3920364], [48.30456, -4.3920364], [48.30456, -4.392045], [48.30459, -4.3920584], [48.304585, -4.3920364], [48.304558, -4.392015], [48.304535, -4.392007], [48.30456, -4.392], [48.30456, -4.392], [48.30454, -4.3919883], [48.3045, -4.3919883], [48.304493, -4.391995], [48.30451, -4.391975], [48.304585, -4.392027], [48.30456, -4.39202], [48.304527, -4.3920283], [48.30453, -4.39205], [48.304577, -4.3920765], [48.304634, -4.3921733], [48.304695, -4.392235], [48.30475, -4.392245], [48.30475, -4.3922534], [48.304672, -4.392185], [48.304604, -4.392155], [48.304573, -4.3921366], [48.304535, -4.392123], [48.30448, -4.3925567], [48.30388, -4.3934216], [48.303753, -4.3941336], [48.303753, -4.3941336], [48.303833, -4.394335], [48.3043, -4.395563], [47.835415, -3.9643233], [47.83513, -3.9641433], [47.83506, -3.964025], [47.835304, -3.9642732], [47.834892, -3.9636366], [47.834892, -3.963705], [47.835125, -3.9640517], [47.835526, -3.9642434], [48.287605, -4.5897465], [48.28756, -4.5897684], [48.28755, -4.58977], [48.2875, -4.5897884], [48.28746, -4.589803], [48.287415, -4.589815], [48.287373, -4.5898333], [48.286747, -4.5909386], [48.286633, -4.59227], [48.2867, -4.591475], [48.286865, -4.5915666], [48.28681, -4.5915284], [48.28694, -4.591632], [48.28697, -4.59163], [48.286854, -4.5915933], [48.28682, -4.5915384], [48.286995, -4.59168], [48.286926, -4.5915966], [48.28674, -4.5914717], [48.28681, -4.5915265], [48.286892, -4.5915985], [48.286705, -4.591473], [48.286755, -4.591542], [48.28666, -4.5914817], [48.28666, -4.5914817], [48.286568, -4.5914683], [48.286663, -4.591525], [48.28665, -4.59153], [48.28643, -4.591465], [48.286606, -4.5914884], [48.286606, -4.5914884], [48.286957, -4.591642], [48.286808, -4.591563], [48.286472, -4.5914083], [48.286655, -4.591573], [48.28694, -4.591635], [48.286686, -4.59154], [48.28651, -4.59151], [48.28673, -4.59153], [48.286892, -4.5915866], [48.28662, -4.5914984], [48.28646, -4.5914435], [48.28673, -4.591493], [48.2869, -4.591552], [48.286507, -4.5915017], [48.286507, -4.5915017], [48.28677, -4.591515], [48.286804, -4.5915318], [48.28655, -4.5914783], [48.286694, -4.5915318], [48.28668, -4.5914817], [48.28668, -4.5914817], [48.286583, -4.5914865], [48.2867, -4.591563], [48.286755, -4.5914683], [48.286602, -4.5914235], [48.286655, -4.59148], [48.28681, -4.59148], [48.28665, -4.591475], [48.28656, -4.591475], [48.286716, -4.5915384], [48.286594, -4.5915065], [48.28634, -4.5914416], [48.28634, -4.59144], [48.286587, -4.5914917], [48.28672, -4.59151], [48.286552, -4.59148], [48.286552, -4.59148], [48.286377, -4.591437], [48.286472, -4.5914817], [48.286583, -4.59148], [48.28652, -4.5914717], [48.286438, -4.5914636], [48.28662, -4.5914717], [48.286777, -4.5915184], [48.286705, -4.5914817], [48.286568, -4.5914783], [48.286507, -4.5914683], [48.286613, -4.59151], [48.286633, -4.5914617], [48.286533, -4.5914316], [48.28656, -4.591485], [48.286587, -4.5914583], [48.28647, -4.5914483], [48.286465, -4.5914335], [48.286476, -4.5914583], [48.28644, -4.591437], [48.286613, -4.5914817], [48.286613, -4.5914817], [48.286724, -4.5914783], [48.28659, -4.59149], [48.28635, -4.5914516], [48.28644, -4.5914965], [48.286694, -4.59148], [48.286694, -4.59148], [48.28668, -4.5915065], [48.28646, -4.5914636], [48.28638, -4.59145], [48.286552, -4.591467], [48.28676, -4.5914717], [48.286705, -4.5914516], [48.286495, -4.5914283], [48.286392, -4.591513], [48.286488, -4.5915184], [48.286694, -4.59148], [48.28666, -4.5914965], [48.2865, -4.5914283], [48.2864, -4.59144], [48.286472, -4.591473], [48.28662, -4.591445], [48.286686, -4.5914636], [48.28648, -4.5914865], [48.286404, -4.591427], [48.28644, -4.59148], [48.2865, -4.5914316], [48.2865, -4.5914316], [48.28649, -4.5915017], [48.286438, -4.591437], [48.28636, -4.5914617], [48.286266, -4.591435], [48.28624, -4.5914636], [48.286427, -4.5914383], [48.286514, -4.5914917], [48.286217, -4.591457], [48.28613, -4.591535], [48.286407, -4.5914216], [48.286545, -4.591425], [48.286312, -4.59146], [48.28611, -4.591505], [48.286247, -4.59148], [48.28644, -4.591377], [48.28644, -4.591377], [48.28626, -4.591465], [48.28609, -4.5915084], [48.286327, -4.5914], [48.28638, -4.59141], [48.28612, -4.591465], [48.286148, -4.5915585], [48.286476, -4.591417], [48.286446, -4.5915065], [48.286102, -4.5914764], [48.286053, -4.5915985], [48.286335, -4.5914216], [48.28644, -4.5914216], [48.286175, -4.5914617], [48.286064, -4.591535], [48.286415, -4.591417], [48.286488, -4.59143], [48.286194, -4.5914216], [48.286095, -4.5915365], [48.28635, -4.5914283], [48.28648, -4.5913715], [48.28648, -4.5913715], [48.286232, -4.591388], [48.286114, -4.5914965], [48.286415, -4.5914183], [48.286507, -4.5913935], [48.286205, -4.5914636], [48.28618, -4.5915484], [48.286514, -4.591407], [48.28646, -4.59145], [48.28628, -4.591495], [48.286575, -4.5914016], [48.286312, -4.591447], [48.286007, -4.5915833], [48.28634, -4.591513], [48.286617, -4.5914335], [48.286312, -4.591485], [48.28599, -4.5915833], [48.286285, -4.5915117], [48.286583, -4.591397], [48.28632, -4.59144], [48.28632, -4.59144], [48.286415, -4.591465], [48.286495, -4.5914335], [48.2862, -4.59146], [48.28618, -4.591552], [48.28618, -4.591552], [48.28647, -4.591435], [48.28643, -4.591473], [48.28606, -4.5915165], [48.28635, -4.591495], [48.286606, -4.5914183], [48.286243, -4.591495], [48.28615, -4.59152], [48.286434, -4.591447], [48.286434, -4.591447], [48.286106, -4.59148], [48.286255, -4.5915384], [48.286545, -4.59142], [48.286213, -4.591495], [48.28599, -4.5915885], [48.28632, -4.591485], [48.28632, -4.591485], [48.286453, -4.591425], [48.286175, -4.5914984], [48.28615, -4.591552], [48.286453, -4.5914316], [48.28638, -4.5914965], [48.286053, -4.5915585], [48.286297, -4.5914984], [48.286526, -4.5914283], [48.2862, -4.5915084], [48.2861, -4.591582], [48.286457, -4.591447], [48.2865, -4.591427], [48.286125, -4.5914984], [48.28615, -4.5915685], [48.28641, -4.5914235], [48.286224, -4.59149], [48.285988, -4.591585], [48.28615, -4.5914865], [48.286148, -4.5915484], [48.28591, -4.5916085], [48.28591, -4.5916085], [48.286095, -4.59159], [48.286293, -4.591465], [48.28605, -4.591605], [48.28589, -4.5917068], [48.286213, -4.5914984], [48.286247, -4.591485], [48.28585, -4.5916667], [48.285892, -4.59161], [48.286118, -4.591485], [48.285908, -4.5916433], [48.28583, -4.59173], [48.28626, -4.5914636], [48.286167, -4.5915484], [48.28581, -4.5917315], [48.2861, -4.5915318], [48.28625, -4.5915318], [48.28583, -4.5917115], [48.285965, -4.5916915], [48.286194, -4.5914717], [48.285885, -4.59171], [48.285885, -4.59171], [48.285915, -4.5917315], [48.286148, -4.5914383], [48.285885, -4.5916967], [48.2858, -4.5918264], [48.28615, -4.5914617], [48.28615, -4.5914617], [48.286057, -4.591612], [48.285908, -4.5916667], [48.286095, -4.5915084], [48.285984, -4.591575], [48.285854, -4.5917583], [48.28615, -4.5914865], [48.28607, -4.59154], [48.285892, -4.591668], [48.286, -4.5915985], [48.286095, -4.5914984], [48.28588, -4.59164], [48.286, -4.5916185], [48.28622, -4.591427], [48.285965, -4.5915685], [48.285995, -4.59161], [48.285995, -4.59161], [48.286243, -4.591385], [48.28601, -4.591533], [48.285885, -4.5916834], [48.286194, -4.59145], [48.28619, -4.5914617], [48.285965, -4.5916185], [48.28612, -4.591493], [48.286133, -4.591495], [48.28602, -4.591592], [48.286194, -4.5914783], [48.286175, -4.5914965], [48.285976, -4.59159], [48.286186, -4.5914764], [48.286346, -4.5913982], [48.2861, -4.5915017], [48.285946, -4.5916386], [48.28622, -4.5915017], [48.28627, -4.5914416], [48.286007, -4.591572], [48.28602, -4.591642], [48.28634, -4.5914717], [48.286293, -4.5914116], [48.286026, -4.5915465], [48.286125, -4.5915265], [48.28634, -4.591415], [48.286198, -4.5914917], [48.286026, -4.5915866], [48.286194, -4.59152], [48.286366, -4.591407], [48.286247, -4.5914483], [48.286045, -4.591565], [48.286114, -4.591553], [48.286285, -4.591455], [48.286392, -4.5914416], [48.28626, -4.591495], [48.28606, -4.5916], [48.286148, -4.591553], [48.286358, -4.5914283], [48.28632, -4.5915084], [48.28606, -4.591515], [48.28616, -4.5915833], [48.286404, -4.5914383], [48.286358, -4.5914617], [48.2861, -4.5914917], [48.286095, -4.5915885], [48.286247, -4.591493], [48.286358, -4.59141], [48.286255, -4.59148], [48.286068, -4.59151], [48.28607, -4.591573], [48.286373, -4.5914865], [48.286453, -4.5914183], [48.286205, -4.5914717], [48.286095, -4.59156], [48.286224, -4.591515], [48.2865, -4.5914435], [48.286453, -4.591447], [48.286186, -4.591485], [48.286045, -4.591503], [48.286133, -4.59155], [48.286133, -4.59155], [48.286335, -4.59143], [48.28637, -4.59146], [48.28615, -4.591495], [48.286045, -4.59155], [48.28608, -4.5915284], [48.286247, -4.5914865], [48.286396, -4.591427], [48.286213, -4.591543], [48.28599, -4.591575], [48.2859, -4.591648], [48.286026, -4.5915985], [48.28623, -4.5915284], [48.28644, -4.5914764], [48.286354, -4.59154], [48.28614, -4.5915766], [48.28596, -4.5915966], [48.28598, -4.591648], [48.286167, -4.5915], [48.286205, -4.5915833], [48.285885, -4.5917735], [48.285885, -4.5917735], [48.28576, -4.5918365], [48.285828, -4.591815], [48.28613, -4.59164], [48.286274, -4.591465], [48.28632, -4.591533], [48.28632, -4.591533], [48.286255, -4.591505], [48.28618, -4.591545], [48.286095, -4.5915666], [48.286045, -4.591602], [48.28604, -4.591535], [48.28612, -4.59162], [48.286175, -4.5915284], [48.286232, -4.591493], [48.2863, -4.59154], [48.28622, -4.591535], [48.28604, -4.5916286], [48.28596, -4.59165], [48.28603, -4.5916286], [48.286255, -4.5915885], [48.286545, -4.591475], [48.286545, -4.591475], [48.28665, -4.5915117], [48.28647, -4.591565], [48.286247, -4.591533], [48.286133, -4.591535], [48.286224, -4.5915318], [48.286224, -4.5915318], [48.2863, -4.5914965], [48.286354, -4.5915318], [48.28628, -4.5915265], [48.286167, -4.59151], [48.2862, -4.591515], [48.28626, -4.591447], [48.286232, -4.59152], [48.286175, -4.5914717], [48.286148, -4.5915685], [48.28628, -4.5915165], [48.286472, -4.591435], [48.286507, -4.5915], [48.286327, -4.591542], [48.28613, -4.5915265], [48.286148, -4.591563], [48.286148, -4.591563], [48.28634, -4.5915117], [48.2865, -4.591445], [48.28648, -4.59148], [48.286293, -4.5915084], [48.286125, -4.5915084], [48.286083, -4.591565], [48.2862, -4.591563], [48.286354, -4.591467], [48.2864, -4.591427], [48.28623, -4.59153], [48.285873, -4.59184], [48.28565, -4.5921416], [48.285534, -4.592322], [48.285603, -4.59235], [48.285675, -4.5921617], [48.285755, -4.5920267], [48.285767, -4.591865], [48.285767, -4.591825], [48.285748, -4.591885], [48.28572, -4.59196], [48.28572, -4.59196], [48.28576, -4.59204], [48.28576, -4.592045], [48.285793, -4.5920134], [48.285755, -4.59182], [48.285763, -4.59179], [48.285763, -4.59179], [48.28578, -4.5918584], [48.285713, -4.5919266], [48.2857, -4.592015], [48.285736, -4.5920267], [48.2858, -4.591982], [48.285847, -4.5918565], [48.285885, -4.5917516], [48.285892, -4.591727], [48.28587, -4.5917935], [48.2858, -4.5918717], [48.28586, -4.5920434], [48.286095, -4.592395], [48.2864, -4.592605], [48.303665, -4.5978317], [48.303665, -4.5978317], [48.303665, -4.597665], [48.303833, -4.597665], [48.303833, -4.597665], [48.303833, -4.5974984], [48.304, -4.596832], [48.304, -4.596165], [48.303833, -4.596165], [48.303665, -4.595832], [48.303333, -4.5959983], [48.303165, -4.5959983], [48.303, -4.5959983], [48.303, -4.5959983], [48.303, -4.5959983], [48.303165, -4.596165], [48.303165, -4.596165], [48.303333, -4.596165], [48.3035, -4.596165], [48.303665, -4.5963316], [48.303833, -4.5964985], [48.304, -4.596665], [48.304165, -4.596832], [48.304333, -4.596998], [48.3045, -4.597165], [48.3045, -4.597165], [48.3045, -4.5973315], [48.3045, -4.5974984], [48.3045, -4.5974984], [48.3045, -4.5974984], [48.3045, -4.5974984], [48.3045, -4.5974984], [48.3045, -4.5974984], [48.3045, -4.5973315], [48.3045, -4.597165], [48.3045, -4.596998], [48.304165, -4.5978317], [48.304, -4.5983315], [48.304, -4.598165], [48.308094, -4.7607183], [48.308132, -4.7607284], [48.308167, -4.760735], [48.30821, -4.7607384], [48.30824, -4.76074], [48.30828, -4.760743], [48.308674, -4.7607465], [48.308674, -4.7607465], [48.309166, -4.7607117], [48.309566, -4.760657], [48.309925, -4.7605433], [48.31019, -4.76035], [48.310333, -4.760175], [48.310375, -4.7600465], [48.3104, -4.7599635], [48.31045, -4.759878], [48.3105, -4.759812], [48.310555, -4.759673], [48.310555, -4.759607], [48.310555, -4.759568], [48.310535, -4.759565], [48.310566, -4.759525], [48.310566, -4.759525], [48.310608, -4.7594814], [48.3105, -4.759353], [48.310326, -4.7588634], [48.11165, -4.330682], [48.11165, -4.330732], [48.11165, -4.3307815], [48.111633, -4.3309484], [48.11165, -4.330965], [48.11165, -4.3309984], [48.111633, -4.331315], [48.111633, -4.331365], [48.111633, -4.3313985], [48.11165, -4.3313985], [48.11165, -4.3313985], [48.11165, -4.3313985], [48.11165, -4.331415], [48.11165, -4.331415], [48.11165, -4.331415], [48.11165, -4.331415], [48.11165, -4.331415], [48.11165, -4.331415], [48.11165, -4.331415], [48.11165, -4.331415], [48.111668, -4.331415], [48.111668, -4.331415], [48.111668, -4.331415], [48.111668, -4.331415], [48.11165, -4.331432], [48.11165, -4.331432], [48.11165, -4.331432], [48.111668, -4.331432], [48.111668, -4.3314486], [48.111668, -4.3314486], [48.111668, -4.3314486], [48.111668, -4.331465], [48.111668, -4.3314815], [48.111668, -4.3314815], [48.111668, -4.3314815], [48.111668, -4.331498], [48.111668, -4.331498], [48.111668, -4.331498], [48.111668, -4.331498], [48.111668, -4.331498], [48.111668, -4.331498], [48.111668, -4.331498], [48.111668, -4.331498], [48.111668, -4.331498], [48.111683, -4.331498], [48.111683, -4.331498], [48.111683, -4.3314815], [48.111668, -4.3314486], [48.111668, -4.331382], [48.111633, -4.331215], [48.111633, -4.3311815], [48.11165, -4.331148], [48.11165, -4.3310986], [48.111633, -4.331065], [48.111633, -4.3309984], [48.111618, -4.3308816], [48.111633, -4.3308315], [48.111633, -4.3307815], [48.111633, -4.330715], [48.11165, -4.330682], [48.111633, -4.3306484], [48.111633, -4.3305984], [48.111633, -4.3305817], [48.11165, -4.330565], [48.11165, -4.3305316], [48.111668, -4.330515], [48.111668, -4.330498], [48.111683, -4.3304815], [48.111683, -4.3304815], [48.111683, -4.3304815], [48.1117, -4.330448], [48.111717, -4.330465], [48.111717, -4.330465], [48.111732, -4.3304315], [48.111732, -4.3304315], [48.111732, -4.3304315], [48.111732, -4.3304315], [48.11175, -4.330415], [48.11175, -4.3303986], [48.111767, -4.3303986], [48.111767, -4.3303986], [48.111767, -4.330382], [48.1118, -4.330365], [48.1118, -4.3303485], [48.111816, -4.3303485], [48.111816, -4.3303485], [48.11183, -4.3303485], [48.11183, -4.3303485], [48.11183, -4.3303485], [48.11183, -4.3303485], [48.11183, -4.3303485], [48.11183, -4.3303485], [48.111816, -4.330365], [48.111816, -4.330365], [48.111816, -4.330365], [48.111816, -4.330382], [48.111816, -4.330382], [48.1118, -4.3303986], [48.1118, -4.330415], [48.111767, -4.330448], [48.11175, -4.330565], [48.111717, -4.330615], [48.111717, -4.330682], [48.1117, -4.330715], [48.1117, -4.330765], [48.111668, -4.3308816], [48.11165, -4.3309317], [48.11165, -4.3309484], [48.111633, -4.331032], [48.111618, -4.331198], [48.111618, -4.3312817], [48.1116, -4.3313484], [48.1116, -4.331365], [48.111618, -4.3314486], [48.111633, -4.3314815], [48.11165, -4.331515], [48.11165, -4.3315315], [48.111668, -4.331548], [48.111683, -4.331565], [48.111683, -4.331565], [48.111683, -4.331565], [48.111683, -4.331565], [48.111683, -4.331565], [48.111683, -4.331565], [48.111683, -4.331565], [48.111683, -4.331548], [48.111683, -4.331548], [48.111668, -4.331515], [48.111668, -4.331465], [48.111668, -4.331365], [48.111668, -4.331265], [48.111668, -4.3312483], [48.111668, -4.3312316], [48.111668, -4.331198], [48.111668, -4.3311315], [48.111668, -4.331065], [48.11165, -4.3309984], [48.111668, -4.3309484], [48.111683, -4.330848], [48.1117, -4.330815], [48.111717, -4.330765], [48.111717, -4.330732], [48.111732, -4.330732], [48.111732, -4.330715], [48.111732, -4.330715], [48.111732, -4.330715], [48.111732, -4.3306985], [48.11175, -4.3306985], [48.11175, -4.330682], [48.11175, -4.330682], [48.111767, -4.330665], [48.1118, -4.330615], [48.111816, -4.3305817], [48.11183, -4.330565], [48.11183, -4.3305483], [48.11183, -4.3305316], [48.11183, -4.330515], [48.11183, -4.330515], [48.11183, -4.330498], [48.11183, -4.330498], [48.11183, -4.3304815], [48.111816, -4.330498], [48.111816, -4.3304815], [48.111816, -4.3304815], [48.111816, -4.3304815], [48.1118, -4.3304815], [48.1118, -4.3304815], [48.1118, -4.3304815], [48.1118, -4.3304815], [48.1118, -4.3304815], [48.111782, -4.3304815], [48.111782, -4.3304815], [48.111767, -4.330515], [48.111717, -4.3306317], [48.111717, -4.330665], [48.1117, -4.330765], [48.111683, -4.330915], [48.111683, -4.330965], [48.111668, -4.3309984], [48.111668, -4.3310485], [48.111633, -4.3312483], [48.111633, -4.3312984], [48.11165, -4.331365], [48.11165, -4.3314486], [48.11165, -4.331465], [48.111668, -4.3314815], [48.111668, -4.331498], [48.111668, -4.331498], [48.111668, -4.331498], [48.111668, -4.331515], [48.111668, -4.331515], [48.111668, -4.3315315], [48.111683, -4.3315816], [48.111683, -4.3315816], [48.111668, -4.3315816], [48.111668, -4.3315816], [48.111668, -4.3315816], [48.111668, -4.3315816], [48.111668, -4.3315816], [48.111668, -4.3315816], [48.111668, -4.3315816], [48.111668, -4.331548], [48.111668, -4.331498], [48.11165, -4.331465], [48.11165, -4.3313985], [48.11165, -4.331382], [48.11165, -4.331365], [48.11165, -4.331315], [48.11165, -4.3312483], [48.111668, -4.331198], [48.111668, -4.331165], [48.111668, -4.331082], [48.111683, -4.3310485], [48.1117, -4.331032], [48.1117, -4.331032], [48.111717, -4.331015], [48.111717, -4.3309984], [48.11175, -4.3309317], [48.111782, -4.3308816], [48.111782, -4.3308816], [48.111782, -4.330865], [48.1118, -4.330848], [48.1118, -4.3308315], [48.111816, -4.330798], [48.111816, -4.3307815], [48.111816, -4.330732], [48.111816, -4.330732], [48.111816, -4.330732], [48.111816, -4.330732], [48.111816, -4.330732], [48.111816, -4.330715], [48.111816, -4.330732], [48.111816, -4.330732], [48.1118, -4.330732], [48.1118, -4.330732], [48.111782, -4.330765], [48.11175, -4.3307815], [48.11175, -4.330815], [48.111732, -4.330848], [48.111683, -4.330915], [48.111668, -4.330965], [48.111633, -4.3310986], [48.111618, -4.3311815], [48.111618, -4.331198], [48.111618, -4.331365], [48.1116, -4.3313985], [48.1116, -4.331415], [48.1116, -4.331432], [48.1116, -4.3314815], [48.1116, -4.331515], [48.111618, -4.331548], [48.111633, -4.3315816], [48.111633, -4.331615], [48.111633, -4.3316317], [48.111633, -4.3316317], [48.11165, -4.3316483], [48.11165, -4.331665], [48.11165, -4.3316817], [48.11165, -4.3316817], [48.11165, -4.3316817], [48.11165, -4.3316817], [48.11165, -4.3316817], [48.11165, -4.3316817], [48.11165, -4.3316817], [48.11165, -4.3316817], [48.11165, -4.3316817], [48.11165, -4.3316817], [48.11165, -4.3316817], [48.11165, -4.3316483], [48.11165, -4.3316483], [48.11165, -4.3316483], [48.11165, -4.3316483], [48.11165, -4.331615], [48.11165, -4.3315983], [48.11165, -4.3315816], [48.11165, -4.3315315], [48.11165, -4.331498], [48.111633, -4.331315], [48.111633, -4.331215], [48.111633, -4.3311815], [48.111633, -4.331148], [48.11165, -4.331082], [48.11165, -4.331015], [48.11165, -4.3309317], [48.111668, -4.330865], [48.111668, -4.3308315], [48.111668, -4.3307815], [48.111683, -4.3307486], [48.111683, -4.330715], [48.1117, -4.330682], [48.1117, -4.3306484], [48.111717, -4.3305984], [48.111717, -4.330565], [48.111732, -4.330565], [48.11175, -4.330498], [48.11175, -4.330465], [48.11175, -4.330448], [48.111767, -4.330448], [48.111767, -4.330448], [48.111767, -4.3304315], [48.111767, -4.3304315], [48.111767, -4.330415], [48.111767, -4.330415], [48.11183, -4.3302984], [48.11183, -4.3302984], [48.11183, -4.3302984], [48.11183, -4.3302984], [48.11183, -4.3302984], [48.11183, -4.3302984], [48.11183, -4.330315], [48.11183, -4.330315], [48.11183, -4.330332], [48.111816, -4.330415], [48.1118, -4.330465], [48.111782, -4.330515], [48.111767, -4.3305483], [48.111767, -4.3305984], [48.11175, -4.330615], [48.111732, -4.3306317], [48.111717, -4.3307815], [48.1117, -4.330848], [48.111683, -4.330915], [48.111668, -4.3309817], [48.11165, -4.331115], [48.111633, -4.331198], [48.111618, -4.3312483], [48.111618, -4.3312817], [48.111618, -4.3313317], [48.1116, -4.331382], [48.1116, -4.331565], [48.1116, -4.3315816], [48.111618, -4.3316317], [48.111618, -4.3316817], [48.111633, -4.3317485], [48.111633, -4.331765], [48.111633, -4.331782], [48.111633, -4.3317986], [48.111633, -4.3317986], [48.11165, -4.331815], [48.11165, -4.331815], [48.11165, -4.331815], [48.11165, -4.331815], [48.11165, -4.3318315], [48.11165, -4.3318315], [48.11165, -4.3318315], [48.11165, -4.3318315], [48.11165, -4.3318315], [48.11165, -4.3318315], [48.11165, -4.3318315], [48.11165, -4.3318315], [48.11165, -4.3318315], [48.11165, -4.3318315], [48.11165, -4.331848], [48.11165, -4.331848], [48.11165, -4.331848], [48.11165, -4.331848], [48.11165, -4.331848], [48.11165, -4.331848], [48.11165, -4.3318315], [48.11165, -4.3318315], [48.11165, -4.3318315], [48.11165, -4.3318315], [48.11165, -4.331815], [48.11165, -4.331815], [48.11165, -4.331815], [48.11165, -4.331782], [48.11165, -4.331782], [48.11165, -4.331732], [48.11165, -4.331665], [48.11165, -4.3316317], [48.111633, -4.331548], [48.11165, -4.3314815], [48.11165, -4.3313985], [48.11165, -4.3313317], [48.11165, -4.3312817], [48.11165, -4.3312483], [48.111668, -4.331215], [48.111668, -4.3311815], [48.111668, -4.331115], [48.111668, -4.331082], [48.111683, -4.331032], [48.111683, -4.330965], [48.1117, -4.3309317], [48.1117, -4.3308983], [48.111717, -4.3308315], [48.111717, -4.330815], [48.111732, -4.330798], [48.11175, -4.3307815], [48.11175, -4.330765], [48.111767, -4.330732], [48.1118, -4.330715], [48.1118, -4.330682], [48.111816, -4.330682], [48.111816, -4.330665], [48.11183, -4.330665], [48.11183, -4.3306484], [48.11185, -4.3306484], [48.11185, -4.3306484], [48.11185, -4.3306317], [48.11185, -4.3306317], [48.11185, -4.3306317], [48.11185, -4.3306317], [48.111866, -4.3306317], [48.111866, -4.330615], [48.111866, -4.330615], [48.111866, -4.330615], [48.111885, -4.3305984], [48.1119, -4.3305817], [48.1119, -4.3305817], [48.1119, -4.3305817], [48.1119, -4.3305817], [48.1119, -4.3305817], [48.1119, -4.3305817], [48.1119, -4.3305817], [48.1119, -4.3305817], [48.1119, -4.3305817], [48.1119, -4.3305817], [48.1119, -4.3305817], [48.1119, -4.3305817], [48.1119, -4.3305817], [48.1119, -4.3305984], [48.1119, -4.3305984], [48.111885, -4.3305984], [48.111885, -4.3305984], [48.111866, -4.330615], [48.111866, -4.330615], [48.11185, -4.330615], [48.11183, -4.330615], [48.111816, -4.3306484], [48.1118, -4.330682], [48.111782, -4.330715], [48.11175, -4.3307815], [48.111717, -4.3308315], [48.1117, -4.3308983], [48.1117, -4.3309984], [48.111668, -4.331148], [48.11165, -4.331198], [48.1117, -4.331382], [48.1117, -4.331415], [48.111717, -4.331432], [48.111717, -4.331432], [48.111717, -4.3314486], [48.111717, -4.331465], [48.111717, -4.331498], [48.111717, -4.3315315], [48.111732, -4.3315816], [48.111732, -4.3315983], [48.111732, -4.331615], [48.111732, -4.331615], [48.111732, -4.331615], [48.111732, -4.331615], [48.111732, -4.331615], [48.111732, -4.331615], [48.111732, -4.331615], [48.111732, -4.331615], [48.111732, -4.331615], [48.111732, -4.331615], [48.111732, -4.331615], [48.111732, -4.3315816], [48.111717, -4.331548], [48.111717, -4.331498], [48.1117, -4.3314486], [48.1117, -4.3313985], [48.111683, -4.3313317], [48.111683, -4.3312984], [48.111683, -4.331265], [48.111683, -4.3311315], [48.111683, -4.331115], [48.1117, -4.331065], [48.1117, -4.331015], [48.1117, -4.3309984], [48.1117, -4.3309484], [48.111717, -4.3308816], [48.111717, -4.330848], [48.111717, -4.330798], [48.111732, -4.3307486], [48.111732, -4.330682], [48.11175, -4.330665], [48.11175, -4.3306317], [48.11175, -4.3305817], [48.111767, -4.3305483], [48.111782, -4.3305316], [48.1118, -4.3304815], [48.111816, -4.330465], [48.111816, -4.330465], [48.11185, -4.3304315], [48.11185, -4.330415], [48.11185, -4.330415], [48.11185, -4.3303986], [48.11185, -4.3303986], [48.11185, -4.3303986], [48.11185, -4.3303986], [48.11185, -4.330382], [48.11185, -4.330382], [48.11185, -4.330382], [48.11185, -4.330382], [48.11183, -4.330382], [48.11183, -4.330382], [48.11183, -4.330382], [48.11183, -4.330382], [48.111816, -4.330415], [48.111816, -4.330415], [48.1118, -4.3304315], [48.1118, -4.330448], [48.111767, -4.330515], [48.11175, -4.3305483], [48.111732, -4.330615], [48.111717, -4.330665], [48.1117, -4.3306985], [48.1117, -4.330732], [48.1117, -4.330798], [48.111683, -4.330848], [48.1117, -4.3308816], [48.1117, -4.330915], [48.1117, -4.330965], [48.1117, -4.331015], [48.1117, -4.3310485], [48.1117, -4.331082], [48.1117, -4.331115], [48.1117, -4.331315], [48.1117, -4.331365], [48.1117, -4.331365], [48.1117, -4.331382], [48.111717, -4.3314486], [48.111717, -4.3314486], [48.111717, -4.3314815], [48.111732, -4.331498], [48.111732, -4.331515], [48.111732, -4.331515], [48.111732, -4.331515], [48.11175, -4.331515], [48.11175, -4.331515], [48.11175, -4.331515], [48.11175, -4.331515], [48.11175, -4.3315315], [48.11175, -4.3315315], [48.111732, -4.3315315], [48.11175, -4.331515], [48.111732, -4.331515], [48.111732, -4.331515], [48.111732, -4.331515], [48.111732, -4.3314815], [48.111732, -4.3314815], [48.111732, -4.3314815], [48.111732, -4.331465], [48.111732, -4.3314486], [48.1117, -4.3313317], [48.111683, -4.3312817], [48.111683, -4.3312316], [48.111683, -4.331198], [48.111668, -4.331148], [48.111668, -4.331115], [48.111668, -4.331065], [48.111668, -4.331015], [48.111683, -4.3309484], [48.111683, -4.3308983], [48.1117, -4.330815], [48.1117, -4.330765], [48.1117, -4.330732], [48.111717, -4.330715], [48.111732, -4.330682], [48.111732, -4.3306484], [48.11175, -4.3305984], [48.111767, -4.330565], [48.111767, -4.3305316], [48.111782, -4.3305316], [48.111782, -4.3305316], [48.111816, -4.330448], [48.111816, -4.330415], [48.11185, -4.330365], [48.11185, -4.3303485], [48.11185, -4.330332], [48.11185, -4.330332], [48.11185, -4.330332], [48.11185, -4.330332], [48.11185, -4.330315], [48.11185, -4.330315], [48.11185, -4.330315], [48.11185, -4.330315], [48.11185, -4.330315], [48.11185, -4.330315], [48.11185, -4.330315], [48.11185, -4.330315], [48.11183, -4.330315], [48.111717, -4.330715], [48.111668, -4.3309984], [48.111683, -4.331032], [48.111668, -4.331065], [48.11165, -4.3311815], [48.11165, -4.331215], [48.111668, -4.3312316], [48.111717, -4.331382], [48.111717, -4.331415], [48.111717, -4.331432], [48.111717, -4.3314486], [48.111717, -4.3314815], [48.111732, -4.331498], [48.111732, -4.331515], [48.111732, -4.331515], [48.111732, -4.331548], [48.111732, -4.331565], [48.111732, -4.331565], [48.111732, -4.331565], [48.111732, -4.331565], [48.111732, -4.3315816], [48.111732, -4.331565], [48.111732, -4.331565], [48.111732, -4.331565], [48.111732, -4.331565], [48.111717, -4.3315315], [48.111717, -4.3314815], [48.1117, -4.331465], [48.1117, -4.331432], [48.1117, -4.3313317], [48.111717, -4.331198], [48.111717, -4.3311315], [48.111717, -4.331115], [48.111717, -4.331015], [48.111732, -4.3309817], [48.11175, -4.3309484], [48.11175, -4.3309317], [48.111767, -4.3308983], [48.111782, -4.3308816], [48.1118, -4.330848], [48.1118, -4.330815], [48.111816, -4.3307815], [48.11183, -4.330765], [48.11183, -4.330765], [48.11183, -4.330732], [48.11183, -4.330732], [48.11185, -4.330715], [48.11185, -4.330715], [48.11185, -4.330715], [48.11185, -4.3306985], [48.11185, -4.3306985], [48.11185, -4.3306985], [48.11185, -4.3306985], [48.11185, -4.3306985], [48.11185, -4.3306985], [48.11185, -4.3306985], [48.11185, -4.3306985], [48.11183, -4.330715], [48.11183, -4.330715], [48.11183, -4.330732], [48.11183, -4.330732], [48.111816, -4.3307486], [48.111816, -4.330765], [48.111816, -4.3307815], [48.1118, -4.330798], [48.1118, -4.330815], [48.111767, -4.330848], [48.111732, -4.330965], [48.111683, -4.331082], [48.111668, -4.331115], [48.111668, -4.331165], [48.111668, -4.331198], [48.111668, -4.3312817], [48.11165, -4.3315315], [48.111668, -4.331548], [48.111668, -4.331565], [48.111668, -4.3315983], [48.111683, -4.331615], [48.111683, -4.3316317], [48.111683, -4.3316483], [48.111683, -4.3316483], [48.1117, -4.331665], [48.1117, -4.3316817], [48.1117, -4.3316984], [48.1117, -4.3316984], [48.1117, -4.3316984], [48.1117, -4.3316984], [48.1117, -4.3316984], [48.1117, -4.3316984], [48.1117, -4.3316984], [48.1117, -4.3316984], [48.1117, -4.3316984], [48.1117, -4.3316984], [48.1117, -4.3316984], [48.1117, -4.3316984], [48.1117, -4.3316984], [48.111717, -4.3316984], [48.111717, -4.3316984], [48.111717, -4.3316984], [48.111717, -4.3316984], [48.111717, -4.3316984], [48.111717, -4.3316817], [48.111717, -4.331665], [48.1117, -4.331665], [48.1117, -4.3316483], [48.1117, -4.331615], [48.1117, -4.3315816], [48.1117, -4.3315816], [48.1117, -4.331565], [48.1117, -4.331548], [48.111683, -4.3314815], [48.111683, -4.331415], [48.111668, -4.3313484], [48.111668, -4.3313317], [48.111683, -4.3312817], [48.111668, -4.3312483], [48.111683, -4.331215], [48.111683, -4.331198], [48.1117, -4.331148], [48.111717, -4.3310986], [48.111717, -4.331082], [48.111717, -4.3310485], [48.111732, -4.3309984], [48.11175, -4.330965], [48.111767, -4.330915], [48.111767, -4.3308983], [48.111767, -4.3308816], [48.111782, -4.330865], [48.1118, -4.3308315], [48.1118, -4.330815], [48.1118, -4.330798], [48.111816, -4.330765], [48.11183, -4.330732], [48.11183, -4.330715], [48.11183, -4.3306985], [48.11185, -4.3306484], [48.11185, -4.3306484], [48.11185, -4.3306484], [48.11185, -4.3306484], [48.11185, -4.3306317], [48.11185, -4.330615], [48.11185, -4.330615], [48.11185, -4.330615], [48.11185, -4.330615], [48.11185, -4.330615], [48.11185, -4.330615], [48.11185, -4.330615], [48.11185, -4.330615], [48.11183, -4.3306317], [48.11183, -4.3306317], [48.11183, -4.3306317], [48.11183, -4.3306484], [48.11183, -4.3306484], [48.11183, -4.3306484], [48.111816, -4.330665], [48.1118, -4.330682], [48.111782, -4.330715], [48.111767, -4.330765], [48.11175, -4.3308315], [48.11175, -4.3308816], [48.111732, -4.3308983], [48.111717, -4.3309484], [48.1117, -4.3309984], [48.111683, -4.331065], [48.111668, -4.331115], [48.111668, -4.3314815], [48.111668, -4.3314815], [48.111668, -4.331515], [48.111668, -4.331548], [48.111683, -4.3315816], [48.111683, -4.3315983], [48.111683, -4.331615], [48.111683, -4.331615], [48.1117, -4.3316317], [48.1117, -4.3316317], [48.1117, -4.3316483], [48.1117, -4.3316483], [48.1117, -4.3316483], [48.1117, -4.3316483], [48.1117, -4.3316483], [48.111717, -4.3316483], [48.111717, -4.3316483], [48.111717, -4.3316483], [48.111717, -4.3316483], [48.111717, -4.3316483], [48.111717, -4.3316483], [48.111717, -4.3316483], [48.111717, -4.3316483], [48.1117, -4.3316483], [48.1117, -4.3316317], [48.1117, -4.3315983], [48.111683, -4.3315816], [48.1117, -4.331565], [48.1117, -4.3315315], [48.1117, -4.331498], [48.1117, -4.3314486], [48.111717, -4.3313484], [48.111717, -4.3312817], [48.1117, -4.331215], [48.1117, -4.3311815], [48.111668, -4.3310986], [48.111668, -4.3310485], [48.111668, -4.331015], [48.111683, -4.3309484], [48.111683, -4.330915], [48.111683, -4.3308816], [48.1117, -4.3308315], [48.111717, -4.3307815], [48.111717, -4.330765], [48.111717, -4.3307486], [48.111732, -4.330732], [48.111732, -4.330715], [48.111732, -4.330715], [48.11175, -4.330682], [48.11175, -4.330665], [48.11175, -4.330665], [48.111767, -4.3306484], [48.111767, -4.3306317], [48.111782, -4.330615], [48.111782, -4.330615], [48.111782, -4.3305984], [48.111782, -4.3305984], [48.1118, -4.3305817], [48.111816, -4.3305483], [48.111816, -4.3305483], [48.11183, -4.3305483], [48.11183, -4.3305316], [48.11183, -4.330515], [48.111866, -4.330415], [48.111866, -4.3303986], [48.111866, -4.3303986], [48.111866, -4.3303986], [48.111866, -4.3303986], [48.111866, -4.3303986], [48.111866, -4.3303986], [48.111866, -4.3303986], [48.111866, -4.3303986], [48.111866, -4.3303986], [48.11185, -4.3303986], [48.11185, -4.3303986], [48.11185, -4.3303986], [48.11185, -4.3303986], [48.11185, -4.3303986], [48.11185, -4.3303986], [48.11185, -4.3303986], [48.111767, -4.330665], [48.111767, -4.330715], [48.11175, -4.330765], [48.11175, -4.3308315], [48.111732, -4.330865], [48.111732, -4.3308983], [48.111717, -4.3309317], [48.1117, -4.330965], [48.111683, -4.331032], [48.111683, -4.3311315], [48.111683, -4.3311815], [48.1117, -4.3312316], [48.111668, -4.331415], [48.111668, -4.3314486], [48.111683, -4.331515], [48.1117, -4.3315315], [48.111717, -4.331548], [48.111717, -4.331548], [48.111717, -4.331565], [48.111717, -4.3315816], [48.111732, -4.3315983], [48.111732, -4.331615], [48.111732, -4.331615], [48.111732, -4.3316317], [48.111732, -4.3316317], [48.111732, -4.3316317], [48.111732, -4.3316483], [48.111732, -4.3316483], [48.111732, -4.3316483], [48.111732, -4.3316317], [48.111732, -4.3316317], [48.111732, -4.3316317], [48.111732, -4.331615], [48.111717, -4.3315816], [48.111717, -4.331565], [48.111717, -4.331515], [48.1117, -4.331432], [48.1117, -4.331382], [48.1117, -4.3313484], [48.1117, -4.3312984], [48.1117, -4.3312316], [48.111683, -4.331198], [48.111683, -4.331165], [48.111683, -4.3311315], [48.111683, -4.331115], [48.111683, -4.331115], [48.1117, -4.331115], [48.1117, -4.3310986], [48.1117, -4.331082], [48.111683, -4.331032], [48.111683, -4.3309984], [48.111668, -4.3309817], [48.11165, -4.3309484], [48.111618, -4.3308983], [48.1116, -4.3308816], [48.11157, -4.330848], [48.111534, -4.330815], [48.111485, -4.3307815], [48.11145, -4.3307486], [48.1114, -4.3306985], [48.111366, -4.330665], [48.11135, -4.330615], [48.111317, -4.3305984], [48.1113, -4.330565], [48.111233, -4.3304815], [48.1112, -4.330448], [48.111168, -4.330415], [48.111134, -4.330365], [48.111084, -4.330332], [48.111015, -4.330265], [48.110985, -4.3302317], [48.110966, -4.330215], [48.110935, -4.3301983], [48.11085, -4.330165], [48.11085, -4.330148], [48.110733, -4.3301315], [48.110733, -4.3301315], [48.110733, -4.3301315], [48.110733, -4.3301315], [48.110733, -4.3301315], [48.110733, -4.3301315], [48.110733, -4.3301315], [48.110733, -4.3301315], [48.110733, -4.3301315], [48.110733, -4.3301315], [48.11075, -4.3301315], [48.11075, -4.3301315], [48.110767, -4.3301315], [48.110783, -4.3301315], [48.1108, -4.3301315], [48.110832, -4.330148], [48.110832, -4.330148], [48.11085, -4.330148], [48.110867, -4.330148], [48.110867, -4.330148], [48.11088, -4.330165], [48.1109, -4.330165], [48.110916, -4.330165], [48.110916, -4.330165], [48.110935, -4.3301816], [48.11095, -4.330165], [48.11095, -4.330165], [48.110966, -4.330165], [48.111084, -4.330165], [48.11112, -4.330165], [48.111134, -4.330165], [48.111134, -4.330165], [48.11115, -4.330165], [48.111168, -4.3301816], [48.11125, -4.3302484], [48.11125, -4.3302484], [48.11125, -4.330265], [48.11125, -4.330265], [48.111233, -4.3302817], [48.111233, -4.3302984], [48.111217, -4.330315], [48.1112, -4.330332], [48.111183, -4.3303485], [48.111134, -4.3303986], [48.11105, -4.330465], [48.111034, -4.330498], [48.111, -4.3305316], [48.110985, -4.3305984], [48.110985, -4.330615], [48.110985, -4.3306484], [48.110985, -4.3306985], [48.110966, -4.330732], [48.110935, -4.330848], [48.11088, -4.3309484], [48.11067, -4.3311815], [48.110634, -4.331215], [48.1106, -4.3312316], [48.110584, -4.3312483], [48.110516, -4.331265], [48.1105, -4.331265], [48.110485, -4.331265], [48.110485, -4.331265], [48.11043, -4.331265], [48.110416, -4.331265], [48.110416, -4.331265], [48.1104, -4.331265], [48.110382, -4.331265], [48.110382, -4.331265], [48.110367, -4.3312483], [48.110367, -4.3312483], [48.11035, -4.3312483], [48.11035, -4.3312483], [48.11035, -4.3312483], [48.110332, -4.3312316], [48.110332, -4.3312316], [48.110332, -4.3312316], [48.110332, -4.331215], [48.110317, -4.331198], [48.1103, -4.331165], [48.1103, -4.331115], [48.110283, -4.3310986], [48.110268, -4.331065], [48.110233, -4.3309984], [48.110218, -4.3309484], [48.110184, -4.3308983], [48.11015, -4.330765], [48.110134, -4.330732], [48.110134, -4.3306985], [48.110134, -4.3306484], [48.110115, -4.3305984], [48.110115, -4.3305316], [48.1101, -4.330515], [48.1101, -4.330448], [48.1101, -4.330415], [48.1101, -4.330365], [48.110085, -4.3302984], [48.110085, -4.3301983], [48.110085, -4.330115], [48.110085, -4.3300815], [48.1101, -4.3299985], [48.1101, -4.3299484], [48.1101, -4.329815], [48.110115, -4.329748], [48.110115, -4.3296986], [48.110134, -4.329615], [48.110134, -4.329565], [48.11017, -4.329448], [48.110184, -4.329365], [48.1102, -4.329315], [48.110218, -4.3292484], [48.110233, -4.329165], [48.110268, -4.3289986], [48.110317, -4.3288984], [48.110332, -4.3288317], [48.110367, -4.328748], [48.110382, -4.328698], [48.11045, -4.328582], [48.110485, -4.3284984], [48.110516, -4.328415], [48.11055, -4.3283815], [48.110615, -4.328282], [48.11067, -4.328215], [48.117702, -4.307202], [48.117702, -4.307202], [48.117645, -4.30724], [48.117374, -4.3075967], [48.117573, -4.3072433], [48.117275, -4.3077583], [48.11752, -4.3073683], [48.117226, -4.307618], [48.117546, -4.3074384], [48.11752, -4.307423], [48.117546, -4.3073483], [48.117382, -4.307572], [48.11756, -4.3072667], [48.117542, -4.3074], [48.117367, -4.3076067], [48.117367, -4.3076067], [48.1176, -4.3072968], [48.11754, -4.3073316], [48.117546, -4.3072567], [48.11714, -4.3077583], [48.117485, -4.3074083], [48.117455, -4.3074317], [48.117306, -4.3074985], [48.11756, -4.3072667], [48.11715, -4.3076982], [48.117496, -4.3073835], [48.117287, -4.3076735], [48.11733, -4.3075266], [48.117233, -4.3076415], [48.117493, -4.307327], [48.11714, -4.307675], [48.1175, -4.3073115], [48.11722, -4.307628], [48.117428, -4.3073316], [48.11702, -4.308018], [48.11715, -4.3076935], [48.11743, -4.307337], [48.117615, -4.30727], [48.11744, -4.307443], [48.11742, -4.307485], [48.11769, -4.307182], [48.117207, -4.307588], [48.11751, -4.3073835], [48.11751, -4.3073835], [48.1174, -4.3075233], [48.117332, -4.307525], [48.117508, -4.3072834], [48.117508, -4.3072834], [48.117195, -4.3075733], [48.1175, -4.307288], [48.1171, -4.3078065], [48.1174, -4.3075166], [48.117466, -4.307473], [48.117535, -4.3072815], [48.117252, -4.307628], [48.117554, -4.3073435], [48.11716, -4.307655], [48.11752, -4.3073335], [48.117485, -4.3073435], [48.117485, -4.3073435], [48.117615, -4.307202], [48.11718, -4.307705], [48.1175, -4.30743], [48.11745, -4.30747], [48.11745, -4.30747], [48.117615, -4.3072267], [48.117146, -4.30773], [48.11756, -4.307375], [48.117332, -4.3075285], [48.11734, -4.30748], [48.11736, -4.307387], [48.117146, -4.307725], [48.117294, -4.30757], [48.117317, -4.3075485], [48.1172, -4.307667], [48.117558, -4.307298], [48.117188, -4.307645], [48.11744, -4.307377], [48.117374, -4.3075285], [48.11737, -4.3075433], [48.11752, -4.3073583], [48.117214, -4.307598], [48.117214, -4.307598], [48.117317, -4.307535], [48.11725, -4.3076067], [48.117207, -4.307685], [48.117203, -4.307697], [48.117424, -4.30744], [48.117466, -4.307423], [48.11734, -4.3076115], [48.11755, -4.307285], [48.11728, -4.3075633], [48.117474, -4.3074217], [48.11738, -4.307555], [48.117455, -4.3075333], [48.117455, -4.3075333], [48.11751, -4.3074117], [48.117302, -4.3075786], [48.117737, -4.307202], [48.11728, -4.3076334], [48.11752, -4.3074365], [48.11752, -4.3074365], [48.117428, -4.30751], [48.117287, -4.3075833], [48.117535, -4.30736], [48.117493, -4.307345], [48.11714, -4.307773], [48.117535, -4.30738], [48.11732, -4.307615], [48.117474, -4.3074884], [48.117214, -4.307685], [48.11744, -4.307503], [48.117332, -4.307588], [48.117332, -4.307588], [48.11728, -4.3076634], [48.11724, -4.3076134], [48.117435, -4.3074584], [48.1174, -4.30749], [48.1174, -4.30749], [48.117226, -4.3076167], [48.117554, -4.3074517], [48.117535, -4.307425], [48.117245, -4.3076534], [48.11749, -4.3074684], [48.11743, -4.307515], [48.117195, -4.3076267], [48.117508, -4.3074784], [48.117588, -4.30737], [48.11717, -4.307665], [48.11767, -4.3073335], [48.117382, -4.307582], [48.117615, -4.307275], [48.11735, -4.307565], [48.11735, -4.307565], [48.117615, -4.307285], [48.117188, -4.3076215], [48.117615, -4.30737], [48.117535, -4.3074765], [48.117535, -4.3074765], [48.117683, -4.30728], [48.117775, -4.307222], [48.117977, -4.307123], [48.11743, -4.307512], [48.11767, -4.307365], [48.117653, -4.3073936], [48.11742, -4.3075066], [48.11774, -4.3071885], [48.11774, -4.3071885], [48.117844, -4.3071632], [48.117428, -4.3075], [48.117588, -4.3075], [48.117588, -4.3075], [48.11749, -4.307407], [48.117485, -4.3074617], [48.117588, -4.3073215], [48.11725, -4.307678], [48.11762, -4.3072867], [48.11752, -4.3074484], [48.11744, -4.307532], [48.1174, -4.3075166], [48.117485, -4.30753], [48.117485, -4.30753], [48.117725, -4.3071785], [48.117275, -4.307585], [48.117626, -4.307443], [48.117805, -4.3072515], [48.117325, -4.30747], [48.117325, -4.30747], [48.11771, -4.30734], [48.117813, -4.307255], [48.117325, -4.3074865], [48.117702, -4.307365], [48.117607, -4.307387], [48.117622, -4.307338], [48.117527, -4.3074784], [48.117764, -4.307212], [48.11758, -4.307397], [48.117615, -4.3073735], [48.11768, -4.307295], [48.11768, -4.307295], [48.117207, -4.30761], [48.117657, -4.30731], [48.11758, -4.3073983], [48.117447, -4.3074718], [48.11783, -4.307182], [48.117275, -4.3075633], [48.117493, -4.307367], [48.1173, -4.307618], [48.117428, -4.3074465], [48.117813, -4.307152], [48.117306, -4.307565], [48.11766, -4.3073916], [48.11783, -4.307238], [48.117325, -4.307465], [48.117325, -4.307465], [48.11801, -4.307155], [48.11748, -4.307435], [48.117706, -4.3073716], [48.11804, -4.307105], [48.117546, -4.30742], [48.117546, -4.30742], [48.11761, -4.3073983], [48.11792, -4.30711], [48.117565, -4.30741], [48.117523, -4.3074183], [48.117813, -4.3071566], [48.1175, -4.3074465], [48.11753, -4.30742], [48.11783, -4.30714], [48.117527, -4.3073983], [48.117573, -4.307425], [48.1178, -4.3071485], [48.11734, -4.307575], [48.117588, -4.3074217], [48.11779, -4.3072133], [48.11735, -4.307445], [48.117764, -4.3072815], [48.117775, -4.3072968], [48.117752, -4.307175], [48.117508, -4.307492], [48.117508, -4.307492], [48.117474, -4.3074965], [48.117844, -4.307132], [48.11759, -4.3074265], [48.11775, -4.30723], [48.117405, -4.307397], [48.117786, -4.30731], [48.117794, -4.307295], [48.117397, -4.3073983], [48.117886, -4.307235], [48.11767, -4.307318], [48.11736, -4.307413], [48.117687, -4.307212], [48.117508, -4.307397], [48.11748, -4.307433], [48.117813, -4.307105], [48.117443, -4.307433], [48.117485, -4.30748], [48.117683, -4.307238], [48.117325, -4.3075385], [48.117325, -4.3075385], [48.117626, -4.307338], [48.117573, -4.3073516], [48.117565, -4.30741], [48.117367, -4.307522], [48.117725, -4.307248], [48.117577, -4.307407], [48.11772, -4.3072433], [48.117733, -4.307278], [48.11744, -4.30737], [48.11771, -4.3073316], [48.11776, -4.30724], [48.117348, -4.3074], [48.117348, -4.3074], [48.11767, -4.3073015], [48.117565, -4.3073883], [48.117172, -4.307685], [48.1174, -4.3073936], [48.11716, -4.307823], [48.11716, -4.307823], [48.11731, -4.307598], [48.11746, -4.307377], [48.117447, -4.3074365], [48.117455, -4.3074584], [48.117275, -4.307525], [48.11754, -4.30735], [48.117496, -4.3074265], [48.11741, -4.3074017], [48.11734, -4.3075466], [48.11733, -4.3075433], [48.117313, -4.30756], [48.117367, -4.3075266], [48.117367, -4.3075266], [48.11757, -4.307318], [48.117367, -4.30752], [48.117405, -4.307482], [48.117573, -4.3073], [48.117443, -4.30744], [48.117443, -4.30744], [48.117393, -4.3074565], [48.117558, -4.3073235], [48.117527, -4.307387], [48.11734, -4.307582], [48.117474, -4.3074517], [48.1176, -4.307288], [48.1176, -4.307367], [48.1174, -4.307433], [48.11755, -4.3074083], [48.117634, -4.3072815], [48.11751, -4.3074017], [48.117485, -4.3074017], [48.117607, -4.3073416], [48.117638, -4.307345], [48.117447, -4.3074384], [48.117447, -4.3074384], [48.117596, -4.30734], [48.117687, -4.3073115], [48.117508, -4.307328], [48.117565, -4.30733], [48.117695, -4.3073335], [48.117695, -4.3073335], [48.117508, -4.307397], [48.11767, -4.3073215], [48.117714, -4.307307], [48.11762, -4.3074384], [48.11769, -4.3074265], [48.117626, -4.307335], [48.117428, -4.307545], [48.117336, -4.3075185], [48.11746, -4.307455], [48.11725, -4.307725], [48.117275, -4.30792], [48.117405, -4.30827], [48.117893, -4.3091817], [48.11794, -4.309253], [48.117874, -4.3096967], [48.117893, -4.31018], [48.11796, -4.310075], [48.11796, -4.310075], [48.11804, -4.30918], [48.1182, -4.3092384], [48.118206, -4.310835], [48.118435, -4.311772], [48.118446, -4.311887], [48.118465, -4.3120265], [48.118492, -4.3123183], [48.118507, -4.312413], [48.11851, -4.31262], [48.118507, -4.3131084], [48.11849, -4.313375], [48.11849, -4.3135285], [48.11848, -4.3136635], [48.118458, -4.3139915], [48.118454, -4.314105], [48.118446, -4.314295], [48.11846, -4.3149133], [48.34568, -4.5602717], [48.345978, -4.55928], [48.346, -4.5592], [48.34606, -4.5590067], [48.346233, -4.558378], [48.346313, -4.55807], [48.346348, -4.55795], [48.346397, -4.557745], [48.34648, -4.5574017], [48.34651, -4.5572915], [48.32702, -4.5175734], [48.3271, -4.5179634], [48.327106, -4.518007], [48.327126, -4.5180416], [48.28924, -4.664615], [48.289253, -4.664652], [48.28926, -4.66469], [48.28927, -4.6647315], [48.289276, -4.664768], [48.289288, -4.6647983], [48.289433, -4.665135], [48.289433, -4.665135], [48.28952, -4.6651983], [48.289516, -4.6649632], [48.28948, -4.66491], [48.28937, -4.664942], [48.28932, -4.665012], [48.28934, -4.66509], [48.289368, -4.665125], [48.289433, -4.6651034], [48.28945, -4.665035], [48.28942, -4.6650314], [48.28941, -4.6650467], [48.289368, -4.665127], [48.289387, -4.6651316], [48.289455, -4.6650968], [48.289474, -4.6650534], [48.289474, -4.6650534], [48.289494, -4.665038], [48.289505, -4.6650534], [48.289566, -4.6650534], [48.289593, -4.6650567], [48.289654, -4.665028], [48.289654, -4.665028], [48.289703, -4.66501], [48.28968, -4.664975], [48.289703, -4.6649632], [48.289715, -4.6650167], [48.289696, -4.6650167], [48.289734, -4.6649766], [48.289764, -4.6649766], [48.289818, -4.6649466], [48.28987, -4.6648884], [48.28988, -4.6648784], [48.289875, -4.664853], [48.289867, -4.664845], [48.28993, -4.66482], [48.28996, -4.664805], [48.290024, -4.664757], [48.290024, -4.664757], [48.290047, -4.6647315], [48.290096, -4.664675], [48.290165, -4.664602], [48.290215, -4.66454], [48.29027, -4.66449], [48.29027, -4.66449], [48.290314, -4.6644635], [48.290386, -4.66436], [48.290516, -4.6642933], [48.290546, -4.66424], [48.29052, -4.6642466], [48.29051, -4.6642466], [48.29054, -4.664242], [48.290615, -4.66422], [48.290607, -4.6641817], [48.29058, -4.6641884], [48.2906, -4.66431], [48.290573, -4.66431], [48.290646, -4.6641884], [48.290695, -4.66415], [48.290695, -4.66415], [48.290726, -4.6640134], [48.290802, -4.663998], [48.290836, -4.66394], [48.290813, -4.663835], [48.290874, -4.6637635], [48.290874, -4.6637635], [48.290905, -4.663823], [48.290836, -4.6638017], [48.29082, -4.66387], [48.290817, -4.663932], [48.29074, -4.6639333], [48.290752, -4.6639433], [48.29082, -4.663905], [48.29086, -4.6638064], [48.290928, -4.663718], [48.29094, -4.663695], [48.29093, -4.663688], [48.29091, -4.66375], [48.290928, -4.6637135], [48.29101, -4.663585], [48.291107, -4.663328], [48.291138, -4.6632814], [48.291134, -4.663285], [48.291195, -4.6631064], [48.291252, -4.662905], [48.29132, -4.662705], [48.29132, -4.662705], [48.29132, -4.6625385], [48.291355, -4.6625466], [48.291332, -4.6625385], [48.29136, -4.662453], [48.2914, -4.6622186], [48.291393, -4.6621733], [48.29138, -4.6621985], [48.291393, -4.662143], [48.291393, -4.6620717], [48.291393, -4.6618733], [48.2914, -4.6617], [48.29141, -4.6617665], [48.291386, -4.6617165], [48.29138, -4.661605], [48.291397, -4.66153], [48.291397, -4.661608], [48.291374, -4.6614285], [48.29137, -4.661297], [48.2914, -4.6612115], [48.2914, -4.6612115], [48.2914, -4.661152], [48.2914, -4.6610684], [48.291386, -4.66086], [48.2914, -4.6607685], [48.291416, -4.6608334], [48.291412, -4.66086], [48.291428, -4.6608534], [48.291397, -4.6607733], [48.291386, -4.6606965], [48.291393, -4.66061], [48.29138, -4.6605616], [48.291355, -4.6606236], [48.291428, -4.6605015], [48.291355, -4.6603866], [48.2913, -4.6602616], [48.291286, -4.660247], [48.291225, -4.660207], [48.290936, -4.6601267], [48.290527, -4.6599817], [48.290123, -4.6598616], [48.290123, -4.6598616], [48.2899, -4.659885], [48.28968, -4.6595182], [48.21417, -4.4749985], [48.21417, -4.4749985], [48.21417, -4.4749985], [48.214333, -4.475165], [48.214333, -4.475165], [48.2145, -4.475498], [48.215168, -4.476165], [48.215668, -4.4768314], [48.21583, -4.4768314], [48.21583, -4.4768314], [48.216, -4.476665], [48.216167, -4.476665], [48.216167, -4.476665], [48.216167, -4.476665], [48.216, -4.476665], [48.216, -4.476665], [48.216167, -4.476665], [48.216167, -4.476665], [48.216167, -4.476498], [48.21633, -4.476498], [48.21633, -4.476498], [48.21633, -4.476498], [48.21633, -4.476498], [48.21633, -4.476498], [48.21633, -4.476498], [48.21633, -4.476498], [48.21633, -4.476498], [48.21633, -4.476498], [48.21633, -4.476498], [48.21633, -4.476498], [48.21633, -4.476498], [48.21633, -4.476498], [48.21633, -4.476498], [48.21633, -4.476498], [48.21633, -4.476498], [48.21633, -4.476498], [48.21633, -4.476498], [48.21633, -4.476665], [48.21633, -4.476498], [48.21633, -4.476498], [48.216167, -4.476665], [48.21633, -4.476498], [48.21633, -4.476498], [48.21633, -4.476498], [48.216167, -4.476665], [48.216167, -4.476665], [48.21633, -4.476498], [48.21633, -4.476498], [48.21633, -4.476498], [48.21633, -4.476498], [48.21633, -4.476498], [48.21633, -4.476498], [48.2165, -4.4763317], [48.21633, -4.4763317], [48.21633, -4.4763317], [48.21633, -4.4763317], [48.21633, -4.4763317], [48.21633, -4.476498], [48.21633, -4.4763317], [48.2165, -4.4763317], [48.2165, -4.4763317], [48.2165, -4.4763317], [48.2165, -4.4763317], [48.2165, -4.4763317], [48.2165, -4.4763317], [48.21633, -4.4763317], [48.21633, -4.476498], [48.21633, -4.476498], [48.21633, -4.476498], [48.2165, -4.4763317], [48.21633, -4.4763317], [48.21633, -4.476498], [48.21633, -4.476498], [48.21633, -4.476498], [48.2165, -4.4763317], [48.2165, -4.476498], [48.2165, -4.4763317], [48.2165, -4.476165], [48.2165, -4.476165], [48.2165, -4.4763317], [48.2165, -4.4763317], [48.2165, -4.4763317], [48.2165, -4.476165], [48.2165, -4.476165], [48.2165, -4.476165], [48.2165, -4.4759984], [48.2165, -4.4759984], [48.2165, -4.476165], [48.2165, -4.476165], [48.2165, -4.476165], [48.2165, -4.476165], [48.2165, -4.476165], [48.2165, -4.476165], [48.2165, -4.476165], [48.2165, -4.476165], [48.2165, -4.476165], [48.2165, -4.476165], [48.2165, -4.4763317], [48.2165, -4.4763317], [48.2165, -4.4763317], [48.2165, -4.4763317], [48.2165, -4.476165], [48.2165, -4.476165], [48.2165, -4.476165], [48.2165, -4.476165], [48.2165, -4.476165], [48.2165, -4.476165], [48.2165, -4.476165], [48.2165, -4.476165], [48.216667, -4.4759984], [48.216667, -4.4758315], [48.216667, -4.4758315], [48.216667, -4.4758315], [48.216667, -4.4758315], [48.216667, -4.4759984], [48.216667, -4.4759984], [48.216667, -4.4758315], [48.216667, -4.4758315], [48.216667, -4.475665], [48.216667, -4.475498], [48.216667, -4.475665], [48.216667, -4.475665], [48.216667, -4.475665], [48.216667, -4.475665], [48.216667, -4.475665], [48.216667, -4.475665], [48.216667, -4.4758315], [48.216667, -4.475665], [48.216667, -4.475498], [48.216667, -4.475332], [48.216667, -4.475332], [48.216667, -4.475332], [48.216667, -4.475498], [48.216667, -4.475498], [48.216667, -4.475665], [48.216667, -4.475665], [48.216667, -4.475665], [48.216667, -4.475665], [48.216667, -4.475665], [48.216667, -4.475498], [48.216667, -4.475498], [48.216667, -4.475332], [48.216835, -4.475332], [48.216667, -4.475498], [48.216667, -4.475498], [48.216667, -4.475498], [48.216667, -4.475665], [48.216667, -4.475665], [48.216667, -4.475665], [48.216667, -4.475665], [48.216667, -4.475665], [48.216667, -4.475665], [48.216667, -4.475665], [48.216667, -4.475665], [48.216667, -4.475498], [48.216667, -4.475665], [48.216667, -4.475665], [48.216667, -4.475665], [48.216667, -4.475665], [48.216667, -4.475498], [48.216667, -4.475498], [48.216667, -4.475498], [48.216667, -4.475498], [48.216667, -4.475332], [48.216667, -4.475332], [48.216667, -4.475332], [48.216667, -4.475332], [48.216667, -4.475332], [48.216667, -4.475332], [48.216667, -4.475332], [48.216667, -4.475165], [48.216667, -4.4749985], [48.216667, -4.474665], [48.216667, -4.4744983], [48.216667, -4.474332], [48.2165, -4.474332], [48.2165, -4.474165], [48.2165, -4.474165], [48.216667, -4.474332], [48.216667, -4.4744983], [48.216667, -4.4744983], [48.216667, -4.4744983], [48.216667, -4.4744983], [48.21633, -4.4734983], [48.216, -4.4728317], [48.216, -4.4728317], [48.216, -4.4728317], [48.216167, -4.472998], [48.216167, -4.472998], [48.216167, -4.472998], [48.216, -4.472998], [48.216167, -4.472998], [48.216167, -4.472998], [48.216, -4.472998], [48.21583, -4.4728317], [48.21583, -4.4728317], [48.216, -4.4728317], [48.216167, -4.472998], [48.216, -4.472998], [48.216, -4.4728317], [48.21583, -4.472998], [48.215668, -4.472998], [48.215668, -4.472998], [48.2155, -4.472998], [48.2155, -4.4728317], [48.2155, -4.4728317], [48.215668, -4.472998], [48.215668, -4.472998], [48.215668, -4.472998], [48.215668, -4.472998], [48.21583, -4.472998], [48.21583, -4.472998], [48.21583, -4.472998], [48.215668, -4.472998], [48.215668, -4.472998], [48.215668, -4.472998], [48.215668, -4.4728317], [48.2155, -4.4728317], [48.215668, -4.4728317], [48.215668, -4.4728317], [48.21583, -4.4728317], [48.21583, -4.4728317], [48.21583, -4.4728317], [48.21583, -4.4728317], [48.216, -4.472998], [48.216, -4.472998], [48.216167, -4.472998], [48.21633, -4.473165], [48.21633, -4.473165], [48.216167, -4.472998], [48.216, -4.472998], [48.216, -4.4728317], [48.216, -4.4728317], [48.216167, -4.4728317], [48.216167, -4.472998], [48.21633, -4.473165], [48.2165, -4.473165], [48.21633, -4.473165], [48.21633, -4.472998], [48.216167, -4.472998], [48.216167, -4.472998], [48.21633, -4.472998], [48.21633, -4.473165], [48.2165, -4.473165], [48.21633, -4.473165], [48.21633, -4.473165], [48.21633, -4.473165], [48.2165, -4.473165], [48.216667, -4.473665], [48.216667, -4.473665], [48.216667, -4.473665], [48.2165, -4.473665], [48.216667, -4.4734983], [48.216667, -4.473665], [48.216667, -4.473665], [48.216667, -4.4738317], [48.216667, -4.4738317], [48.216667, -4.4739985], [48.216667, -4.4739985], [48.216667, -4.474165], [48.216835, -4.474332], [48.216835, -4.4744983], [48.216835, -4.4744983], [48.216835, -4.474332], [48.216835, -4.474332], [48.216835, -4.474332], [48.216835, -4.474332], [48.216835, -4.474332], [48.216835, -4.4744983], [48.216835, -4.4748316], [48.216667, -4.4749985], [48.216667, -4.475165], [48.216667, -4.475165], [48.216667, -4.475165], [48.216667, -4.4749985], [48.216835, -4.4748316], [48.216835, -4.4748316], [48.216667, -4.474665], [48.216835, -4.474665], [48.216835, -4.474665], [48.216835, -4.4744983], [48.216835, -4.4744983], [48.216835, -4.474665], [48.216835, -4.474665], [48.216835, -4.474665], [48.216835, -4.4744983], [48.216835, -4.4744983], [48.216835, -4.474332], [48.216835, -4.474332], [48.216835, -4.474332], [48.216835, -4.4744983], [48.216835, -4.4744983], [48.216835, -4.4744983], [48.216835, -4.4744983], [48.216835, -4.474665], [48.216835, -4.4748316], [48.216835, -4.4748316], [48.216667, -4.4748316], [48.216835, -4.4749985], [48.216667, -4.475165], [48.216667, -4.475165], [48.216667, -4.475165], [48.216835, -4.475165], [48.216835, -4.4749985], [48.216835, -4.4748316], [48.216835, -4.4748316], [48.216835, -4.4749985], [48.216835, -4.4749985], [48.216835, -4.4749985], [48.216835, -4.4749985], [48.216835, -4.475165], [48.216835, -4.475165], [48.216835, -4.475165], [48.216835, -4.4749985], [48.216835, -4.4748316], [48.216835, -4.474665], [48.216835, -4.4744983], [48.216835, -4.4744983], [48.216835, -4.474665], [48.216835, -4.4748316], [48.216835, -4.4748316], [48.216835, -4.4748316], [48.216835, -4.474665], [48.216835, -4.474665], [48.216835, -4.4748316], [48.216835, -4.4748316], [48.216835, -4.4748316], [48.216835, -4.474665], [48.216835, -4.4748316], [48.216835, -4.4749985], [48.216835, -4.4749985], [48.216835, -4.4748316], [48.216835, -4.4748316], [48.216835, -4.4748316], [48.216835, -4.4749985], [48.216835, -4.475165], [48.216835, -4.475165], [48.216835, -4.475165], [48.216835, -4.475165], [48.216835, -4.4749985], [48.216835, -4.4749985], [48.216835, -4.4749985], [48.216835, -4.4749985], [48.216835, -4.475165], [48.216835, -4.475165], [48.216835, -4.475165], [48.216835, -4.4749985], [48.216835, -4.474665], [48.216835, -4.4744983], [48.216835, -4.4744983], [48.216835, -4.4744983], [48.216835, -4.4744983], [48.216835, -4.474665], [48.216835, -4.474665], [48.216835, -4.4748316], [48.216835, -4.4748316], [48.216835, -4.4748316], [48.216835, -4.4748316], [48.216835, -4.4748316], [48.216835, -4.474665], [48.216835, -4.474665], [48.216835, -4.474665], [48.216835, -4.474665], [48.216835, -4.474665], [48.216835, -4.474665], [48.216835, -4.474665], [48.216835, -4.474665], [48.216835, -4.474665], [48.216835, -4.474665], [48.216835, -4.474665], [48.216835, -4.474665], [48.216835, -4.4748316], [48.216835, -4.4749985], [48.216835, -4.475165], [48.217, -4.4748316], [48.216835, -4.474665], [48.216835, -4.4748316], [48.216835, -4.475165], [48.216835, -4.475165], [48.216835, -4.475165], [48.216835, -4.4749985], [48.216835, -4.4748316], [48.216835, -4.4748316], [48.216835, -4.475165], [48.216835, -4.475165], [48.216835, -4.4749985], [48.216835, -4.4748316], [48.216835, -4.4748316], [48.216835, -4.4749985], [48.216835, -4.4749985], [48.216835, -4.4749985], [48.216835, -4.4749985], [48.216835, -4.4749985], [48.216835, -4.4749985], [48.216835, -4.4748316], [48.216835, -4.474665], [48.216835, -4.474665], [48.216835, -4.4748316], [48.216835, -4.4748316], [48.216835, -4.474665], [48.216835, -4.474665], [48.216835, -4.4748316], [48.216835, -4.4749985], [48.216835, -4.4749985], [48.216835, -4.4749985], [48.216835, -4.4749985], [48.216835, -4.4749985], [48.216835, -4.4748316], [48.216835, -4.4749985], [48.216835, -4.4749985], [48.216835, -4.475165], [48.216835, -4.475165], [48.216835, -4.4749985], [48.216835, -4.4749985], [48.216835, -4.4749985], [48.216835, -4.4749985], [48.216835, -4.4749985], [48.216835, -4.4748316], [48.217, -4.4749985], [48.217, -4.4749985], [48.216835, -4.4749985], [48.216835, -4.4748316], [48.216835, -4.4748316], [48.216835, -4.475165], [48.216835, -4.475165], [48.216835, -4.475332], [48.216835, -4.4749985], [48.216835, -4.474332], [48.216835, -4.4744983], [48.216835, -4.4748316], [48.216835, -4.4748316], [48.216835, -4.474665], [48.216835, -4.474332], [48.216835, -4.474165], [48.216835, -4.4744983], [48.216835, -4.4748316], [48.216835, -4.474165], [48.216835, -4.474332], [48.216835, -4.4744983], [48.216835, -4.474665], [48.216835, -4.474665], [48.216835, -4.474665], [48.216835, -4.4744983], [48.216835, -4.4744983], [48.216835, -4.474665], [48.216835, -4.4748316], [48.216835, -4.474665], [48.216835, -4.4744983], [48.216835, -4.4744983], [48.216835, -4.474665], [48.216835, -4.4748316], [48.216835, -4.4748316], [48.216835, -4.4748316], [48.216835, -4.474665], [48.216835, -4.474665], [48.216835, -4.474665], [48.216835, -4.4748316], [48.216835, -4.4749985], [48.216835, -4.475165], [48.216835, -4.475165], [48.216835, -4.4749985], [48.216835, -4.4749985], [48.216835, -4.4748316], [48.216835, -4.4748316], [48.216835, -4.4748316], [48.216835, -4.4749985], [48.216835, -4.4749985]];\n",
       "                var cluster = L.markerClusterGroup({});\n",
       "\n",
       "                for (var i = 0; i &lt; data.length; i++) {\n",
       "                    var row = data[i];\n",
       "                    var marker = callback(row);\n",
       "                    marker.addTo(cluster);\n",
       "                }\n",
       "\n",
       "                cluster.addTo(map_64a57e35f5c0b61302e2a24877f0be0a);\n",
       "                return cluster;\n",
       "            })();\n",
       "        \n",
       "&lt;/script&gt;\n",
       "&lt;/html&gt;\" style=\"position:absolute;width:100%;height:100%;left:0;top:0;border:none !important;\" allowfullscreen webkitallowfullscreen mozallowfullscreen></iframe></div></div>"
      ],
      "text/plain": [
       "<folium.folium.Map at 0x102ecf0cd40>"
      ]
     },
     "execution_count": 23,
     "metadata": {},
     "output_type": "execute_result"
    }
   ],
   "source": [
    "m = fl.Map(location=berth_port_coords, zoom_start=8)\n",
    "\n",
    "anchored_points = df_clean.loc[(df_clean[\"Status\"] == 1)\n",
    "                               & (df_clean[\"SOG\"] < 5.0), [\"LAT\", \"LON\"]]\n",
    "\n",
    "fmc = FastMarkerCluster(data=anchored_points.values)\n",
    "fmc.add_to(m)\n",
    "\n",
    "m"
   ]
  },
  {
   "cell_type": "code",
   "execution_count": 24,
   "metadata": {
    "collapsed": false
   },
   "outputs": [
    {
     "name": "stderr",
     "output_type": "stream",
     "text": [
      "C:\\Users\\rendr\\AppData\\Local\\Temp\\ipykernel_5948\\3146608109.py:5: DeprecationWarning: DataFrameGroupBy.apply operated on the grouping columns. This behavior is deprecated, and in a future version of pandas the grouping columns will be excluded from the operation. Either pass `include_groups=False` to exclude the groupings or explicitly select the grouping columns after groupby to silence this warning.\n",
      "  .apply(lambda x: x if x.loc[(x[\"Status\"] == 5)\n",
      "C:\\Users\\rendr\\AppData\\Local\\Temp\\ipykernel_5948\\3146608109.py:14: DeprecationWarning: DataFrameGroupBy.apply operated on the grouping columns. This behavior is deprecated, and in a future version of pandas the grouping columns will be excluded from the operation. Either pass `include_groups=False` to exclude the groupings or explicitly select the grouping columns after groupby to silence this warning.\n",
      "  .apply(lambda x: x if x.loc[(x[\"Status\"] == 1)\n"
     ]
    }
   ],
   "source": [
    "# Remove messages until vessels leave the last port\n",
    "\n",
    "# Moored points\n",
    "df_clean = df_clean.groupby(\"voyage_id\") \\\n",
    "    .apply(lambda x: x if x.loc[(x[\"Status\"] == 5)\n",
    "                                & (x[\"SOG\"] < 1), \"BaseDateTime\"].max() is pd.NaT\n",
    "                        else x[x[\"BaseDateTime\"]\n",
    "                               > (x.loc[(x[\"Status\"] == 5)\n",
    "                                        & (x[\"SOG\"] < 1), \"BaseDateTime\"].max())]) \\\n",
    "                            .sort_index(level=1).reset_index(drop=True)\n",
    "\n",
    "# Anchored points\n",
    "df_clean = df_clean.groupby(\"voyage_id\") \\\n",
    "    .apply(lambda x: x if x.loc[(x[\"Status\"] == 1)\n",
    "                                & (x[\"SOG\"] < 5), \"BaseDateTime\"].max() is pd.NaT\n",
    "                        else x[x[\"BaseDateTime\"]\n",
    "                            > (x.loc[(x[\"Status\"] == 1)\n",
    "                                        & (x[\"SOG\"] < 5), \"BaseDateTime\"].max())]) \\\n",
    "                            .sort_index(level=1).reset_index(drop=True)"
   ]
  },
  {
   "cell_type": "code",
   "execution_count": 25,
   "metadata": {
    "collapsed": false
   },
   "outputs": [],
   "source": [
    "# Remove voyages with less than 100 msgs\n",
    "invalid_voyages = df_clean[\"voyage_id\"].value_counts() < 100\n",
    "invalid_voyages = invalid_voyages[invalid_voyages].index.values\n",
    "df_clean = df_clean.loc[~df_clean[\"voyage_id\"].isin(invalid_voyages)]"
   ]
  },
  {
   "cell_type": "code",
   "execution_count": 26,
   "metadata": {
    "collapsed": false
   },
   "outputs": [
    {
     "data": {
      "text/plain": [
       "148"
      ]
     },
     "execution_count": 26,
     "metadata": {},
     "output_type": "execute_result"
    }
   ],
   "source": [
    "df_clean[\"voyage_id\"].value_counts().min()"
   ]
  },
  {
   "cell_type": "code",
   "execution_count": 27,
   "metadata": {
    "collapsed": false
   },
   "outputs": [
    {
     "data": {
      "text/plain": [
       "(164,)"
      ]
     },
     "execution_count": 27,
     "metadata": {},
     "output_type": "execute_result"
    }
   ],
   "source": [
    "df_clean[\"voyage_id\"].unique().shape"
   ]
  },
  {
   "cell_type": "code",
   "execution_count": 28,
   "metadata": {
    "collapsed": false
   },
   "outputs": [
    {
     "data": {
      "text/plain": [
       "(66,)"
      ]
     },
     "execution_count": 28,
     "metadata": {},
     "output_type": "execute_result"
    }
   ],
   "source": [
    "df_clean[\"vessel\"].unique().shape"
   ]
  },
  {
   "attachments": {},
   "cell_type": "markdown",
   "metadata": {
    "collapsed": false
   },
   "source": [
    "# Visualize voyages"
   ]
  },
  {
   "cell_type": "code",
   "execution_count": 29,
   "metadata": {
    "collapsed": false
   },
   "outputs": [
    {
     "data": {
      "image/png": "[encoded data removed]",
      "text/plain": [
       "<Figure size 500x500 with 1 Axes>"
      ]
     },
     "metadata": {},
     "output_type": "display_data"
    }
   ],
   "source": [
    "world = gpd.read_file(gpd.datasets.get_path(\"naturalearth_lowres\"), crs=\"EPSG:4326\")\n",
    "europe = world.query(\"continent == 'Europe'\")\n",
    "\n",
    "for voyage_id, voyage_data in df_clean.groupby(\"voyage_id\"):\n",
    "\n",
    "    trajectory = mpd.Trajectory(df=voyage_data,\n",
    "                                traj_id=voyage_id,\n",
    "                                t=\"BaseDateTime\",\n",
    "                                x=\"LON\", y=\"LAT\")\n",
    "\n",
    "    fig, ax = plt.subplots(figsize=(5, 5))\n",
    "    europe.plot(ax=ax, color=\"white\", edgecolor=\"black\")\n",
    "    trajectory.plot(ax=ax)\n",
    "\n",
    "    ax.set_xlim([voyage_data[\"LON\"].min() - 2, voyage_data[\"LON\"].max() + 2])\n",
    "    ax.set_ylim([voyage_data[\"LAT\"].min() - 2, voyage_data[\"LAT\"].max() + 2])\n",
    "    ax.set_title(f\"Voyage {voyage_id}\")\n",
    "    plt.show()\n",
    "\n",
    "    clear_output(wait=True)\n",
    "    plt.pause(1)"
   ]
  },
  {
   "cell_type": "code",
   "execution_count": 30,
   "metadata": {},
   "outputs": [
    {
     "name": "stderr",
     "output_type": "stream",
     "text": [
      "C:\\Users\\rendr\\AppData\\Local\\Temp\\ipykernel_5948\\2429877271.py:3: FutureWarning: The geopandas.dataset module is deprecated and will be removed in GeoPandas 1.0. You can get the original 'naturalearth_lowres' data from https://www.naturalearthdata.com/downloads/110m-cultural-vectors/.\n",
      "  world = gpd.read_file(gpd.datasets.get_path(\"naturalearth_lowres\"), crs=\"EPSG:4326\")\n"
     ]
    },
    {
     "data": {
      "image/png": "[encoded data removed]",
      "text/plain": [
       "<Figure size 800x500 with 2 Axes>"
      ]
     },
     "metadata": {},
     "output_type": "display_data"
    }
   ],
   "source": [
    "voyages_to_remove = [\"3-0\", \"19-1\"]\n",
    "\n",
    "world = gpd.read_file(gpd.datasets.get_path(\"naturalearth_lowres\"), crs=\"EPSG:4326\")\n",
    "europe = world.query(\"continent == 'Europe'\")\n",
    "\n",
    "fig, axs = plt.subplots(nrows=1, ncols=2, figsize=(8, 5))\n",
    "\n",
    "for i in range(0, 2):\n",
    "\n",
    "    voyage_data = df_clean.loc[df_clean[\"voyage_id\"] == voyages_to_remove[i],\n",
    "                               [\"voyage_id\", \"BaseDateTime\", \"LON\", \"LAT\"]]\n",
    "    \n",
    "    trajectory = mpd.Trajectory(df=voyage_data,\n",
    "                                traj_id=\"voyage_id\",\n",
    "                                t=\"BaseDateTime\",\n",
    "                                x=\"LON\", y=\"LAT\")\n",
    "\n",
    "    europe.plot(ax=axs[i%2], color=\"white\", edgecolor=\"black\")\n",
    "    trajectory.plot(ax=axs[i%2])\n",
    "    axs[i%2].set_xlim([voyage_data[\"LON\"].min() - 2, voyage_data[\"LON\"].max() + 2])\n",
    "    axs[i%2].set_ylim([voyage_data[\"LAT\"].min() - 2, voyage_data[\"LAT\"].max() + 2])\n",
    "    axs[i%2].set_title(f\"Voyage {voyage_data['voyage_id'].values[0]}\")\n",
    "    axs[i%2].set_ylabel(\"Latitude\")\n",
    "    axs[i%2].set_xlabel(\"Longitude\")\n",
    "\n",
    "plt.savefig(\"./figures/app_rem_voyages_brest\")\n",
    "plt.show()"
   ]
  },
  {
   "cell_type": "code",
   "execution_count": 31,
   "metadata": {},
   "outputs": [
    {
     "data": {
      "text/html": [
       "<div style=\"width:100%;\"><div style=\"position:relative;width:100%;height:0;padding-bottom:60%;\"><span style=\"color:#565656\">Make this Notebook Trusted to load map: File -> Trust Notebook</span><iframe srcdoc=\"&lt;!DOCTYPE html&gt;\n",
       "&lt;html&gt;\n",
       "&lt;head&gt;\n",
       "    \n",
       "    &lt;meta http-equiv=&quot;content-type&quot; content=&quot;text/html; charset=UTF-8&quot; /&gt;\n",
       "    \n",
       "        &lt;script&gt;\n",
       "            L_NO_TOUCH = false;\n",
       "            L_DISABLE_3D = false;\n",
       "        &lt;/script&gt;\n",
       "    \n",
       "    &lt;style&gt;html, body {width: 100%;height: 100%;margin: 0;padding: 0;}&lt;/style&gt;\n",
       "    &lt;style&gt;#map {position:absolute;top:0;bottom:0;right:0;left:0;}&lt;/style&gt;\n",
       "    &lt;script src=&quot;https://cdn.jsdelivr.net/npm/leaflet@1.9.3/dist/leaflet.js&quot;&gt;&lt;/script&gt;\n",
       "    &lt;script src=&quot;https://code.jquery.com/jquery-1.12.4.min.js&quot;&gt;&lt;/script&gt;\n",
       "    &lt;script src=&quot;https://cdn.jsdelivr.net/npm/bootstrap@5.2.2/dist/js/bootstrap.bundle.min.js&quot;&gt;&lt;/script&gt;\n",
       "    &lt;script src=&quot;https://cdnjs.cloudflare.com/ajax/libs/Leaflet.awesome-markers/2.0.2/leaflet.awesome-markers.js&quot;&gt;&lt;/script&gt;\n",
       "    &lt;link rel=&quot;stylesheet&quot; href=&quot;https://cdn.jsdelivr.net/npm/leaflet@1.9.3/dist/leaflet.css&quot;/&gt;\n",
       "    &lt;link rel=&quot;stylesheet&quot; href=&quot;https://cdn.jsdelivr.net/npm/bootstrap@5.2.2/dist/css/bootstrap.min.css&quot;/&gt;\n",
       "    &lt;link rel=&quot;stylesheet&quot; href=&quot;https://netdna.bootstrapcdn.com/bootstrap/3.0.0/css/bootstrap.min.css&quot;/&gt;\n",
       "    &lt;link rel=&quot;stylesheet&quot; href=&quot;https://cdn.jsdelivr.net/npm/@fortawesome/fontawesome-free@6.2.0/css/all.min.css&quot;/&gt;\n",
       "    &lt;link rel=&quot;stylesheet&quot; href=&quot;https://cdnjs.cloudflare.com/ajax/libs/Leaflet.awesome-markers/2.0.2/leaflet.awesome-markers.css&quot;/&gt;\n",
       "    &lt;link rel=&quot;stylesheet&quot; href=&quot;https://cdn.jsdelivr.net/gh/python-visualization/folium/folium/templates/leaflet.awesome.rotate.min.css&quot;/&gt;\n",
       "    \n",
       "            &lt;meta name=&quot;viewport&quot; content=&quot;width=device-width,\n",
       "                initial-scale=1.0, maximum-scale=1.0, user-scalable=no&quot; /&gt;\n",
       "            &lt;style&gt;\n",
       "                #map_f33207d3d29769563fcd314bc3af778a {\n",
       "                    position: relative;\n",
       "                    width: 500.0px;\n",
       "                    height: 500.0px;\n",
       "                    left: 0.0%;\n",
       "                    top: 0.0%;\n",
       "                }\n",
       "                .leaflet-container { font-size: 1rem; }\n",
       "            &lt;/style&gt;\n",
       "        \n",
       "&lt;/head&gt;\n",
       "&lt;body&gt;\n",
       "    \n",
       "    \n",
       "            &lt;div class=&quot;folium-map&quot; id=&quot;map_f33207d3d29769563fcd314bc3af778a&quot; &gt;&lt;/div&gt;\n",
       "        \n",
       "&lt;/body&gt;\n",
       "&lt;script&gt;\n",
       "    \n",
       "    \n",
       "            var map_f33207d3d29769563fcd314bc3af778a = L.map(\n",
       "                &quot;map_f33207d3d29769563fcd314bc3af778a&quot;,\n",
       "                {\n",
       "                    center: [48.38273389573341, -4.485309812300752],\n",
       "                    crs: L.CRS.EPSG3857,\n",
       "                    zoom: 8,\n",
       "                    zoomControl: true,\n",
       "                    preferCanvas: false,\n",
       "                }\n",
       "            );\n",
       "\n",
       "            \n",
       "\n",
       "        \n",
       "    \n",
       "            var tile_layer_ff2406a9f9d501e7112917f690e3d135 = L.tileLayer(\n",
       "                &quot;https://{s}.tile.openstreetmap.org/{z}/{x}/{y}.png&quot;,\n",
       "                {&quot;attribution&quot;: &quot;Data by \\u0026copy; \\u003ca target=\\&quot;_blank\\&quot; href=\\&quot;http://openstreetmap.org\\&quot;\\u003eOpenStreetMap\\u003c/a\\u003e, under \\u003ca target=\\&quot;_blank\\&quot; href=\\&quot;http://www.openstreetmap.org/copyright\\&quot;\\u003eODbL\\u003c/a\\u003e.&quot;, &quot;detectRetina&quot;: false, &quot;maxNativeZoom&quot;: 18, &quot;maxZoom&quot;: 18, &quot;minZoom&quot;: 0, &quot;noWrap&quot;: false, &quot;opacity&quot;: 1, &quot;subdomains&quot;: &quot;abc&quot;, &quot;tms&quot;: false}\n",
       "            ).addTo(map_f33207d3d29769563fcd314bc3af778a);\n",
       "        \n",
       "    \n",
       "            var poly_line_91f9dcc9e5bb7d33180d2008ad541070 = L.polyline(\n",
       "                [[48.304375, -4.395728], [48.304413, -4.39582], [48.30446, -4.39593], [48.30451, -4.396032], [48.304535, -4.396105], [48.304592, -4.396237], [48.30464, -4.396352], [48.304684, -4.3964715], [48.304726, -4.3965936], [48.30477, -4.39673], [48.304806, -4.396848], [48.304874, -4.3970466], [48.304928, -4.3972282], [48.304985, -4.3974266], [48.305054, -4.39766], [48.30512, -4.397888], [48.30517, -4.398055], [48.305252, -4.398355], [48.30533, -4.398618], [48.305405, -4.3988914], [48.305492, -4.3992033], [48.305573, -4.399495], [48.30563, -4.399705], [48.30573, -4.4000783], [48.30581, -4.400395], [48.305885, -4.400718], [48.305954, -4.40105], [48.30602, -4.40142], [48.306065, -4.4016585], [48.306133, -4.40207], [48.30619, -4.40242], [48.306248, -4.4027734], [48.306316, -4.403165], [48.30638, -4.403527], [48.30643, -4.4037833], [48.30652, -4.404227], [48.306595, -4.4046], [48.306667, -4.40498], [48.306725, -4.4052835], [48.306812, -4.4057384], [48.306885, -4.4061165], [48.30696, -4.40654], [48.307022, -4.4068866], [48.307095, -4.4072766], [48.30716, -4.4076667], [48.30723, -4.4080567], [48.307285, -4.40837], [48.30738, -4.4088435], [48.307438, -4.40916], [48.307514, -4.409555], [48.307617, -4.410033], [48.307705, -4.4104714], [48.307762, -4.410743], [48.307858, -4.4112034], [48.30792, -4.4115086], [48.308006, -4.411968], [48.308086, -4.4123516], [48.30816, -4.412737], [48.308212, -4.413045], [48.3083, -4.4135065], [48.308346, -4.4138165], [48.30842, -4.414282], [48.30848, -4.414665], [48.30854, -4.4150515], [48.30858, -4.4153666], [48.30864, -4.415837], [48.308685, -4.4161468], [48.308754, -4.416615], [48.3088, -4.416925], [48.308872, -4.4173884], [48.30892, -4.417693], [48.309, -4.418155], [48.309044, -4.418465], [48.30911, -4.4189315], [48.309166, -4.41936], [48.30922, -4.419707], [48.309265, -4.420017], [48.309334, -4.420485], [48.309372, -4.420797], [48.309433, -4.4212666], [48.309483, -4.4216986], [48.30952, -4.42205], [48.30956, -4.4223633], [48.30962, -4.4228735], [48.309673, -4.4232683], [48.30972, -4.4236236], [48.30978, -4.4240584], [48.309834, -4.4244165], [48.309887, -4.42473], [48.30996, -4.425205], [48.31003, -4.4256434], [48.31009, -4.4260015], [48.31016, -4.426437], [48.310215, -4.4267917], [48.31027, -4.4271083], [48.31034, -4.427585], [48.310402, -4.4280267], [48.310448, -4.4283085], [48.31052, -4.42879], [48.31058, -4.4291935], [48.310635, -4.4296064], [48.3107, -4.430055], [48.31077, -4.43046], [48.310825, -4.430825], [48.310898, -4.43127], [48.310955, -4.4316335], [48.31101, -4.431957], [48.31109, -4.432443], [48.311153, -4.4328485], [48.311203, -4.4332066], [48.31127, -4.433688], [48.31133, -4.43405], [48.31138, -4.4343715], [48.311447, -4.4347835], [48.311527, -4.4353185], [48.31158, -4.4356866], [48.31164, -4.436138], [48.311695, -4.43651], [48.31175, -4.4368415], [48.311806, -4.4372916], [48.311886, -4.437785], [48.311954, -4.4381533], [48.31202, -4.4385667], [48.312088, -4.43898], [48.312157, -4.4393935], [48.31222, -4.43976], [48.312298, -4.44021], [48.31236, -4.4405785], [48.312428, -4.4409466], [48.312508, -4.441437], [48.31258, -4.4418416], [48.312653, -4.44225], [48.312725, -4.442662], [48.312805, -4.443115], [48.312855, -4.443402], [48.31296, -4.4439335], [48.313034, -4.4443], [48.313095, -4.444627], [48.313194, -4.4451184], [48.313274, -4.4455266], [48.31333, -4.445852], [48.313427, -4.4463816], [48.3135, -4.446787], [48.313564, -4.44711], [48.313652, -4.447553], [48.313736, -4.447995], [48.313793, -4.448275], [48.3139, -4.4487934], [48.31396, -4.4490685], [48.314045, -4.4495034], [48.314133, -4.4499383], [48.31422, -4.4503784], [48.314285, -4.4507384], [48.314373, -4.4511786], [48.314426, -4.4514565], [48.314526, -4.451935], [48.314613, -4.4523335], [48.314705, -4.45273], [48.31478, -4.453045], [48.31491, -4.4535584], [48.31498, -4.453833], [48.3151, -4.454302], [48.3152, -4.454695], [48.315304, -4.455128], [48.31537, -4.4554033], [48.31548, -4.4559083], [48.31554, -4.456178], [48.31563, -4.456605], [48.315727, -4.4570317], [48.315815, -4.45742], [48.315907, -4.4578085], [48.316006, -4.4582334], [48.316074, -4.4585032], [48.316185, -4.4589634], [48.316284, -4.4593434], [48.316387, -4.4597235], [48.3165, -4.460137], [48.31661, -4.4605117], [48.316685, -4.4607716], [48.31679, -4.4611416], [48.31692, -4.46159], [48.317036, -4.4620066], [48.31714, -4.462385], [48.31724, -4.4627585], [48.317337, -4.4630933], [48.31742, -4.463393], [48.317543, -4.4638433], [48.317646, -4.4642167], [48.317753, -4.464585], [48.317875, -4.464995], [48.317974, -4.465327], [48.31808, -4.4657], [48.318188, -4.4660716], [48.318306, -4.46648], [48.318398, -4.466807], [48.31851, -4.4671783], [48.318615, -4.4675465], [48.318703, -4.4678483], [48.318848, -4.468332], [48.31894, -4.4686565], [48.319054, -4.469025], [48.31917, -4.46939], [48.319294, -4.46976], [48.319412, -4.470132], [48.319546, -4.47054], [48.319653, -4.470875], [48.319767, -4.4712515], [48.319885, -4.47163], [48.320007, -4.472007], [48.320103, -4.472305], [48.320248, -4.47276], [48.320362, -4.473143], [48.32048, -4.473523], [48.3206, -4.473903], [48.320717, -4.4742866], [48.320827, -4.47463], [48.320972, -4.4750814], [48.321083, -4.4754267], [48.321198, -4.4757967], [48.32129, -4.4760933], [48.32144, -4.476548], [48.321568, -4.4769335], [48.3217, -4.4773564], [48.32181, -4.4777], [48.32194, -4.4780817], [48.322067, -4.478473], [48.3222, -4.4788585], [48.322304, -4.4791665], [48.32247, -4.479668], [48.32256, -4.479935], [48.322712, -4.4803915], [48.322857, -4.4808083], [48.322975, -4.4811516]],\n",
       "                {&quot;bubblingMouseEvents&quot;: true, &quot;color&quot;: &quot;#3388ff&quot;, &quot;dashArray&quot;: null, &quot;dashOffset&quot;: null, &quot;fill&quot;: false, &quot;fillColor&quot;: &quot;#3388ff&quot;, &quot;fillOpacity&quot;: 0.2, &quot;fillRule&quot;: &quot;evenodd&quot;, &quot;lineCap&quot;: &quot;round&quot;, &quot;lineJoin&quot;: &quot;round&quot;, &quot;noClip&quot;: false, &quot;opacity&quot;: 1, &quot;smoothFactor&quot;: 1.0, &quot;stroke&quot;: true, &quot;weight&quot;: 2}\n",
       "            ).addTo(map_f33207d3d29769563fcd314bc3af778a);\n",
       "        \n",
       "    \n",
       "        var popup_4f540f3954c29779c342957fb48257cd = L.popup({&quot;maxWidth&quot;: &quot;100%&quot;});\n",
       "\n",
       "        \n",
       "            \n",
       "                var html_17f87d3b7e1fa9c7ccb3e903e3e23fe1 = $(`&lt;div id=&quot;html_17f87d3b7e1fa9c7ccb3e903e3e23fe1&quot; style=&quot;width: 100.0%; height: 100.0%;&quot;&gt;19-1&lt;/div&gt;`)[0];\n",
       "                popup_4f540f3954c29779c342957fb48257cd.setContent(html_17f87d3b7e1fa9c7ccb3e903e3e23fe1);\n",
       "            \n",
       "        \n",
       "\n",
       "        poly_line_91f9dcc9e5bb7d33180d2008ad541070.bindPopup(popup_4f540f3954c29779c342957fb48257cd)\n",
       "        ;\n",
       "\n",
       "        \n",
       "    \n",
       "    \n",
       "            var poly_line_a86871526077c8c538996ac233b2d070 = L.polyline(\n",
       "                [[48.300705, -4.38631], [48.300705, -4.3863215], [48.30071, -4.3863435], [48.30071, -4.3863435], [48.300713, -4.3863683], [48.30072, -4.3864036], [48.30073, -4.38641], [48.30074, -4.3864284], [48.300747, -4.38643], [48.300755, -4.386453], [48.300762, -4.386475], [48.300785, -4.3865066], [48.300797, -4.386532], [48.30081, -4.386545], [48.30084, -4.386572], [48.300858, -4.3866067], [48.30086, -4.3866334], [48.300873, -4.386658], [48.3009, -4.386677], [48.30092, -4.3867083], [48.300934, -4.3867416], [48.300972, -4.386795], [48.300995, -4.3868284], [48.301033, -4.386855], [48.301067, -4.3868885], [48.301113, -4.386922], [48.30116, -4.3869734], [48.30124, -4.3871036], [48.301266, -4.387192], [48.3013, -4.3872786], [48.301334, -4.3873982], [48.30137, -4.387523], [48.30142, -4.3876715], [48.301453, -4.3877983], [48.301506, -4.3880167], [48.30155, -4.3882117], [48.301594, -4.388428], [48.301647, -4.3886633], [48.301758, -4.3892], [48.301815, -4.3895316], [48.301872, -4.3898616], [48.30194, -4.390207], [48.302006, -4.39058], [48.30209, -4.3910117], [48.30216, -4.3913817], [48.302235, -4.3918133], [48.3023, -4.3922114], [48.302372, -4.392717], [48.302456, -4.393173], [48.302547, -4.3937], [48.30262, -4.394145], [48.302708, -4.394655], [48.30278, -4.3951283], [48.30286, -4.3956532], [48.302937, -4.39619], [48.30303, -4.3967934], [48.30312, -4.39729], [48.303272, -4.39795], [48.30339, -4.398455], [48.303497, -4.399025], [48.303604, -4.3996067], [48.303726, -4.400242], [48.30383, -4.400767], [48.303955, -4.401358], [48.304054, -4.401895], [48.30416, -4.4024935], [48.304268, -4.4031], [48.3044, -4.4038415], [48.304512, -4.404392], [48.304623, -4.40507], [48.304703, -4.4055667], [48.304825, -4.40625], [48.304943, -4.406872], [48.30506, -4.40757], [48.305145, -4.40807], [48.305264, -4.4087567], [48.305355, -4.4093285], [48.305588, -4.4106617], [48.30571, -4.411355], [48.305805, -4.4119267], [48.30591, -4.4125667], [48.306, -4.41314], [48.306118, -4.4138484], [48.30622, -4.414495], [48.306313, -4.415155], [48.306416, -4.415748], [48.306545, -4.4164634], [48.30666, -4.4170365], [48.306793, -4.4177365], [48.30691, -4.41838], [48.307, -4.4189568], [48.307095, -4.4195967], [48.307213, -4.420295], [48.30732, -4.420853], [48.307446, -4.42163], [48.30755, -4.422207], [48.30764, -4.422778], [48.30775, -4.423412], [48.307873, -4.424115], [48.308, -4.42475], [48.3081, -4.42533], [48.308235, -4.4261], [48.30831, -4.426615], [48.30842, -4.427262], [48.308533, -4.4279785], [48.308647, -4.42862], [48.308765, -4.42926], [48.3089, -4.429963], [48.309013, -4.4305367], [48.309116, -4.431115], [48.30924, -4.431822], [48.309364, -4.432522], [48.30946, -4.4331036], [48.309574, -4.4337416], [48.309677, -4.4343133], [48.3098, -4.4350133], [48.309906, -4.4356565], [48.310028, -4.4363685], [48.310135, -4.437005], [48.310238, -4.43765], [48.31032, -4.438162], [48.310463, -4.43892], [48.31057, -4.439485], [48.310688, -4.4401116], [48.3108, -4.44074], [48.31093, -4.4414315], [48.311035, -4.442002], [48.311165, -4.442695], [48.311287, -4.443325], [48.311405, -4.4439616], [48.311527, -4.4446015], [48.31163, -4.44517], [48.311726, -4.44574], [48.31186, -4.4464316], [48.31199, -4.4471216], [48.3121, -4.44775], [48.312214, -4.44837], [48.312332, -4.4489117], [48.31248, -4.449515], [48.31263, -4.450122], [48.312767, -4.45072], [48.31291, -4.451385], [48.31304, -4.451987], [48.31318, -4.452582], [48.313305, -4.453117], [48.31344, -4.453715], [48.31357, -4.454378], [48.31372, -4.45496], [48.313896, -4.455537], [48.31405, -4.4560366], [48.314236, -4.4565883], [48.314434, -4.457145], [48.314625, -4.457695], [48.314854, -4.458287], [48.31508, -4.45881], [48.31531, -4.4593368], [48.31551, -4.459815], [48.315716, -4.4603467], [48.31594, -4.4609365], [48.316154, -4.461478], [48.316307, -4.46191], [48.3165, -4.4625], [48.3167, -4.4629965], [48.31684, -4.4632816], [48.316914, -4.463422], [48.317017, -4.4636116], [48.31712, -4.463802], [48.317215, -4.4639916], [48.31745, -4.46448], [48.31763, -4.4648867], [48.317875, -4.4654465], [48.318092, -4.4659567], [48.318325, -4.466465], [48.31856, -4.4669633], [48.31878, -4.46747], [48.318966, -4.467925], [48.319126, -4.4682584], [48.319233, -4.46843], [48.319347, -4.468593], [48.319405, -4.468672], [48.31952, -4.468825], [48.319633, -4.468973], [48.319695, -4.46905], [48.31978, -4.4691615], [48.3199, -4.4693065], [48.320114, -4.469555], [48.32046, -4.469937], [48.320705, -4.4702115], [48.321045, -4.47059], [48.321354, -4.470958], [48.32163, -4.471288], [48.322, -4.4717317], [48.322315, -4.47211], [48.322594, -4.4724565], [48.322956, -4.47284], [48.3233, -4.4731383]],\n",
       "                {&quot;bubblingMouseEvents&quot;: true, &quot;color&quot;: &quot;#3388ff&quot;, &quot;dashArray&quot;: null, &quot;dashOffset&quot;: null, &quot;fill&quot;: false, &quot;fillColor&quot;: &quot;#3388ff&quot;, &quot;fillOpacity&quot;: 0.2, &quot;fillRule&quot;: &quot;evenodd&quot;, &quot;lineCap&quot;: &quot;round&quot;, &quot;lineJoin&quot;: &quot;round&quot;, &quot;noClip&quot;: false, &quot;opacity&quot;: 1, &quot;smoothFactor&quot;: 1.0, &quot;stroke&quot;: true, &quot;weight&quot;: 2}\n",
       "            ).addTo(map_f33207d3d29769563fcd314bc3af778a);\n",
       "        \n",
       "    \n",
       "        var popup_321140bcc6760a07c408357c3afe8ebc = L.popup({&quot;maxWidth&quot;: &quot;100%&quot;});\n",
       "\n",
       "        \n",
       "            \n",
       "                var html_fd4c06b6b87540ca7634d9cb792674fd = $(`&lt;div id=&quot;html_fd4c06b6b87540ca7634d9cb792674fd&quot; style=&quot;width: 100.0%; height: 100.0%;&quot;&gt;3-0&lt;/div&gt;`)[0];\n",
       "                popup_321140bcc6760a07c408357c3afe8ebc.setContent(html_fd4c06b6b87540ca7634d9cb792674fd);\n",
       "            \n",
       "        \n",
       "\n",
       "        poly_line_a86871526077c8c538996ac233b2d070.bindPopup(popup_321140bcc6760a07c408357c3afe8ebc)\n",
       "        ;\n",
       "\n",
       "        \n",
       "    \n",
       "&lt;/script&gt;\n",
       "&lt;/html&gt;\" style=\"position:absolute;width:100%;height:100%;left:0;top:0;border:none !important;\" allowfullscreen webkitallowfullscreen mozallowfullscreen></iframe></div></div>"
      ],
      "text/plain": [
       "<folium.folium.Map at 0x102eb933860>"
      ]
     },
     "execution_count": 31,
     "metadata": {},
     "output_type": "execute_result"
    }
   ],
   "source": [
    "voyages_to_remove = [\"3-0\", \"19-1\"]\n",
    "\n",
    "trajectories = mpd.TrajectoryCollection(data=df_clean[df_clean[\"voyage_id\"].isin(voyages_to_remove)], \n",
    "                                        traj_id_col=\"voyage_id\", t=\"BaseDateTime\", x=\"LON\", y=\"LAT\", crs=\"epsg:4326\")\n",
    "    \n",
    "m = fl.Map(width=500, height=500, location=berth_port_coords, zoom_start=8)\n",
    "\n",
    "i = 0\n",
    "for trajectory in trajectories.trajectories:\n",
    "    coords = [[x[1], x[0]] for x in trajectory.to_linestring().coords]\n",
    "    fl.PolyLine(coords, weight=2, opacity=1, popup=trajectory.id).add_to(m)\n",
    "    i+=1\n",
    "    \n",
    "m"
   ]
  },
  {
   "cell_type": "code",
   "execution_count": 32,
   "metadata": {
    "collapsed": false
   },
   "outputs": [],
   "source": [
    "voyages_to_remove = [\"3-0\", \"19-1\"]\n",
    "\n",
    "df_clean = df_clean[~df_clean[\"voyage_id\"].isin(voyages_to_remove)]"
   ]
  },
  {
   "cell_type": "code",
   "execution_count": 33,
   "metadata": {
    "collapsed": false
   },
   "outputs": [
    {
     "data": {
      "text/plain": [
       "(162,)"
      ]
     },
     "execution_count": 33,
     "metadata": {},
     "output_type": "execute_result"
    }
   ],
   "source": [
    "df_clean[\"voyage_id\"].unique().shape"
   ]
  },
  {
   "cell_type": "code",
   "execution_count": 34,
   "metadata": {},
   "outputs": [
    {
     "data": {
      "text/plain": [
       "(66,)"
      ]
     },
     "execution_count": 34,
     "metadata": {},
     "output_type": "execute_result"
    }
   ],
   "source": [
    "df_clean[\"vessel\"].unique().shape"
   ]
  },
  {
   "cell_type": "markdown",
   "metadata": {},
   "source": [
    "Modificado"
   ]
  },
  {
   "cell_type": "code",
   "execution_count": 35,
   "metadata": {},
   "outputs": [
    {
     "name": "stderr",
     "output_type": "stream",
     "text": [
      "C:\\Users\\rendr\\AppData\\Local\\Temp\\ipykernel_5948\\3106206018.py:5: FutureWarning: The geopandas.dataset module is deprecated and will be removed in GeoPandas 1.0. You can get the original 'naturalearth_lowres' data from https://www.naturalearthdata.com/downloads/110m-cultural-vectors/.\n",
      "  world = gpd.read_file(gpd.datasets.get_path(\"naturalearth_lowres\"), crs=\"EPSG:4326\")\n"
     ]
    },
    {
     "data": {
      "image/png": "[encoded data removed]",
      "text/plain": [
       "<Figure size 500x500 with 2 Axes>"
      ]
     },
     "metadata": {},
     "output_type": "display_data"
    }
   ],
   "source": [
    "import geopandas as gpd\n",
    "import matplotlib.pyplot as plt\n",
    "\n",
    "# Load world data and filter for Europe\n",
    "world = gpd.read_file(gpd.datasets.get_path(\"naturalearth_lowres\"), crs=\"EPSG:4326\")\n",
    "europe = world.query(\"continent == 'Europe'\")\n",
    "\n",
    "# Prepare colormap\n",
    "cmap = plt.get_cmap(\"winter\")\n",
    "\n",
    "# Prepare plot\n",
    "fig, ax = plt.subplots(figsize=(5,5))\n",
    "europe.plot(ax=ax, color=\"white\", edgecolor=\"black\")\n",
    "\n",
    "# Assuming df_clean and 'distanceToPort' are properly defined elsewhere in your script:\n",
    "dist_norm = (df_clean[\"distanceToPort\"] - df_clean[\"distanceToPort\"].min()) \\\n",
    "            / (df_clean[\"distanceToPort\"].max() - df_clean[\"distanceToPort\"].min())\n",
    "\n",
    "# Create a ScalarMappable for use with the colorbar\n",
    "sm = plt.cm.ScalarMappable(cmap=cmap, norm=plt.Normalize(vmin=df_clean[\"distanceToPort\"].min(), vmax=df_clean[\"distanceToPort\"].max()))\n",
    "sm.set_array([])  # This can sometimes help with tricky colorbar issues\n",
    "\n",
    "# Plot scatter with normalized colors\n",
    "ax.scatter(df_clean[\"LON\"], df_clean[\"LAT\"], c=cmap(dist_norm), s=0.0001)\n",
    "\n",
    "# Set plot limits\n",
    "ax.set_xlim([df_clean[\"LON\"].min() - 2, df_clean[\"LON\"].max() + 2])\n",
    "ax.set_ylim([df_clean[\"LAT\"].min() - 2, df_clean[\"LAT\"].max() + 2])\n",
    "\n",
    "# Set labels\n",
    "ax.set_ylabel(\"Latitude\")\n",
    "ax.set_xlabel(\"Longitude\")\n",
    "\n",
    "# Create colorbar specifically referring to 'ax'\n",
    "cbar = fig.colorbar(sm, ax=ax, shrink=0.85)\n",
    "cbar.set_label(\"Distance to the Port (nautical miles)\")\n",
    "\n",
    "# Save and show plot\n",
    "plt.savefig(\"./figures/final_brest_data\")\n",
    "plt.show()\n"
   ]
  },
  {
   "cell_type": "code",
   "execution_count": 36,
   "metadata": {
    "collapsed": false
   },
   "outputs": [],
   "source": [
    "df_clean = df_clean[[\"vessel\", \"voyage\", \"voyage_id\",\n",
    "                     \"BaseDateTime\", \"LON\", \"LAT\", \"SOG\", \"COG\",\n",
    "                     \"distanceToPort\", \"remainingVoyageTime\",\n",
    "                     \"x\", \"y\"]]"
   ]
  },
  {
   "cell_type": "code",
   "execution_count": 37,
   "metadata": {
    "collapsed": false
   },
   "outputs": [
    {
     "data": {
      "text/html": [
       "<div>\n",
       "<style scoped>\n",
       "    .dataframe tbody tr th:only-of-type {\n",
       "        vertical-align: middle;\n",
       "    }\n",
       "\n",
       "    .dataframe tbody tr th {\n",
       "        vertical-align: top;\n",
       "    }\n",
       "\n",
       "    .dataframe thead th {\n",
       "        text-align: right;\n",
       "    }\n",
       "</style>\n",
       "<table border=\"1\" class=\"dataframe\">\n",
       "  <thead>\n",
       "    <tr style=\"text-align: right;\">\n",
       "      <th></th>\n",
       "      <th>vessel</th>\n",
       "      <th>voyage</th>\n",
       "      <th>voyage_id</th>\n",
       "      <th>BaseDateTime</th>\n",
       "      <th>LON</th>\n",
       "      <th>LAT</th>\n",
       "      <th>SOG</th>\n",
       "      <th>COG</th>\n",
       "      <th>distanceToPort</th>\n",
       "      <th>remainingVoyageTime</th>\n",
       "      <th>x</th>\n",
       "      <th>y</th>\n",
       "    </tr>\n",
       "  </thead>\n",
       "  <tbody>\n",
       "    <tr>\n",
       "      <th>55</th>\n",
       "      <td>2</td>\n",
       "      <td>0</td>\n",
       "      <td>2-0</td>\n",
       "      <td>2016-01-01 20:53:16</td>\n",
       "      <td>-5.661688</td>\n",
       "      <td>48.435425</td>\n",
       "      <td>7.0</td>\n",
       "      <td>113.0</td>\n",
       "      <td>70.870211</td>\n",
       "      <td>1055.216667</td>\n",
       "      <td>-630256.258586</td>\n",
       "      <td>6.179602e+06</td>\n",
       "    </tr>\n",
       "    <tr>\n",
       "      <th>56</th>\n",
       "      <td>2</td>\n",
       "      <td>0</td>\n",
       "      <td>2-0</td>\n",
       "      <td>2016-01-01 20:53:28</td>\n",
       "      <td>-5.661258</td>\n",
       "      <td>48.435173</td>\n",
       "      <td>6.9</td>\n",
       "      <td>122.5</td>\n",
       "      <td>70.842872</td>\n",
       "      <td>1055.016667</td>\n",
       "      <td>-630208.357809</td>\n",
       "      <td>6.179560e+06</td>\n",
       "    </tr>\n",
       "    <tr>\n",
       "      <th>57</th>\n",
       "      <td>2</td>\n",
       "      <td>0</td>\n",
       "      <td>2-0</td>\n",
       "      <td>2016-01-01 21:33:29</td>\n",
       "      <td>-5.524507</td>\n",
       "      <td>48.398712</td>\n",
       "      <td>9.6</td>\n",
       "      <td>105.0</td>\n",
       "      <td>62.480487</td>\n",
       "      <td>1015.000000</td>\n",
       "      <td>-614985.261596</td>\n",
       "      <td>6.173444e+06</td>\n",
       "    </tr>\n",
       "    <tr>\n",
       "      <th>58</th>\n",
       "      <td>2</td>\n",
       "      <td>0</td>\n",
       "      <td>2-0</td>\n",
       "      <td>2016-01-01 21:33:36</td>\n",
       "      <td>-5.524189</td>\n",
       "      <td>48.398514</td>\n",
       "      <td>8.9</td>\n",
       "      <td>127.1</td>\n",
       "      <td>62.460960</td>\n",
       "      <td>1014.883333</td>\n",
       "      <td>-614949.850866</td>\n",
       "      <td>6.173411e+06</td>\n",
       "    </tr>\n",
       "    <tr>\n",
       "      <th>59</th>\n",
       "      <td>2</td>\n",
       "      <td>0</td>\n",
       "      <td>2-0</td>\n",
       "      <td>2016-01-01 21:33:58</td>\n",
       "      <td>-5.522910</td>\n",
       "      <td>48.398014</td>\n",
       "      <td>9.1</td>\n",
       "      <td>128.7</td>\n",
       "      <td>62.383112</td>\n",
       "      <td>1014.516667</td>\n",
       "      <td>-614807.528897</td>\n",
       "      <td>6.173327e+06</td>\n",
       "    </tr>\n",
       "  </tbody>\n",
       "</table>\n",
       "</div>"
      ],
      "text/plain": [
       "    vessel  voyage voyage_id        BaseDateTime       LON        LAT  SOG  \\\n",
       "55       2       0       2-0 2016-01-01 20:53:16 -5.661688  48.435425  7.0   \n",
       "56       2       0       2-0 2016-01-01 20:53:28 -5.661258  48.435173  6.9   \n",
       "57       2       0       2-0 2016-01-01 21:33:29 -5.524507  48.398712  9.6   \n",
       "58       2       0       2-0 2016-01-01 21:33:36 -5.524189  48.398514  8.9   \n",
       "59       2       0       2-0 2016-01-01 21:33:58 -5.522910  48.398014  9.1   \n",
       "\n",
       "      COG  distanceToPort  remainingVoyageTime              x             y  \n",
       "55  113.0       70.870211          1055.216667 -630256.258586  6.179602e+06  \n",
       "56  122.5       70.842872          1055.016667 -630208.357809  6.179560e+06  \n",
       "57  105.0       62.480487          1015.000000 -614985.261596  6.173444e+06  \n",
       "58  127.1       62.460960          1014.883333 -614949.850866  6.173411e+06  \n",
       "59  128.7       62.383112          1014.516667 -614807.528897  6.173327e+06  "
      ]
     },
     "execution_count": 37,
     "metadata": {},
     "output_type": "execute_result"
    }
   ],
   "source": [
    "df_clean.head()"
   ]
  },
  {
   "cell_type": "code",
   "execution_count": 38,
   "metadata": {
    "collapsed": false
   },
   "outputs": [
    {
     "name": "stdout",
     "output_type": "stream",
     "text": [
      "<class 'pandas.core.frame.DataFrame'>\n",
      "Index: 186472 entries, 55 to 187313\n",
      "Data columns (total 12 columns):\n",
      " #   Column               Non-Null Count   Dtype         \n",
      "---  ------               --------------   -----         \n",
      " 0   vessel               186472 non-null  int64         \n",
      " 1   voyage               186472 non-null  int64         \n",
      " 2   voyage_id            186472 non-null  object        \n",
      " 3   BaseDateTime         186472 non-null  datetime64[ns]\n",
      " 4   LON                  186472 non-null  float64       \n",
      " 5   LAT                  186472 non-null  float64       \n",
      " 6   SOG                  186472 non-null  float64       \n",
      " 7   COG                  186472 non-null  float64       \n",
      " 8   distanceToPort       186472 non-null  float64       \n",
      " 9   remainingVoyageTime  186472 non-null  float64       \n",
      " 10  x                    186472 non-null  float64       \n",
      " 11  y                    186472 non-null  float64       \n",
      "dtypes: datetime64[ns](1), float64(8), int64(2), object(1)\n",
      "memory usage: 18.5+ MB\n"
     ]
    }
   ],
   "source": [
    "df_clean.info()"
   ]
  },
  {
   "cell_type": "code",
   "execution_count": 39,
   "metadata": {
    "collapsed": false
   },
   "outputs": [],
   "source": [
    "df_clean.to_csv(\"./data/2_france_voyages.csv\", index=False)"
   ]
  }
 ],
 "metadata": {
  "kernelspec": {
   "display_name": "Python 3",
   "language": "python",
   "name": "python3"
  },
  "language_info": {
   "codemirror_mode": {
    "name": "ipython",
    "version": 3
   },
   "file_extension": ".py",
   "mimetype": "text/x-python",
   "name": "python",
   "nbconvert_exporter": "python",
   "pygments_lexer": "ipython3",
   "version": "3.12.4"
  }
 },
 "nbformat": 4,
 "nbformat_minor": 0
}

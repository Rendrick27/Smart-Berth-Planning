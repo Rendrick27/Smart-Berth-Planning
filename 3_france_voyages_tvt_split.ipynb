{
 "cells": [
  {
   "cell_type": "code",
   "execution_count": 10,
   "metadata": {
    "ExecuteTime": {
     "end_time": "2023-06-01T13:50:42.149348Z",
     "start_time": "2023-06-01T13:50:42.146173Z"
    },
    "collapsed": true
   },
   "outputs": [],
   "source": [
    "import datetime\n",
    "\n",
    "import pandas as pd"
   ]
  },
  {
   "cell_type": "code",
   "execution_count": 11,
   "metadata": {
    "ExecuteTime": {
     "end_time": "2023-06-01T13:50:42.563411Z",
     "start_time": "2023-06-01T13:50:42.152083Z"
    },
    "collapsed": false
   },
   "outputs": [],
   "source": [
    "df = pd.read_csv(\"./data/2_france_voyages.csv\")"
   ]
  },
  {
   "cell_type": "code",
   "execution_count": 12,
   "metadata": {
    "ExecuteTime": {
     "end_time": "2023-06-01T13:50:42.595214Z",
     "start_time": "2023-06-01T13:50:42.571136Z"
    },
    "collapsed": false
   },
   "outputs": [
    {
     "data": {
      "text/html": [
       "<div>\n",
       "<style scoped>\n",
       "    .dataframe tbody tr th:only-of-type {\n",
       "        vertical-align: middle;\n",
       "    }\n",
       "\n",
       "    .dataframe tbody tr th {\n",
       "        vertical-align: top;\n",
       "    }\n",
       "\n",
       "    .dataframe thead th {\n",
       "        text-align: right;\n",
       "    }\n",
       "</style>\n",
       "<table border=\"1\" class=\"dataframe\">\n",
       "  <thead>\n",
       "    <tr style=\"text-align: right;\">\n",
       "      <th></th>\n",
       "      <th>vessel</th>\n",
       "      <th>voyage</th>\n",
       "      <th>voyage_id</th>\n",
       "      <th>BaseDateTime</th>\n",
       "      <th>LON</th>\n",
       "      <th>LAT</th>\n",
       "      <th>SOG</th>\n",
       "      <th>COG</th>\n",
       "      <th>distanceToPort</th>\n",
       "      <th>remainingVoyageTime</th>\n",
       "      <th>x</th>\n",
       "      <th>y</th>\n",
       "    </tr>\n",
       "  </thead>\n",
       "  <tbody>\n",
       "    <tr>\n",
       "      <th>0</th>\n",
       "      <td>2</td>\n",
       "      <td>0</td>\n",
       "      <td>2-0</td>\n",
       "      <td>2016-01-01 20:53:16</td>\n",
       "      <td>-5.661688</td>\n",
       "      <td>48.435425</td>\n",
       "      <td>7.0</td>\n",
       "      <td>113.0</td>\n",
       "      <td>70.870211</td>\n",
       "      <td>1055.216667</td>\n",
       "      <td>-630256.258586</td>\n",
       "      <td>6.179602e+06</td>\n",
       "    </tr>\n",
       "    <tr>\n",
       "      <th>1</th>\n",
       "      <td>2</td>\n",
       "      <td>0</td>\n",
       "      <td>2-0</td>\n",
       "      <td>2016-01-01 20:53:28</td>\n",
       "      <td>-5.661258</td>\n",
       "      <td>48.435173</td>\n",
       "      <td>6.9</td>\n",
       "      <td>122.5</td>\n",
       "      <td>70.842872</td>\n",
       "      <td>1055.016667</td>\n",
       "      <td>-630208.357809</td>\n",
       "      <td>6.179560e+06</td>\n",
       "    </tr>\n",
       "    <tr>\n",
       "      <th>2</th>\n",
       "      <td>2</td>\n",
       "      <td>0</td>\n",
       "      <td>2-0</td>\n",
       "      <td>2016-01-01 21:33:29</td>\n",
       "      <td>-5.524507</td>\n",
       "      <td>48.398712</td>\n",
       "      <td>9.6</td>\n",
       "      <td>105.0</td>\n",
       "      <td>62.480487</td>\n",
       "      <td>1015.000000</td>\n",
       "      <td>-614985.261596</td>\n",
       "      <td>6.173444e+06</td>\n",
       "    </tr>\n",
       "    <tr>\n",
       "      <th>3</th>\n",
       "      <td>2</td>\n",
       "      <td>0</td>\n",
       "      <td>2-0</td>\n",
       "      <td>2016-01-01 21:33:36</td>\n",
       "      <td>-5.524189</td>\n",
       "      <td>48.398514</td>\n",
       "      <td>8.9</td>\n",
       "      <td>127.1</td>\n",
       "      <td>62.460960</td>\n",
       "      <td>1014.883333</td>\n",
       "      <td>-614949.850866</td>\n",
       "      <td>6.173411e+06</td>\n",
       "    </tr>\n",
       "    <tr>\n",
       "      <th>4</th>\n",
       "      <td>2</td>\n",
       "      <td>0</td>\n",
       "      <td>2-0</td>\n",
       "      <td>2016-01-01 21:33:58</td>\n",
       "      <td>-5.522910</td>\n",
       "      <td>48.398014</td>\n",
       "      <td>9.1</td>\n",
       "      <td>128.7</td>\n",
       "      <td>62.383112</td>\n",
       "      <td>1014.516667</td>\n",
       "      <td>-614807.528897</td>\n",
       "      <td>6.173327e+06</td>\n",
       "    </tr>\n",
       "  </tbody>\n",
       "</table>\n",
       "</div>"
      ],
      "text/plain": [
       "   vessel  voyage voyage_id         BaseDateTime       LON        LAT  SOG  \\\n",
       "0       2       0       2-0  2016-01-01 20:53:16 -5.661688  48.435425  7.0   \n",
       "1       2       0       2-0  2016-01-01 20:53:28 -5.661258  48.435173  6.9   \n",
       "2       2       0       2-0  2016-01-01 21:33:29 -5.524507  48.398712  9.6   \n",
       "3       2       0       2-0  2016-01-01 21:33:36 -5.524189  48.398514  8.9   \n",
       "4       2       0       2-0  2016-01-01 21:33:58 -5.522910  48.398014  9.1   \n",
       "\n",
       "     COG  distanceToPort  remainingVoyageTime              x             y  \n",
       "0  113.0       70.870211          1055.216667 -630256.258586  6.179602e+06  \n",
       "1  122.5       70.842872          1055.016667 -630208.357809  6.179560e+06  \n",
       "2  105.0       62.480487          1015.000000 -614985.261596  6.173444e+06  \n",
       "3  127.1       62.460960          1014.883333 -614949.850866  6.173411e+06  \n",
       "4  128.7       62.383112          1014.516667 -614807.528897  6.173327e+06  "
      ]
     },
     "execution_count": 12,
     "metadata": {},
     "output_type": "execute_result"
    }
   ],
   "source": [
    "df.head()"
   ]
  },
  {
   "cell_type": "code",
   "execution_count": 13,
   "metadata": {
    "ExecuteTime": {
     "end_time": "2023-06-01T13:50:42.732295Z",
     "start_time": "2023-06-01T13:50:42.588525Z"
    },
    "collapsed": false
   },
   "outputs": [],
   "source": [
    "df[\"BaseDateTime\"] = pd.to_datetime(df[\"BaseDateTime\"])"
   ]
  },
  {
   "cell_type": "code",
   "execution_count": 14,
   "metadata": {
    "ExecuteTime": {
     "end_time": "2023-06-01T13:50:42.733523Z",
     "start_time": "2023-06-01T13:50:42.676667Z"
    },
    "collapsed": false
   },
   "outputs": [
    {
     "name": "stdout",
     "output_type": "stream",
     "text": [
      "<class 'pandas.core.frame.DataFrame'>\n",
      "RangeIndex: 186472 entries, 0 to 186471\n",
      "Data columns (total 12 columns):\n",
      " #   Column               Non-Null Count   Dtype         \n",
      "---  ------               --------------   -----         \n",
      " 0   vessel               186472 non-null  int64         \n",
      " 1   voyage               186472 non-null  int64         \n",
      " 2   voyage_id            186472 non-null  object        \n",
      " 3   BaseDateTime         186472 non-null  datetime64[ns]\n",
      " 4   LON                  186472 non-null  float64       \n",
      " 5   LAT                  186472 non-null  float64       \n",
      " 6   SOG                  186472 non-null  float64       \n",
      " 7   COG                  186472 non-null  float64       \n",
      " 8   distanceToPort       186472 non-null  float64       \n",
      " 9   remainingVoyageTime  186472 non-null  float64       \n",
      " 10  x                    186472 non-null  float64       \n",
      " 11  y                    186472 non-null  float64       \n",
      "dtypes: datetime64[ns](1), float64(8), int64(2), object(1)\n",
      "memory usage: 17.1+ MB\n"
     ]
    }
   ],
   "source": [
    "df.info()"
   ]
  },
  {
   "cell_type": "code",
   "execution_count": 15,
   "metadata": {
    "ExecuteTime": {
     "end_time": "2023-06-01T13:50:42.733993Z",
     "start_time": "2023-06-01T13:50:42.707346Z"
    },
    "collapsed": false
   },
   "outputs": [
    {
     "name": "stdout",
     "output_type": "stream",
     "text": [
      "Start: 2015-10-01 04:53:28\n",
      "End: 2016-03-31 17:33:42\n"
     ]
    }
   ],
   "source": [
    "print(f\"Start: {df['BaseDateTime'].min()}\")\n",
    "print(f\"End: {df['BaseDateTime'].max()}\")"
   ]
  },
  {
   "cell_type": "code",
   "execution_count": 16,
   "metadata": {
    "ExecuteTime": {
     "end_time": "2023-06-01T13:50:54.625554Z",
     "start_time": "2023-06-01T13:50:54.589561Z"
    },
    "collapsed": false
   },
   "outputs": [],
   "source": [
    "# Train -> 30/09/2015 - 1/2016;\n",
    "# Test -> 02/2016 - 03/2016\n",
    "train = df.loc[(df[\"BaseDateTime\"] >= datetime.datetime(2015, 9, 30))\n",
    "               & (df[\"BaseDateTime\"] <= datetime.datetime(2016, 1, 31))]\n",
    "val = df.loc[(df[\"BaseDateTime\"] >= datetime.datetime(2016, 1, 1))\n",
    "              & (df[\"BaseDateTime\"] <= datetime.datetime(2016, 2, 29))]\n",
    "test = df.loc[(df[\"BaseDateTime\"] >= datetime.datetime(2016, 3, 1))\n",
    "              & (df[\"BaseDateTime\"] <= datetime.datetime(2016, 3, 31))]"
   ]
  },
  {
   "cell_type": "code",
   "execution_count": 17,
   "metadata": {
    "ExecuteTime": {
     "end_time": "2023-06-01T13:51:33.246831Z",
     "start_time": "2023-06-01T13:51:33.225333Z"
    },
    "collapsed": false
   },
   "outputs": [
    {
     "data": {
      "text/html": [
       "<div>\n",
       "<style scoped>\n",
       "    .dataframe tbody tr th:only-of-type {\n",
       "        vertical-align: middle;\n",
       "    }\n",
       "\n",
       "    .dataframe tbody tr th {\n",
       "        vertical-align: top;\n",
       "    }\n",
       "\n",
       "    .dataframe thead th {\n",
       "        text-align: right;\n",
       "    }\n",
       "</style>\n",
       "<table border=\"1\" class=\"dataframe\">\n",
       "  <thead>\n",
       "    <tr style=\"text-align: right;\">\n",
       "      <th></th>\n",
       "      <th>vessel</th>\n",
       "      <th>voyage</th>\n",
       "      <th>voyage_id</th>\n",
       "      <th>BaseDateTime</th>\n",
       "      <th>LON</th>\n",
       "      <th>LAT</th>\n",
       "      <th>SOG</th>\n",
       "      <th>COG</th>\n",
       "      <th>distanceToPort</th>\n",
       "      <th>remainingVoyageTime</th>\n",
       "      <th>x</th>\n",
       "      <th>y</th>\n",
       "    </tr>\n",
       "  </thead>\n",
       "  <tbody>\n",
       "  </tbody>\n",
       "</table>\n",
       "</div>"
      ],
      "text/plain": [
       "Empty DataFrame\n",
       "Columns: [vessel, voyage, voyage_id, BaseDateTime, LON, LAT, SOG, COG, distanceToPort, remainingVoyageTime, x, y]\n",
       "Index: []"
      ]
     },
     "metadata": {},
     "output_type": "display_data"
    }
   ],
   "source": [
    "# Check if any voyage has samples outside the defined timespans\n",
    "test_voyages = test[\"voyage_id\"].unique()\n",
    "\n",
    "display(df.loc[(df[\"voyage_id\"].isin(test_voyages))\n",
    "               & (df[\"BaseDateTime\"] < datetime.datetime(2016, 3, 1))])"
   ]
  },
  {
   "attachments": {},
   "cell_type": "markdown",
   "metadata": {
    "collapsed": false
   },
   "source": [
    "- As viagens estão todas completas e só num conjunto."
   ]
  },
  {
   "cell_type": "code",
   "execution_count": 18,
   "metadata": {
    "ExecuteTime": {
     "end_time": "2023-06-01T13:52:52.818289Z",
     "start_time": "2023-06-01T13:52:50.388157Z"
    },
    "collapsed": false
   },
   "outputs": [],
   "source": [
    "train.to_csv(\"./data/3_france_train_to_fill.csv\", index=False)\n",
    "val.to_csv(\"./data/3_france_val_to_fill.csv\", index=False)\n",
    "test.to_csv(\"./data/3_france_test_to_fill.csv\", index=False)"
   ]
  }
 ],
 "metadata": {
  "kernelspec": {
   "display_name": "Python 3",
   "language": "python",
   "name": "python3"
  },
  "language_info": {
   "codemirror_mode": {
    "name": "ipython",
    "version": 3
   },
   "file_extension": ".py",
   "mimetype": "text/x-python",
   "name": "python",
   "nbconvert_exporter": "python",
   "pygments_lexer": "ipython3",
   "version": "3.12.4"
  }
 },
 "nbformat": 4,
 "nbformat_minor": 0
}
